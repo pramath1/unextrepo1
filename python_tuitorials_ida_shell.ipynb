{
 "cells": [
  {
   "cell_type": "code",
   "execution_count": 1,
   "id": "84607e51",
   "metadata": {},
   "outputs": [],
   "source": [
    "a = 10"
   ]
  },
  {
   "cell_type": "code",
   "execution_count": 2,
   "id": "10fe6300",
   "metadata": {},
   "outputs": [
    {
     "name": "stdout",
     "output_type": "stream",
     "text": [
      "10\n"
     ]
    }
   ],
   "source": [
    "print(a)\n",
    "ab = \"h\""
   ]
  },
  {
   "cell_type": "code",
   "execution_count": 3,
   "id": "aecc21b0",
   "metadata": {},
   "outputs": [],
   "source": [
    "a =  50\n",
    "a = 100\n",
    "# a holds the value of "
   ]
  },
  {
   "cell_type": "code",
   "execution_count": 4,
   "id": "4188dc0b",
   "metadata": {},
   "outputs": [
    {
     "name": "stdout",
     "output_type": "stream",
     "text": [
      "hello\n"
     ]
    }
   ],
   "source": [
    "print(a)"
   ]
  },
  {
   "cell_type": "code",
   "execution_count": 5,
   "id": "f2b883f3",
   "metadata": {},
   "outputs": [
    {
     "ename": "SyntaxError",
     "evalue": "invalid syntax (2209587670.py, line 1)",
     "output_type": "error",
     "traceback": [
      "\u001b[0;36m  Cell \u001b[0;32mIn[5], line 1\u001b[0;36m\u001b[0m\n\u001b[0;31m    print(a) --> name of the customer\u001b[0m\n\u001b[0m              ^\u001b[0m\n\u001b[0;31mSyntaxError\u001b[0m\u001b[0;31m:\u001b[0m invalid syntax\n"
     ]
    }
   ],
   "source": [
    "print(a) --> name of the customera\n",
    "print(b) --> salary of the customer "
   ]
  },
  {
   "cell_type": "code",
   "execution_count": 7,
   "id": "46e5fb05",
   "metadata": {
    "scrolled": true
   },
   "outputs": [
    {
     "ename": "SyntaxError",
     "evalue": "invalid syntax (3347002480.py, line 1)",
     "output_type": "error",
     "traceback": [
      "\u001b[0;36m  Cell \u001b[0;32mIn[7], line 1\u001b[0;36m\u001b[0m\n\u001b[0;31m    var a int\u001b[0m\n\u001b[0m        ^\u001b[0m\n\u001b[0;31mSyntaxError\u001b[0m\u001b[0;31m:\u001b[0m invalid syntax\n"
     ]
    }
   ],
   "source": [
    "var a int \n",
    "var ab sting"
   ]
  },
  {
   "cell_type": "code",
   "execution_count": 8,
   "id": "afbb9c46",
   "metadata": {
    "scrolled": true
   },
   "outputs": [
    {
     "ename": "SyntaxError",
     "evalue": "invalid syntax (2209647229.py, line 1)",
     "output_type": "error",
     "traceback": [
      "\u001b[0;36m  Cell \u001b[0;32mIn[8], line 1\u001b[0;36m\u001b[0m\n\u001b[0;31m    print(a) -->  the customerid\u001b[0m\n\u001b[0m              ^\u001b[0m\n\u001b[0;31mSyntaxError\u001b[0m\u001b[0;31m:\u001b[0m invalid syntax\n"
     ]
    }
   ],
   "source": [
    "print(a) -->  the customerid\n",
    "print(ab) --> cus name"
   ]
  },
  {
   "cell_type": "code",
   "execution_count": 9,
   "id": "64dd312e",
   "metadata": {},
   "outputs": [
    {
     "name": "stdout",
     "output_type": "stream",
     "text": [
      "a\n"
     ]
    }
   ],
   "source": [
    "lt = [1,2,\"a\",5,7]\n",
    "print(lt[2])"
   ]
  },
  {
   "cell_type": "code",
   "execution_count": 12,
   "id": "8dd6a5ac",
   "metadata": {},
   "outputs": [
    {
     "name": "stdout",
     "output_type": "stream",
     "text": [
      "['a', 5, 7, 343, 343, 343]\n"
     ]
    }
   ],
   "source": [
    "lt = [1,2,\"a\",5,7,343,343,343]\n",
    "print(lt[2:])"
   ]
  },
  {
   "cell_type": "code",
   "execution_count": 16,
   "id": "7e2b37ac",
   "metadata": {},
   "outputs": [
    {
     "ename": "NameError",
     "evalue": "name 'station' is not defined",
     "output_type": "error",
     "traceback": [
      "\u001b[0;31m---------------------------------------------------------------------------\u001b[0m",
      "\u001b[0;31mNameError\u001b[0m                                 Traceback (most recent call last)",
      "Cell \u001b[0;32mIn[16], line 3\u001b[0m\n\u001b[1;32m      1\u001b[0m data \u001b[38;5;241m=\u001b[39m {\n\u001b[1;32m      2\u001b[0m         \u001b[38;5;124m\"\u001b[39m\u001b[38;5;124mNorth\u001b[39m\u001b[38;5;124m\"\u001b[39m:{\n\u001b[0;32m----> 3\u001b[0m                 station:[\u001b[38;5;124m'\u001b[39m\u001b[38;5;124mA\u001b[39m\u001b[38;5;124m'\u001b[39m,\u001b[38;5;124m'\u001b[39m\u001b[38;5;124mB\u001b[39m\u001b[38;5;124m'\u001b[39m,\u001b[38;5;124m'\u001b[39m\u001b[38;5;124mC\u001b[39m\u001b[38;5;124m'\u001b[39m,\u001b[38;5;124m'\u001b[39m\u001b[38;5;124mD\u001b[39m\u001b[38;5;124m'\u001b[39m],\n\u001b[1;32m      4\u001b[0m                 lowFuelPrice:true,\n\u001b[1;32m      5\u001b[0m                 user_satisfaction:true,\n\u001b[1;32m      6\u001b[0m                 profit:true\n\u001b[1;32m      7\u001b[0m                 },\n\u001b[1;32m      8\u001b[0m         \u001b[38;5;124m\"\u001b[39m\u001b[38;5;124mSouth\u001b[39m\u001b[38;5;124m\"\u001b[39m:{\n\u001b[1;32m      9\u001b[0m                 station:[\u001b[38;5;124m'\u001b[39m\u001b[38;5;124mA\u001b[39m\u001b[38;5;124m'\u001b[39m,\u001b[38;5;124m'\u001b[39m\u001b[38;5;124mB\u001b[39m\u001b[38;5;124m'\u001b[39m,\u001b[38;5;124m'\u001b[39m\u001b[38;5;124mC\u001b[39m\u001b[38;5;124m'\u001b[39m,\u001b[38;5;124m'\u001b[39m\u001b[38;5;124mD\u001b[39m\u001b[38;5;124m'\u001b[39m],\n\u001b[1;32m     10\u001b[0m                 lowFuelPrice:true,\n\u001b[1;32m     11\u001b[0m                 user_satisfaction:false,\n\u001b[1;32m     12\u001b[0m                 profit:false\n\u001b[1;32m     13\u001b[0m                 },\n\u001b[1;32m     14\u001b[0m         \u001b[38;5;124m\"\u001b[39m\u001b[38;5;124mEast\u001b[39m\u001b[38;5;124m\"\u001b[39m:{\n\u001b[1;32m     15\u001b[0m                 station:[\u001b[38;5;124m'\u001b[39m\u001b[38;5;124mA\u001b[39m\u001b[38;5;124m'\u001b[39m,\u001b[38;5;124m'\u001b[39m\u001b[38;5;124mB\u001b[39m\u001b[38;5;124m'\u001b[39m,\u001b[38;5;124m'\u001b[39m\u001b[38;5;124mC\u001b[39m\u001b[38;5;124m'\u001b[39m,\u001b[38;5;124m'\u001b[39m\u001b[38;5;124mD\u001b[39m\u001b[38;5;124m'\u001b[39m],\n\u001b[1;32m     16\u001b[0m                 lowFuelPrice:false,\n\u001b[1;32m     17\u001b[0m                 user_satisfaction:true,\n\u001b[1;32m     18\u001b[0m                 profit:true\n\u001b[1;32m     19\u001b[0m                 },\n\u001b[1;32m     20\u001b[0m         \u001b[38;5;124m\"\u001b[39m\u001b[38;5;124mWest\u001b[39m\u001b[38;5;124m\"\u001b[39m:{\n\u001b[1;32m     21\u001b[0m                 station:[\u001b[38;5;124m'\u001b[39m\u001b[38;5;124mA\u001b[39m\u001b[38;5;124m'\u001b[39m,\u001b[38;5;124m'\u001b[39m\u001b[38;5;124mB\u001b[39m\u001b[38;5;124m'\u001b[39m,\u001b[38;5;124m'\u001b[39m\u001b[38;5;124mC\u001b[39m\u001b[38;5;124m'\u001b[39m,\u001b[38;5;124m'\u001b[39m\u001b[38;5;124mD\u001b[39m\u001b[38;5;124m'\u001b[39m],\n\u001b[1;32m     22\u001b[0m                 lowFuelPrice:false,\n\u001b[1;32m     23\u001b[0m                 user_satisfaction:false,\n\u001b[1;32m     24\u001b[0m                 profit:false\n\u001b[1;32m     25\u001b[0m                 }\n\u001b[1;32m     26\u001b[0m             }\n\u001b[1;32m     28\u001b[0m expenseN \u001b[38;5;241m=\u001b[39m data[\u001b[38;5;124m'\u001b[39m\u001b[38;5;124mNorth\u001b[39m\u001b[38;5;124m'\u001b[39m][\u001b[38;5;124m'\u001b[39m\u001b[38;5;124mprofit\u001b[39m\u001b[38;5;124m'\u001b[39m] \u001b[38;5;129;01mand\u001b[39;00m ((data[\u001b[38;5;124m'\u001b[39m\u001b[38;5;124mNorth\u001b[39m\u001b[38;5;124m'\u001b[39m][\u001b[38;5;124m'\u001b[39m\u001b[38;5;124mlowFuelPrice\u001b[39m\u001b[38;5;124m'\u001b[39m]) \u001b[38;5;129;01mor\u001b[39;00m (data[\u001b[38;5;124m'\u001b[39m\u001b[38;5;124mNorth\u001b[39m\u001b[38;5;124m'\u001b[39m][\u001b[38;5;124m'\u001b[39m\u001b[38;5;124muser_satisfaction\u001b[39m\u001b[38;5;124m'\u001b[39m]));\n\u001b[1;32m     30\u001b[0m expenseS \u001b[38;5;241m=\u001b[39m data[\u001b[38;5;124m'\u001b[39m\u001b[38;5;124mSouth\u001b[39m\u001b[38;5;124m'\u001b[39m][\u001b[38;5;124m'\u001b[39m\u001b[38;5;124mprofit\u001b[39m\u001b[38;5;124m'\u001b[39m] \u001b[38;5;129;01mand\u001b[39;00m ((data[\u001b[38;5;124m'\u001b[39m\u001b[38;5;124mSouth\u001b[39m\u001b[38;5;124m'\u001b[39m][\u001b[38;5;124m'\u001b[39m\u001b[38;5;124mlowFuelPrice\u001b[39m\u001b[38;5;124m'\u001b[39m]) \u001b[38;5;129;01mor\u001b[39;00m (data[\u001b[38;5;124m'\u001b[39m\u001b[38;5;124mSouth\u001b[39m\u001b[38;5;124m'\u001b[39m][\u001b[38;5;124m'\u001b[39m\u001b[38;5;124muser_satisfaction\u001b[39m\u001b[38;5;124m'\u001b[39m]));\n",
      "\u001b[0;31mNameError\u001b[0m: name 'station' is not defined"
     ]
    }
   ],
   "source": [
    "data = {\n",
    "        \"North\":{\n",
    "                station:['A','B','C','D'],\n",
    "                lowFuelPrice:true,\n",
    "                user_satisfaction:true,\n",
    "                profit:true\n",
    "                },\n",
    "        \"South\":{\n",
    "                station:['A','B','C','D'],\n",
    "                lowFuelPrice:true,\n",
    "                user_satisfaction:false,\n",
    "                profit:false\n",
    "                },\n",
    "        \"East\":{\n",
    "                station:['A','B','C','D'],\n",
    "                lowFuelPrice:false,\n",
    "                user_satisfaction:true,\n",
    "                profit:true\n",
    "                },\n",
    "        \"West\":{\n",
    "                station:['A','B','C','D'],\n",
    "                lowFuelPrice:false,\n",
    "                user_satisfaction:false,\n",
    "                profit:false\n",
    "                }\n",
    "            }\n",
    "\n",
    "expenseN = data[\"North\"]['profit'] and ((data['North']['lowFuelPrice']) or (data['North']['user_satisfaction']));\n",
    "\n",
    "expenseS = data[\"South\"]['profit'] and ((data['South']['lowFuelPrice']) or (data['South']['user_satisfaction']));\n",
    "\n",
    "expenseE = data['East']['profit'] and ((data['East']['lowFuelPrice']) or (data['East']['user_satisfaction']));\n",
    "\n",
    "expenseW = data['West']['profit'] and ((data['West']['lowFuelPrice']) or (data['West']['user_satisfaction']));\n",
    "\n",
    "if (expenseN):\n",
    "        data['North']['station'][5] = 'E' ;\n",
    "    \n",
    "if(expenseS):\n",
    "    data['South']['station'][5] = 'E' ;\n",
    "    \n",
    "if(expenseE):\n",
    "    data['East']['station'][5] = 'E' ;\n",
    "    \n",
    "if(expenseW):\n",
    "    data['West']['station'][5] = 'E' ;\n",
    "    \n"
   ]
  },
  {
   "cell_type": "code",
   "execution_count": 11,
   "id": "f13b9cb3",
   "metadata": {},
   "outputs": [],
   "source": [
    "data = {\n",
    "        \"north\" : \"test\"\n",
    "            }"
   ]
  },
  {
   "cell_type": "code",
   "execution_count": 2,
   "id": "76f9f97f",
   "metadata": {},
   "outputs": [],
   "source": [
    "# formula to find volume of gas PV = nRT function takes pressure,gas Constant and Temperature in SI Unit and returns Volume in SI Unit\n",
    "volume = lambda pressure,gas_constant,temp : (gas_constant * temp)/(pressure * 1.0)"
   ]
  },
  {
   "cell_type": "code",
   "execution_count": 5,
   "id": "6074970d",
   "metadata": {},
   "outputs": [
    {
     "name": "stdout",
     "output_type": "stream",
     "text": [
      "2269.722 m^3\n"
     ]
    }
   ],
   "source": [
    "print(str(volume(1,8.314,273))+\" m^3\")"
   ]
  },
  {
   "cell_type": "code",
   "execution_count": 6,
   "id": "34264504",
   "metadata": {},
   "outputs": [],
   "source": [
    "# formula to find mass of gas m = volume * density \n",
    "mass = lambda density,pressure,gas_constant,temp: density * volume(pressure,gas_constant,temp)"
   ]
  },
  {
   "cell_type": "code",
   "execution_count": 8,
   "id": "cc12f028",
   "metadata": {},
   "outputs": [
    {
     "name": "stdout",
     "output_type": "stream",
     "text": [
      "3.4045830000000006 kg\n"
     ]
    }
   ],
   "source": [
    "print(str(mass(1.5,1,8.314,273)/1000)+\" kg\")"
   ]
  },
  {
   "cell_type": "code",
   "execution_count": 11,
   "id": "49347891",
   "metadata": {},
   "outputs": [],
   "source": [
    "# Functions\n",
    "def volume1(pressure,gas_constant,temp):\n",
    "    \"\"\"\n",
    "        19/09/2023 - Biki Kumar - Created a function to calculate volume of the gas.\n",
    "        Calculate the volume of the gas using ideal gas equation PV = nRT\n",
    "        Args:\n",
    "            pressure (float): Pressure in Pascals (Pa)\n",
    "            temperature (float): Temperature in Kelvin (K)\n",
    "            gas_constant (float) : Gas Constant for specific gas.\n",
    "        Returns:\n",
    "            float: Volume in cubic meters (m^3).\n",
    "    \"\"\"\n",
    "    return (gas_constant * temp)/(pressure * 1.0)\n",
    "\n",
    "def mass1(density,pressure,gas_constant,temp):\n",
    "    \"\"\"\n",
    "        19/09/2023 - Biki Kumar - Created a function to calculate volume of the gas.\n",
    "        Calculate the volume of the gas using formula mass = density * Volume\n",
    "        Args:\n",
    "            density (float): Density in Kg/m^3\n",
    "            pressure (float): Pressure in Pascals (Pa)\n",
    "            temperature (float): Temperature in Kelvin (K)\n",
    "            gas_constant (float) : Gas Constant for specific gas.\n",
    "        Returns:\n",
    "            float: mass in grams (gm).\n",
    "    \"\"\"\n",
    "    return density * volume1(pressure,gas_constant,temp)"
   ]
  },
  {
   "cell_type": "code",
   "execution_count": 13,
   "id": "d89a0ea1",
   "metadata": {},
   "outputs": [
    {
     "name": "stdout",
     "output_type": "stream",
     "text": [
      "2269.722 m^3\n",
      "3.4045830000000006 kg\n"
     ]
    }
   ],
   "source": [
    "print(str(volume(1,8.314,273))+\" m^3\")\n",
    "print(str(mass1(1.5,1,8.314,273)/1000)+\" kg\")"
   ]
  },
  {
   "cell_type": "code",
   "execution_count": 14,
   "id": "975c17b5",
   "metadata": {},
   "outputs": [],
   "source": [
    "# Recursion\n",
    "def factorial(n):\n",
    "    if n == 0:\n",
    "        return 1\n",
    "    else :\n",
    "        return n * factorial(n-1)"
   ]
  },
  {
   "cell_type": "code",
   "execution_count": 15,
   "id": "66fb92c4",
   "metadata": {},
   "outputs": [
    {
     "data": {
      "text/plain": [
       "3628800"
      ]
     },
     "execution_count": 15,
     "metadata": {},
     "output_type": "execute_result"
    }
   ],
   "source": [
    "factorial(10)"
   ]
  },
  {
   "cell_type": "code",
   "execution_count": 16,
   "id": "af8d08d4",
   "metadata": {},
   "outputs": [],
   "source": [
    "def calculate_total_depth(segments):\n",
    "    if not segments:\n",
    "        return 0\n",
    "    else:\n",
    "        curr_seg_depth=segments[0]\n",
    "        remaining_seg = segments[1:]\n",
    "        return curr_seg_depth + calculate_total_depth(remaining_seg)"
   ]
  },
  {
   "cell_type": "code",
   "execution_count": 18,
   "id": "63fc265e",
   "metadata": {},
   "outputs": [
    {
     "data": {
      "text/plain": [
       "10"
      ]
     },
     "execution_count": 18,
     "metadata": {},
     "output_type": "execute_result"
    }
   ],
   "source": [
    "calculate_total_depth([1,2,3,4])"
   ]
  },
  {
   "cell_type": "code",
   "execution_count": 20,
   "id": "4f13195d",
   "metadata": {},
   "outputs": [
    {
     "ename": "TypeError",
     "evalue": "can only concatenate str (not \"int\") to str",
     "output_type": "error",
     "traceback": [
      "\u001b[0;31m---------------------------------------------------------------------------\u001b[0m",
      "\u001b[0;31mTypeError\u001b[0m                                 Traceback (most recent call last)",
      "Cell \u001b[0;32mIn[20], line 1\u001b[0m\n\u001b[0;32m----> 1\u001b[0m calculate_total_depth(\u001b[38;5;124m\"\u001b[39m\u001b[38;5;124mHello World\u001b[39m\u001b[38;5;124m\"\u001b[39m)\n",
      "Cell \u001b[0;32mIn[16], line 7\u001b[0m, in \u001b[0;36mcalculate_total_depth\u001b[0;34m(segments)\u001b[0m\n\u001b[1;32m      5\u001b[0m curr_seg_depth\u001b[38;5;241m=\u001b[39msegments[\u001b[38;5;241m0\u001b[39m]\n\u001b[1;32m      6\u001b[0m remaining_seg \u001b[38;5;241m=\u001b[39m segments[\u001b[38;5;241m1\u001b[39m:]\n\u001b[0;32m----> 7\u001b[0m \u001b[38;5;28;01mreturn\u001b[39;00m curr_seg_depth \u001b[38;5;241m+\u001b[39m calculate_total_depth(remaining_seg)\n",
      "Cell \u001b[0;32mIn[16], line 7\u001b[0m, in \u001b[0;36mcalculate_total_depth\u001b[0;34m(segments)\u001b[0m\n\u001b[1;32m      5\u001b[0m curr_seg_depth\u001b[38;5;241m=\u001b[39msegments[\u001b[38;5;241m0\u001b[39m]\n\u001b[1;32m      6\u001b[0m remaining_seg \u001b[38;5;241m=\u001b[39m segments[\u001b[38;5;241m1\u001b[39m:]\n\u001b[0;32m----> 7\u001b[0m \u001b[38;5;28;01mreturn\u001b[39;00m curr_seg_depth \u001b[38;5;241m+\u001b[39m calculate_total_depth(remaining_seg)\n",
      "    \u001b[0;31m[... skipping similar frames: calculate_total_depth at line 7 (8 times)]\u001b[0m\n",
      "Cell \u001b[0;32mIn[16], line 7\u001b[0m, in \u001b[0;36mcalculate_total_depth\u001b[0;34m(segments)\u001b[0m\n\u001b[1;32m      5\u001b[0m curr_seg_depth\u001b[38;5;241m=\u001b[39msegments[\u001b[38;5;241m0\u001b[39m]\n\u001b[1;32m      6\u001b[0m remaining_seg \u001b[38;5;241m=\u001b[39m segments[\u001b[38;5;241m1\u001b[39m:]\n\u001b[0;32m----> 7\u001b[0m \u001b[38;5;28;01mreturn\u001b[39;00m curr_seg_depth \u001b[38;5;241m+\u001b[39m calculate_total_depth(remaining_seg)\n",
      "\u001b[0;31mTypeError\u001b[0m: can only concatenate str (not \"int\") to str"
     ]
    }
   ],
   "source": [
    "calculate_total_depth(\"Hello World\")"
   ]
  },
  {
   "cell_type": "code",
   "execution_count": 22,
   "id": "4a7de63e",
   "metadata": {},
   "outputs": [],
   "source": [
    "a=\"Hello world\""
   ]
  },
  {
   "cell_type": "code",
   "execution_count": 23,
   "id": "5eee4db7",
   "metadata": {},
   "outputs": [
    {
     "name": "stdout",
     "output_type": "stream",
     "text": [
      "H\n"
     ]
    }
   ],
   "source": [
    "b=a[0]\n",
    "print(b)"
   ]
  },
  {
   "cell_type": "code",
   "execution_count": 24,
   "id": "cd7e5e26",
   "metadata": {},
   "outputs": [],
   "source": [
    "#Generator Function\n",
    "def generate_squares(n):\n",
    "    for i in range(1,n+1):\n",
    "        yield i ** 2\n"
   ]
  },
  {
   "cell_type": "code",
   "execution_count": 29,
   "id": "611d4ff5",
   "metadata": {},
   "outputs": [
    {
     "name": "stdout",
     "output_type": "stream",
     "text": [
      "1\n",
      "4\n",
      "9\n",
      "16\n",
      "25\n",
      "36\n",
      "49\n",
      "64\n",
      "81\n",
      "100\n"
     ]
    }
   ],
   "source": [
    "for i in generate_squares(10):\n",
    "    print(i)"
   ]
  },
  {
   "cell_type": "code",
   "execution_count": 25,
   "id": "f21ac46b",
   "metadata": {},
   "outputs": [
    {
     "name": "stdout",
     "output_type": "stream",
     "text": [
      "range(1, 4)\n"
     ]
    }
   ],
   "source": [
    "a=range(1,4)\n",
    "\n",
    "print(a)"
   ]
  },
  {
   "cell_type": "code",
   "execution_count": 27,
   "id": "8fb53e48",
   "metadata": {},
   "outputs": [
    {
     "name": "stdout",
     "output_type": "stream",
     "text": [
      "1\n",
      "2\n",
      "3\n"
     ]
    }
   ],
   "source": [
    "for i in a:\n",
    "    print (i)"
   ]
  },
  {
   "cell_type": "code",
   "execution_count": 30,
   "id": "faf28fda",
   "metadata": {},
   "outputs": [],
   "source": [
    "def oil_production_m(yearly_value):\n",
    "    months = [\"January\",\"February\",\"March\",\"April\",\"May\",\"June\",\"July\",\"August\",\"September\",\"October\",\"November\",\"December\"]\n",
    "    monthly_oil_prod = yearly_value/12\n",
    "    for month in months:\n",
    "        yield month,monthly_oil_prod"
   ]
  },
  {
   "cell_type": "code",
   "execution_count": 31,
   "id": "7a99fd8c",
   "metadata": {},
   "outputs": [
    {
     "name": "stdout",
     "output_type": "stream",
     "text": [
      "January : 1000.0\n",
      "February : 1000.0\n",
      "March : 1000.0\n",
      "April : 1000.0\n",
      "May : 1000.0\n",
      "June : 1000.0\n",
      "July : 1000.0\n",
      "August : 1000.0\n",
      "September : 1000.0\n",
      "October : 1000.0\n",
      "November : 1000.0\n",
      "December : 1000.0\n"
     ]
    }
   ],
   "source": [
    "for month,production in oil_production_m(12000):\n",
    "    print(f\"{month} : {production}\")"
   ]
  },
  {
   "cell_type": "code",
   "execution_count": 32,
   "id": "c65cf634",
   "metadata": {},
   "outputs": [],
   "source": [
    "#Decorator Function\n",
    "def my_decorator(fun):\n",
    "    def wrapper():\n",
    "        print(\"I am Starting\")\n",
    "        fun()\n",
    "        print(\"I am Completed\")\n",
    "    return wrapper"
   ]
  },
  {
   "cell_type": "code",
   "execution_count": 34,
   "id": "3c4a79f9",
   "metadata": {},
   "outputs": [],
   "source": [
    "@my_decorator\n",
    "def ida_hello():\n",
    "    print(\"Hello\")"
   ]
  },
  {
   "cell_type": "code",
   "execution_count": 35,
   "id": "d5dfc30a",
   "metadata": {},
   "outputs": [
    {
     "name": "stdout",
     "output_type": "stream",
     "text": [
      "I am Starting\n",
      "Hello\n",
      "I am Completed\n"
     ]
    }
   ],
   "source": [
    "ida_hello()"
   ]
  },
  {
   "cell_type": "code",
   "execution_count": 42,
   "id": "494651ef",
   "metadata": {},
   "outputs": [],
   "source": [
    "import logging\n",
    "def my_dec01(fun):\n",
    "    def wrapper():\n",
    "        logging.warning(f\"Calling the function : {fun.__name__}\")\n",
    "        result = fun(*args,**kwargs)\n",
    "        logging.warning(f\"{fun.__name__} Completed\")\n",
    "    return wrapper\n",
    "@my_dec01\n",
    "def calculate_total_depth(segments):\n",
    "    if not segments:\n",
    "        return 0\n",
    "    else:\n",
    "        curr_seg_depth = segments[0]\n",
    "        remaining_seg = segments[1:]\n",
    "        return curr_seg_depth + calculate_total_depth(remaining_seg)"
   ]
  },
  {
   "cell_type": "code",
   "execution_count": 41,
   "id": "39c88646",
   "metadata": {},
   "outputs": [
    {
     "ename": "TypeError",
     "evalue": "my_dec01.<locals>.wrapper() takes 0 positional arguments but 1 was given",
     "output_type": "error",
     "traceback": [
      "\u001b[0;31m---------------------------------------------------------------------------\u001b[0m",
      "\u001b[0;31mTypeError\u001b[0m                                 Traceback (most recent call last)",
      "Cell \u001b[0;32mIn[41], line 1\u001b[0m\n\u001b[0;32m----> 1\u001b[0m test \u001b[38;5;241m=\u001b[39m calculate_total_depth([\u001b[38;5;241m100\u001b[39m,\u001b[38;5;241m200\u001b[39m,\u001b[38;5;241m200\u001b[39m])\n\u001b[1;32m      2\u001b[0m \u001b[38;5;28mprint\u001b[39m(test)\n",
      "\u001b[0;31mTypeError\u001b[0m: my_dec01.<locals>.wrapper() takes 0 positional arguments but 1 was given"
     ]
    }
   ],
   "source": [
    "test = calculate_total_depth([100,200,200])\n",
    "print(test)"
   ]
  },
  {
   "cell_type": "code",
   "execution_count": 43,
   "id": "3abce1d5",
   "metadata": {},
   "outputs": [],
   "source": [
    "def calculate_energy_content(composition):\n",
    "    lhv = 0\n",
    "    for gas,percentage in composition.items():\n",
    "        #LHV values for common gases (in J/kg)\n",
    "        lhv_values = {\n",
    "            \"methane\":50000,\n",
    "            \"ethane\":48000,\n",
    "            \"propane\":46000,\n",
    "            \"butane\":45000\n",
    "        }\n",
    "        if gas in lhv_values:\n",
    "            lhv += lhv_values[gas] * (percentage / 100)\n",
    "    return lhv\n",
    "\n"
   ]
  },
  {
   "cell_type": "code",
   "execution_count": null,
   "id": "4d8abf08",
   "metadata": {},
   "outputs": [],
   "source": [
    "gas_compostion = {\"methane\":80,\"ethane\":10,\"propane\":5,\"butane\":5}\n"
   ]
  },
  {
   "cell_type": "code",
   "execution_count": 1,
   "id": "3f8c1d9e",
   "metadata": {},
   "outputs": [],
   "source": [
    "# Class\n",
    "class Person:\n",
    "    def __init__(self,name,age):\n",
    "        self.name = name\n",
    "        self.age = age\n",
    "    \n",
    "    def greet(self):\n",
    "        return f\"Hello my name is {self.name} and I am {self.age} year old\"\n",
    "    \n",
    "    def have_birthday(self):\n",
    "        self.age += 1\n",
    "        return f\"Happy bithday to {self.name}! They are now {self.age} years old\""
   ]
  },
  {
   "cell_type": "code",
   "execution_count": 2,
   "id": "b2377283",
   "metadata": {},
   "outputs": [],
   "source": [
    "# Object Creation\n",
    "abc = Person(\"abc\",20)"
   ]
  },
  {
   "cell_type": "code",
   "execution_count": 3,
   "id": "599d116f",
   "metadata": {},
   "outputs": [
    {
     "name": "stdout",
     "output_type": "stream",
     "text": [
      "Hello my name is abc and I am 20 year old\n"
     ]
    }
   ],
   "source": [
    "print(abc.greet())"
   ]
  },
  {
   "cell_type": "code",
   "execution_count": 4,
   "id": "ef616ae5",
   "metadata": {},
   "outputs": [
    {
     "name": "stdout",
     "output_type": "stream",
     "text": [
      "abc\n"
     ]
    }
   ],
   "source": [
    "print(abc.name)"
   ]
  },
  {
   "cell_type": "code",
   "execution_count": 15,
   "id": "f7d18155",
   "metadata": {},
   "outputs": [],
   "source": [
    "class PetroChemical:\n",
    "    def __init__(self,density,pressure,gas_constant,Temperature):\n",
    "        self.density = density\n",
    "        self.pressure = pressure\n",
    "        self.gas_constant = gas_constant\n",
    "        self.Temperature = Temperature\n",
    "    \n",
    "    def volume1(self):\n",
    "        \"\"\"\n",
    "        19/09/2023 - Biki Kumar - Created a function to calculate volume of the gas.\n",
    "        Calculate the volume of the gas using ideal gas equation PV = nRT\n",
    "        Args:\n",
    "            pressure (float): Pressure in Pascals (Pa)\n",
    "            temperature (float): Temperature in Kelvin (K)\n",
    "            gas_constant (float) : Gas Constant for specific gas.\n",
    "        Returns:\n",
    "            float: Volume in cubic meters (m^3).\n",
    "        \"\"\"\n",
    "        return (self.gas_constant * self.Temperature)/(self.pressure * 1.0)\n",
    "\n",
    "    def mass1(self):\n",
    "        \"\"\"\n",
    "        19/09/2023 - Biki Kumar - Created a function to calculate volume of the gas.\n",
    "        Calculate the volume of the gas using formula mass = density * Volume\n",
    "        Args:\n",
    "            density (float): Density in Kg/m^3\n",
    "            pressure (float): Pressure in Pascals (Pa)\n",
    "            temperature (float): Temperature in Kelvin (K)\n",
    "            gas_constant (float) : Gas Constant for specific gas.\n",
    "        Returns:\n",
    "            float: mass in grams (gm).\n",
    "        \"\"\"\n",
    "        return self.density * ((self.gas_constant * self.Temperature)/(self.pressure * 1.0))\n",
    "    \n",
    "    "
   ]
  },
  {
   "cell_type": "code",
   "execution_count": 16,
   "id": "1018aaab",
   "metadata": {},
   "outputs": [],
   "source": [
    "oil = PetroChemical(1.5,1,8.314,273)"
   ]
  },
  {
   "cell_type": "code",
   "execution_count": 19,
   "id": "53ef68b3",
   "metadata": {},
   "outputs": [
    {
     "name": "stdout",
     "output_type": "stream",
     "text": [
      "2269.722 m^3\n"
     ]
    }
   ],
   "source": [
    "print(str(oil.volume1()) +\" m^3\")"
   ]
  },
  {
   "cell_type": "code",
   "execution_count": 20,
   "id": "c27240f2",
   "metadata": {},
   "outputs": [
    {
     "name": "stdout",
     "output_type": "stream",
     "text": [
      "3.4045830000000006 KG\n"
     ]
    }
   ],
   "source": [
    "print(str(oil.mass1()/1000)+ \" KG\")"
   ]
  },
  {
   "cell_type": "code",
   "execution_count": 24,
   "id": "29708b4e",
   "metadata": {},
   "outputs": [
    {
     "name": "stdout",
     "output_type": "stream",
     "text": [
      "1695113486.1308672\n",
      "19-09-2023\n"
     ]
    }
   ],
   "source": [
    "# Timestamp Formatting\n",
    "import time\n",
    "curr_time = time.time()\n",
    "print(curr_time)\n",
    "\n",
    "test = datetime.fromtimestamp(curr_time).strftime('%d-%m-%Y')\n",
    "print(test)"
   ]
  },
  {
   "cell_type": "code",
   "execution_count": 23,
   "id": "de442e82",
   "metadata": {},
   "outputs": [
    {
     "name": "stdout",
     "output_type": "stream",
     "text": [
      "2023-09-19 08:47:08.231609\n"
     ]
    }
   ],
   "source": [
    "from datetime import datetime\n",
    "curr_datetime = datetime.now()\n",
    "print(curr_datetime)"
   ]
  },
  {
   "cell_type": "code",
   "execution_count": 27,
   "id": "bea49cc9",
   "metadata": {},
   "outputs": [
    {
     "name": "stdout",
     "output_type": "stream",
     "text": [
      "19 Sep,2023\n"
     ]
    }
   ],
   "source": [
    "print(curr_datetime.strftime(\"%d %h,%Y\"))"
   ]
  },
  {
   "cell_type": "code",
   "execution_count": 30,
   "id": "927f585a",
   "metadata": {},
   "outputs": [
    {
     "name": "stdout",
     "output_type": "stream",
     "text": [
      "Error : Someone divided by zero\n",
      "Executed\n"
     ]
    }
   ],
   "source": [
    "#Exception Handling\n",
    "a = 10\n",
    "b = 0\n",
    "try:\n",
    "    result = a/b\n",
    "    print(result)\n",
    "except ZeroDivisionError:\n",
    "    print(\"Error : Someone divided by zero\")\n",
    "finally:\n",
    "    print(\"Executed\")"
   ]
  },
  {
   "cell_type": "code",
   "execution_count": 31,
   "id": "05dab427",
   "metadata": {},
   "outputs": [
    {
     "name": "stdout",
     "output_type": "stream",
     "text": [
      "[1, 4, 9, 16, 25]\n"
     ]
    }
   ],
   "source": [
    "# Syntax of list comprehension\n",
    "# new_list = [expression for i in iterable if condition]\n",
    "a = []\n",
    "for i in range(1,6):\n",
    "    a.append(i**2)\n",
    "print(a)"
   ]
  },
  {
   "cell_type": "code",
   "execution_count": 32,
   "id": "716aab99",
   "metadata": {},
   "outputs": [
    {
     "name": "stdout",
     "output_type": "stream",
     "text": [
      "[1, 4, 9, 16, 25]\n"
     ]
    }
   ],
   "source": [
    "a = [i**2 for i in range(1,6)]\n",
    "print(a)"
   ]
  },
  {
   "cell_type": "code",
   "execution_count": 34,
   "id": "b82c8e4c",
   "metadata": {},
   "outputs": [
    {
     "name": "stdout",
     "output_type": "stream",
     "text": [
      "[0, 2, 4, 6, 8]\n"
     ]
    }
   ],
   "source": [
    "even_number = []\n",
    "for i in range(0,10):\n",
    "    if(i%2==0):\n",
    "        even_number.append(i)\n",
    "print(even_number)"
   ]
  },
  {
   "cell_type": "code",
   "execution_count": 33,
   "id": "5349fedb",
   "metadata": {},
   "outputs": [
    {
     "name": "stdout",
     "output_type": "stream",
     "text": [
      "[0, 2, 4, 6, 8]\n"
     ]
    }
   ],
   "source": [
    "even = [i for i in range(0,10) if i%2 ==0]\n",
    "print(even)"
   ]
  },
  {
   "cell_type": "code",
   "execution_count": 35,
   "id": "dc0467c2",
   "metadata": {},
   "outputs": [],
   "source": [
    "#Lambda Function\n",
    "add = lambda a,b:a+b"
   ]
  },
  {
   "cell_type": "code",
   "execution_count": 36,
   "id": "54ccaaec",
   "metadata": {},
   "outputs": [
    {
     "name": "stdout",
     "output_type": "stream",
     "text": [
      "8\n"
     ]
    }
   ],
   "source": [
    "print(add(5,3))"
   ]
  },
  {
   "cell_type": "markdown",
   "id": "62dd7952",
   "metadata": {},
   "source": [
    "# Pandas"
   ]
  },
  {
   "cell_type": "code",
   "execution_count": 16,
   "id": "e003b3c5",
   "metadata": {},
   "outputs": [],
   "source": [
    "# data frames\n",
    "data = {\"orange\":[\"kashmir\",\"ooty\",\"bglr\"],'apples':['chennai',\"delhi\",\"kodai\"]}"
   ]
  },
  {
   "cell_type": "code",
   "execution_count": 17,
   "id": "501479bb",
   "metadata": {},
   "outputs": [
    {
     "name": "stdout",
     "output_type": "stream",
     "text": [
      "{'orange': ['kashmir', 'ooty', 'bglr'], 'apples': ['chennai', 'delhi', 'kodai']}\n"
     ]
    }
   ],
   "source": [
    "print(data)"
   ]
  },
  {
   "cell_type": "code",
   "execution_count": 18,
   "id": "44d20ff3",
   "metadata": {},
   "outputs": [],
   "source": [
    "import pandas as pd"
   ]
  },
  {
   "cell_type": "code",
   "execution_count": 19,
   "id": "1ba20a63",
   "metadata": {},
   "outputs": [],
   "source": [
    "fruit_df = pd.DataFrame(data)"
   ]
  },
  {
   "cell_type": "code",
   "execution_count": 20,
   "id": "574c7135",
   "metadata": {},
   "outputs": [
    {
     "data": {
      "text/html": [
       "<div>\n",
       "<style scoped>\n",
       "    .dataframe tbody tr th:only-of-type {\n",
       "        vertical-align: middle;\n",
       "    }\n",
       "\n",
       "    .dataframe tbody tr th {\n",
       "        vertical-align: top;\n",
       "    }\n",
       "\n",
       "    .dataframe thead th {\n",
       "        text-align: right;\n",
       "    }\n",
       "</style>\n",
       "<table border=\"1\" class=\"dataframe\">\n",
       "  <thead>\n",
       "    <tr style=\"text-align: right;\">\n",
       "      <th></th>\n",
       "      <th>orange</th>\n",
       "      <th>apples</th>\n",
       "    </tr>\n",
       "  </thead>\n",
       "  <tbody>\n",
       "    <tr>\n",
       "      <th>0</th>\n",
       "      <td>kashmir</td>\n",
       "      <td>chennai</td>\n",
       "    </tr>\n",
       "    <tr>\n",
       "      <th>1</th>\n",
       "      <td>ooty</td>\n",
       "      <td>delhi</td>\n",
       "    </tr>\n",
       "    <tr>\n",
       "      <th>2</th>\n",
       "      <td>bglr</td>\n",
       "      <td>kodai</td>\n",
       "    </tr>\n",
       "  </tbody>\n",
       "</table>\n",
       "</div>"
      ],
      "text/plain": [
       "    orange   apples\n",
       "0  kashmir  chennai\n",
       "1     ooty    delhi\n",
       "2     bglr    kodai"
      ]
     },
     "execution_count": 20,
     "metadata": {},
     "output_type": "execute_result"
    }
   ],
   "source": [
    "fruit_df.head()"
   ]
  },
  {
   "cell_type": "code",
   "execution_count": 21,
   "id": "e4356203",
   "metadata": {},
   "outputs": [],
   "source": [
    "fruit_df = pd.DataFrame(data,index=[\"jan\",\"feb\",\"mar\"])"
   ]
  },
  {
   "cell_type": "code",
   "execution_count": 22,
   "id": "227eb99e",
   "metadata": {},
   "outputs": [
    {
     "data": {
      "text/html": [
       "<div>\n",
       "<style scoped>\n",
       "    .dataframe tbody tr th:only-of-type {\n",
       "        vertical-align: middle;\n",
       "    }\n",
       "\n",
       "    .dataframe tbody tr th {\n",
       "        vertical-align: top;\n",
       "    }\n",
       "\n",
       "    .dataframe thead th {\n",
       "        text-align: right;\n",
       "    }\n",
       "</style>\n",
       "<table border=\"1\" class=\"dataframe\">\n",
       "  <thead>\n",
       "    <tr style=\"text-align: right;\">\n",
       "      <th></th>\n",
       "      <th>orange</th>\n",
       "      <th>apples</th>\n",
       "    </tr>\n",
       "  </thead>\n",
       "  <tbody>\n",
       "    <tr>\n",
       "      <th>jan</th>\n",
       "      <td>kashmir</td>\n",
       "      <td>chennai</td>\n",
       "    </tr>\n",
       "    <tr>\n",
       "      <th>feb</th>\n",
       "      <td>ooty</td>\n",
       "      <td>delhi</td>\n",
       "    </tr>\n",
       "    <tr>\n",
       "      <th>mar</th>\n",
       "      <td>bglr</td>\n",
       "      <td>kodai</td>\n",
       "    </tr>\n",
       "  </tbody>\n",
       "</table>\n",
       "</div>"
      ],
      "text/plain": [
       "      orange   apples\n",
       "jan  kashmir  chennai\n",
       "feb     ooty    delhi\n",
       "mar     bglr    kodai"
      ]
     },
     "execution_count": 22,
     "metadata": {},
     "output_type": "execute_result"
    }
   ],
   "source": [
    "fruit_df.head()"
   ]
  },
  {
   "cell_type": "code",
   "execution_count": 23,
   "id": "b1e2f854",
   "metadata": {},
   "outputs": [
    {
     "data": {
      "text/plain": [
       "orange     ooty\n",
       "apples    delhi\n",
       "Name: feb, dtype: object"
      ]
     },
     "execution_count": 23,
     "metadata": {},
     "output_type": "execute_result"
    }
   ],
   "source": [
    "fruit_df.loc['feb']"
   ]
  },
  {
   "cell_type": "code",
   "execution_count": 24,
   "id": "485c43ad",
   "metadata": {},
   "outputs": [],
   "source": [
    "movieDf = pd.read_csv(\"/home/labuser/Downloads/Pandas_datasets/IMDB-Movie-Data.csv\",index_col=0)"
   ]
  },
  {
   "cell_type": "code",
   "execution_count": 25,
   "id": "c15428e6",
   "metadata": {},
   "outputs": [
    {
     "data": {
      "text/html": [
       "<div>\n",
       "<style scoped>\n",
       "    .dataframe tbody tr th:only-of-type {\n",
       "        vertical-align: middle;\n",
       "    }\n",
       "\n",
       "    .dataframe tbody tr th {\n",
       "        vertical-align: top;\n",
       "    }\n",
       "\n",
       "    .dataframe thead th {\n",
       "        text-align: right;\n",
       "    }\n",
       "</style>\n",
       "<table border=\"1\" class=\"dataframe\">\n",
       "  <thead>\n",
       "    <tr style=\"text-align: right;\">\n",
       "      <th></th>\n",
       "      <th>Title</th>\n",
       "      <th>Genre</th>\n",
       "      <th>Description</th>\n",
       "      <th>Director</th>\n",
       "      <th>Actors</th>\n",
       "      <th>Year</th>\n",
       "      <th>Runtime (Minutes)</th>\n",
       "      <th>Rating</th>\n",
       "      <th>Votes</th>\n",
       "      <th>Revenue (Millions)</th>\n",
       "      <th>Metascore</th>\n",
       "    </tr>\n",
       "    <tr>\n",
       "      <th>Rank</th>\n",
       "      <th></th>\n",
       "      <th></th>\n",
       "      <th></th>\n",
       "      <th></th>\n",
       "      <th></th>\n",
       "      <th></th>\n",
       "      <th></th>\n",
       "      <th></th>\n",
       "      <th></th>\n",
       "      <th></th>\n",
       "      <th></th>\n",
       "    </tr>\n",
       "  </thead>\n",
       "  <tbody>\n",
       "    <tr>\n",
       "      <th>1</th>\n",
       "      <td>Guardians of the Galaxy</td>\n",
       "      <td>Action,Adventure,Sci-Fi</td>\n",
       "      <td>A group of intergalactic criminals are forced ...</td>\n",
       "      <td>James Gunn</td>\n",
       "      <td>Chris Pratt, Vin Diesel, Bradley Cooper, Zoe S...</td>\n",
       "      <td>2014</td>\n",
       "      <td>121</td>\n",
       "      <td>8.1</td>\n",
       "      <td>757074</td>\n",
       "      <td>333.13</td>\n",
       "      <td>76.0</td>\n",
       "    </tr>\n",
       "    <tr>\n",
       "      <th>2</th>\n",
       "      <td>Prometheus</td>\n",
       "      <td>Adventure,Mystery,Sci-Fi</td>\n",
       "      <td>Following clues to the origin of mankind, a te...</td>\n",
       "      <td>Ridley Scott</td>\n",
       "      <td>Noomi Rapace, Logan Marshall-Green, Michael Fa...</td>\n",
       "      <td>2012</td>\n",
       "      <td>124</td>\n",
       "      <td>7.0</td>\n",
       "      <td>485820</td>\n",
       "      <td>126.46</td>\n",
       "      <td>65.0</td>\n",
       "    </tr>\n",
       "    <tr>\n",
       "      <th>3</th>\n",
       "      <td>Split</td>\n",
       "      <td>Horror,Thriller</td>\n",
       "      <td>Three girls are kidnapped by a man with a diag...</td>\n",
       "      <td>M. Night Shyamalan</td>\n",
       "      <td>James McAvoy, Anya Taylor-Joy, Haley Lu Richar...</td>\n",
       "      <td>2016</td>\n",
       "      <td>117</td>\n",
       "      <td>7.3</td>\n",
       "      <td>157606</td>\n",
       "      <td>138.12</td>\n",
       "      <td>62.0</td>\n",
       "    </tr>\n",
       "    <tr>\n",
       "      <th>4</th>\n",
       "      <td>Sing</td>\n",
       "      <td>Animation,Comedy,Family</td>\n",
       "      <td>In a city of humanoid animals, a hustling thea...</td>\n",
       "      <td>Christophe Lourdelet</td>\n",
       "      <td>Matthew McConaughey,Reese Witherspoon, Seth Ma...</td>\n",
       "      <td>2016</td>\n",
       "      <td>108</td>\n",
       "      <td>7.2</td>\n",
       "      <td>60545</td>\n",
       "      <td>270.32</td>\n",
       "      <td>59.0</td>\n",
       "    </tr>\n",
       "    <tr>\n",
       "      <th>5</th>\n",
       "      <td>Suicide Squad</td>\n",
       "      <td>Action,Adventure,Fantasy</td>\n",
       "      <td>A secret government agency recruits some of th...</td>\n",
       "      <td>David Ayer</td>\n",
       "      <td>Will Smith, Jared Leto, Margot Robbie, Viola D...</td>\n",
       "      <td>2016</td>\n",
       "      <td>123</td>\n",
       "      <td>6.2</td>\n",
       "      <td>393727</td>\n",
       "      <td>325.02</td>\n",
       "      <td>40.0</td>\n",
       "    </tr>\n",
       "  </tbody>\n",
       "</table>\n",
       "</div>"
      ],
      "text/plain": [
       "                        Title                     Genre  \\\n",
       "Rank                                                      \n",
       "1     Guardians of the Galaxy   Action,Adventure,Sci-Fi   \n",
       "2                  Prometheus  Adventure,Mystery,Sci-Fi   \n",
       "3                       Split           Horror,Thriller   \n",
       "4                        Sing   Animation,Comedy,Family   \n",
       "5               Suicide Squad  Action,Adventure,Fantasy   \n",
       "\n",
       "                                            Description              Director  \\\n",
       "Rank                                                                            \n",
       "1     A group of intergalactic criminals are forced ...            James Gunn   \n",
       "2     Following clues to the origin of mankind, a te...          Ridley Scott   \n",
       "3     Three girls are kidnapped by a man with a diag...    M. Night Shyamalan   \n",
       "4     In a city of humanoid animals, a hustling thea...  Christophe Lourdelet   \n",
       "5     A secret government agency recruits some of th...            David Ayer   \n",
       "\n",
       "                                                 Actors  Year  \\\n",
       "Rank                                                            \n",
       "1     Chris Pratt, Vin Diesel, Bradley Cooper, Zoe S...  2014   \n",
       "2     Noomi Rapace, Logan Marshall-Green, Michael Fa...  2012   \n",
       "3     James McAvoy, Anya Taylor-Joy, Haley Lu Richar...  2016   \n",
       "4     Matthew McConaughey,Reese Witherspoon, Seth Ma...  2016   \n",
       "5     Will Smith, Jared Leto, Margot Robbie, Viola D...  2016   \n",
       "\n",
       "      Runtime (Minutes)  Rating   Votes  Revenue (Millions)  Metascore  \n",
       "Rank                                                                    \n",
       "1                   121     8.1  757074              333.13       76.0  \n",
       "2                   124     7.0  485820              126.46       65.0  \n",
       "3                   117     7.3  157606              138.12       62.0  \n",
       "4                   108     7.2   60545              270.32       59.0  \n",
       "5                   123     6.2  393727              325.02       40.0  "
      ]
     },
     "execution_count": 25,
     "metadata": {},
     "output_type": "execute_result"
    }
   ],
   "source": [
    "movieDf.head()"
   ]
  },
  {
   "cell_type": "code",
   "execution_count": 26,
   "id": "5c3d1617",
   "metadata": {},
   "outputs": [
    {
     "data": {
      "text/html": [
       "<div>\n",
       "<style scoped>\n",
       "    .dataframe tbody tr th:only-of-type {\n",
       "        vertical-align: middle;\n",
       "    }\n",
       "\n",
       "    .dataframe tbody tr th {\n",
       "        vertical-align: top;\n",
       "    }\n",
       "\n",
       "    .dataframe thead th {\n",
       "        text-align: right;\n",
       "    }\n",
       "</style>\n",
       "<table border=\"1\" class=\"dataframe\">\n",
       "  <thead>\n",
       "    <tr style=\"text-align: right;\">\n",
       "      <th></th>\n",
       "      <th>Title</th>\n",
       "      <th>Genre</th>\n",
       "      <th>Description</th>\n",
       "      <th>Director</th>\n",
       "      <th>Actors</th>\n",
       "      <th>Year</th>\n",
       "      <th>Runtime (Minutes)</th>\n",
       "      <th>Rating</th>\n",
       "      <th>Votes</th>\n",
       "      <th>Revenue (Millions)</th>\n",
       "      <th>Metascore</th>\n",
       "    </tr>\n",
       "    <tr>\n",
       "      <th>Rank</th>\n",
       "      <th></th>\n",
       "      <th></th>\n",
       "      <th></th>\n",
       "      <th></th>\n",
       "      <th></th>\n",
       "      <th></th>\n",
       "      <th></th>\n",
       "      <th></th>\n",
       "      <th></th>\n",
       "      <th></th>\n",
       "      <th></th>\n",
       "    </tr>\n",
       "  </thead>\n",
       "  <tbody>\n",
       "    <tr>\n",
       "      <th>991</th>\n",
       "      <td>Underworld: Rise of the Lycans</td>\n",
       "      <td>Action,Adventure,Fantasy</td>\n",
       "      <td>An origins story centered on the centuries-old...</td>\n",
       "      <td>Patrick Tatopoulos</td>\n",
       "      <td>Rhona Mitra, Michael Sheen, Bill Nighy, Steven...</td>\n",
       "      <td>2009</td>\n",
       "      <td>92</td>\n",
       "      <td>6.6</td>\n",
       "      <td>129708</td>\n",
       "      <td>45.80</td>\n",
       "      <td>44.0</td>\n",
       "    </tr>\n",
       "    <tr>\n",
       "      <th>992</th>\n",
       "      <td>Taare Zameen Par</td>\n",
       "      <td>Drama,Family,Music</td>\n",
       "      <td>An eight-year-old boy is thought to be a lazy ...</td>\n",
       "      <td>Aamir Khan</td>\n",
       "      <td>Darsheel Safary, Aamir Khan, Tanay Chheda, Sac...</td>\n",
       "      <td>2007</td>\n",
       "      <td>165</td>\n",
       "      <td>8.5</td>\n",
       "      <td>102697</td>\n",
       "      <td>1.20</td>\n",
       "      <td>42.0</td>\n",
       "    </tr>\n",
       "    <tr>\n",
       "      <th>993</th>\n",
       "      <td>Take Me Home Tonight</td>\n",
       "      <td>Comedy,Drama,Romance</td>\n",
       "      <td>Four years after graduation, an awkward high s...</td>\n",
       "      <td>Michael Dowse</td>\n",
       "      <td>Topher Grace, Anna Faris, Dan Fogler, Teresa P...</td>\n",
       "      <td>2011</td>\n",
       "      <td>97</td>\n",
       "      <td>6.3</td>\n",
       "      <td>45419</td>\n",
       "      <td>6.92</td>\n",
       "      <td>NaN</td>\n",
       "    </tr>\n",
       "    <tr>\n",
       "      <th>994</th>\n",
       "      <td>Resident Evil: Afterlife</td>\n",
       "      <td>Action,Adventure,Horror</td>\n",
       "      <td>While still out to destroy the evil Umbrella C...</td>\n",
       "      <td>Paul W.S. Anderson</td>\n",
       "      <td>Milla Jovovich, Ali Larter, Wentworth Miller,K...</td>\n",
       "      <td>2010</td>\n",
       "      <td>97</td>\n",
       "      <td>5.9</td>\n",
       "      <td>140900</td>\n",
       "      <td>60.13</td>\n",
       "      <td>37.0</td>\n",
       "    </tr>\n",
       "    <tr>\n",
       "      <th>995</th>\n",
       "      <td>Project X</td>\n",
       "      <td>Comedy</td>\n",
       "      <td>3 high school seniors throw a birthday party t...</td>\n",
       "      <td>Nima Nourizadeh</td>\n",
       "      <td>Thomas Mann, Oliver Cooper, Jonathan Daniel Br...</td>\n",
       "      <td>2012</td>\n",
       "      <td>88</td>\n",
       "      <td>6.7</td>\n",
       "      <td>164088</td>\n",
       "      <td>54.72</td>\n",
       "      <td>48.0</td>\n",
       "    </tr>\n",
       "    <tr>\n",
       "      <th>996</th>\n",
       "      <td>Secret in Their Eyes</td>\n",
       "      <td>Crime,Drama,Mystery</td>\n",
       "      <td>A tight-knit team of rising investigators, alo...</td>\n",
       "      <td>Billy Ray</td>\n",
       "      <td>Chiwetel Ejiofor, Nicole Kidman, Julia Roberts...</td>\n",
       "      <td>2015</td>\n",
       "      <td>111</td>\n",
       "      <td>6.2</td>\n",
       "      <td>27585</td>\n",
       "      <td>NaN</td>\n",
       "      <td>45.0</td>\n",
       "    </tr>\n",
       "    <tr>\n",
       "      <th>997</th>\n",
       "      <td>Hostel: Part II</td>\n",
       "      <td>Horror</td>\n",
       "      <td>Three American college students studying abroa...</td>\n",
       "      <td>Eli Roth</td>\n",
       "      <td>Lauren German, Heather Matarazzo, Bijou Philli...</td>\n",
       "      <td>2007</td>\n",
       "      <td>94</td>\n",
       "      <td>5.5</td>\n",
       "      <td>73152</td>\n",
       "      <td>17.54</td>\n",
       "      <td>46.0</td>\n",
       "    </tr>\n",
       "    <tr>\n",
       "      <th>998</th>\n",
       "      <td>Step Up 2: The Streets</td>\n",
       "      <td>Drama,Music,Romance</td>\n",
       "      <td>Romantic sparks occur between two dance studen...</td>\n",
       "      <td>Jon M. Chu</td>\n",
       "      <td>Robert Hoffman, Briana Evigan, Cassie Ventura,...</td>\n",
       "      <td>2008</td>\n",
       "      <td>98</td>\n",
       "      <td>6.2</td>\n",
       "      <td>70699</td>\n",
       "      <td>58.01</td>\n",
       "      <td>50.0</td>\n",
       "    </tr>\n",
       "    <tr>\n",
       "      <th>999</th>\n",
       "      <td>Search Party</td>\n",
       "      <td>Adventure,Comedy</td>\n",
       "      <td>A pair of friends embark on a mission to reuni...</td>\n",
       "      <td>Scot Armstrong</td>\n",
       "      <td>Adam Pally, T.J. Miller, Thomas Middleditch,Sh...</td>\n",
       "      <td>2014</td>\n",
       "      <td>93</td>\n",
       "      <td>5.6</td>\n",
       "      <td>4881</td>\n",
       "      <td>NaN</td>\n",
       "      <td>22.0</td>\n",
       "    </tr>\n",
       "    <tr>\n",
       "      <th>1000</th>\n",
       "      <td>Nine Lives</td>\n",
       "      <td>Comedy,Family,Fantasy</td>\n",
       "      <td>A stuffy businessman finds himself trapped ins...</td>\n",
       "      <td>Barry Sonnenfeld</td>\n",
       "      <td>Kevin Spacey, Jennifer Garner, Robbie Amell,Ch...</td>\n",
       "      <td>2016</td>\n",
       "      <td>87</td>\n",
       "      <td>5.3</td>\n",
       "      <td>12435</td>\n",
       "      <td>19.64</td>\n",
       "      <td>11.0</td>\n",
       "    </tr>\n",
       "  </tbody>\n",
       "</table>\n",
       "</div>"
      ],
      "text/plain": [
       "                               Title                     Genre  \\\n",
       "Rank                                                             \n",
       "991   Underworld: Rise of the Lycans  Action,Adventure,Fantasy   \n",
       "992                 Taare Zameen Par        Drama,Family,Music   \n",
       "993             Take Me Home Tonight      Comedy,Drama,Romance   \n",
       "994         Resident Evil: Afterlife   Action,Adventure,Horror   \n",
       "995                        Project X                    Comedy   \n",
       "996             Secret in Their Eyes       Crime,Drama,Mystery   \n",
       "997                  Hostel: Part II                    Horror   \n",
       "998           Step Up 2: The Streets       Drama,Music,Romance   \n",
       "999                     Search Party          Adventure,Comedy   \n",
       "1000                      Nine Lives     Comedy,Family,Fantasy   \n",
       "\n",
       "                                            Description            Director  \\\n",
       "Rank                                                                          \n",
       "991   An origins story centered on the centuries-old...  Patrick Tatopoulos   \n",
       "992   An eight-year-old boy is thought to be a lazy ...          Aamir Khan   \n",
       "993   Four years after graduation, an awkward high s...       Michael Dowse   \n",
       "994   While still out to destroy the evil Umbrella C...  Paul W.S. Anderson   \n",
       "995   3 high school seniors throw a birthday party t...     Nima Nourizadeh   \n",
       "996   A tight-knit team of rising investigators, alo...           Billy Ray   \n",
       "997   Three American college students studying abroa...            Eli Roth   \n",
       "998   Romantic sparks occur between two dance studen...          Jon M. Chu   \n",
       "999   A pair of friends embark on a mission to reuni...      Scot Armstrong   \n",
       "1000  A stuffy businessman finds himself trapped ins...    Barry Sonnenfeld   \n",
       "\n",
       "                                                 Actors  Year  \\\n",
       "Rank                                                            \n",
       "991   Rhona Mitra, Michael Sheen, Bill Nighy, Steven...  2009   \n",
       "992   Darsheel Safary, Aamir Khan, Tanay Chheda, Sac...  2007   \n",
       "993   Topher Grace, Anna Faris, Dan Fogler, Teresa P...  2011   \n",
       "994   Milla Jovovich, Ali Larter, Wentworth Miller,K...  2010   \n",
       "995   Thomas Mann, Oliver Cooper, Jonathan Daniel Br...  2012   \n",
       "996   Chiwetel Ejiofor, Nicole Kidman, Julia Roberts...  2015   \n",
       "997   Lauren German, Heather Matarazzo, Bijou Philli...  2007   \n",
       "998   Robert Hoffman, Briana Evigan, Cassie Ventura,...  2008   \n",
       "999   Adam Pally, T.J. Miller, Thomas Middleditch,Sh...  2014   \n",
       "1000  Kevin Spacey, Jennifer Garner, Robbie Amell,Ch...  2016   \n",
       "\n",
       "      Runtime (Minutes)  Rating   Votes  Revenue (Millions)  Metascore  \n",
       "Rank                                                                    \n",
       "991                  92     6.6  129708               45.80       44.0  \n",
       "992                 165     8.5  102697                1.20       42.0  \n",
       "993                  97     6.3   45419                6.92        NaN  \n",
       "994                  97     5.9  140900               60.13       37.0  \n",
       "995                  88     6.7  164088               54.72       48.0  \n",
       "996                 111     6.2   27585                 NaN       45.0  \n",
       "997                  94     5.5   73152               17.54       46.0  \n",
       "998                  98     6.2   70699               58.01       50.0  \n",
       "999                  93     5.6    4881                 NaN       22.0  \n",
       "1000                 87     5.3   12435               19.64       11.0  "
      ]
     },
     "execution_count": 26,
     "metadata": {},
     "output_type": "execute_result"
    }
   ],
   "source": [
    "movieDf.tail(10)"
   ]
  },
  {
   "cell_type": "code",
   "execution_count": 27,
   "id": "6fbaa3cd",
   "metadata": {},
   "outputs": [
    {
     "name": "stdout",
     "output_type": "stream",
     "text": [
      "<class 'pandas.core.frame.DataFrame'>\n",
      "Int64Index: 1000 entries, 1 to 1000\n",
      "Data columns (total 11 columns):\n",
      " #   Column              Non-Null Count  Dtype  \n",
      "---  ------              --------------  -----  \n",
      " 0   Title               1000 non-null   object \n",
      " 1   Genre               1000 non-null   object \n",
      " 2   Description         1000 non-null   object \n",
      " 3   Director            1000 non-null   object \n",
      " 4   Actors              1000 non-null   object \n",
      " 5   Year                1000 non-null   int64  \n",
      " 6   Runtime (Minutes)   1000 non-null   int64  \n",
      " 7   Rating              1000 non-null   float64\n",
      " 8   Votes               1000 non-null   int64  \n",
      " 9   Revenue (Millions)  872 non-null    float64\n",
      " 10  Metascore           936 non-null    float64\n",
      "dtypes: float64(3), int64(3), object(5)\n",
      "memory usage: 93.8+ KB\n"
     ]
    }
   ],
   "source": [
    "movieDf.info()"
   ]
  },
  {
   "cell_type": "code",
   "execution_count": 28,
   "id": "27c98dbb",
   "metadata": {},
   "outputs": [
    {
     "data": {
      "text/plain": [
       "(1000, 11)"
      ]
     },
     "execution_count": 28,
     "metadata": {},
     "output_type": "execute_result"
    }
   ],
   "source": [
    "movieDf.shape"
   ]
  },
  {
   "cell_type": "code",
   "execution_count": 29,
   "id": "d3e8ba76",
   "metadata": {},
   "outputs": [
    {
     "name": "stderr",
     "output_type": "stream",
     "text": [
      "/tmp/ipykernel_2271/3415860914.py:1: FutureWarning: The frame.append method is deprecated and will be removed from pandas in a future version. Use pandas.concat instead.\n",
      "  testDf = movieDf.append(movieDf)\n"
     ]
    }
   ],
   "source": [
    "testDf = movieDf.append(movieDf)"
   ]
  },
  {
   "cell_type": "code",
   "execution_count": 30,
   "id": "0366a252",
   "metadata": {},
   "outputs": [
    {
     "data": {
      "text/plain": [
       "(2000, 11)"
      ]
     },
     "execution_count": 30,
     "metadata": {},
     "output_type": "execute_result"
    }
   ],
   "source": [
    "testDf.shape"
   ]
  },
  {
   "cell_type": "code",
   "execution_count": 31,
   "id": "acc5ff17",
   "metadata": {},
   "outputs": [],
   "source": [
    "finalDf = testDf.drop_duplicates()"
   ]
  },
  {
   "cell_type": "code",
   "execution_count": 32,
   "id": "4ede083d",
   "metadata": {},
   "outputs": [
    {
     "data": {
      "text/plain": [
       "(1000, 11)"
      ]
     },
     "execution_count": 32,
     "metadata": {},
     "output_type": "execute_result"
    }
   ],
   "source": [
    "finalDf.shape"
   ]
  },
  {
   "cell_type": "markdown",
   "id": "0b695ce8",
   "metadata": {},
   "source": [
    "## Drop Duplicates"
   ]
  },
  {
   "cell_type": "code",
   "execution_count": 33,
   "id": "e636d09b",
   "metadata": {},
   "outputs": [
    {
     "data": {
      "text/plain": [
       "(1000, 11)"
      ]
     },
     "execution_count": 33,
     "metadata": {},
     "output_type": "execute_result"
    }
   ],
   "source": [
    "finalDf = testDf.drop_duplicates(keep=\"first\")\n",
    "finalDf.shape"
   ]
  },
  {
   "cell_type": "code",
   "execution_count": 34,
   "id": "9aaef26c",
   "metadata": {},
   "outputs": [
    {
     "data": {
      "text/plain": [
       "(1000, 11)"
      ]
     },
     "execution_count": 34,
     "metadata": {},
     "output_type": "execute_result"
    }
   ],
   "source": [
    "finalDf = testDf.drop_duplicates(keep=\"last\")\n",
    "finalDf.shape"
   ]
  },
  {
   "cell_type": "code",
   "execution_count": 35,
   "id": "d3040425",
   "metadata": {},
   "outputs": [
    {
     "data": {
      "text/plain": [
       "(0, 11)"
      ]
     },
     "execution_count": 35,
     "metadata": {},
     "output_type": "execute_result"
    }
   ],
   "source": [
    "finalDf = testDf.drop_duplicates(keep=False)\n",
    "finalDf.shape"
   ]
  },
  {
   "cell_type": "markdown",
   "id": "7299eb58",
   "metadata": {},
   "source": [
    "## Change Column name"
   ]
  },
  {
   "cell_type": "code",
   "execution_count": 36,
   "id": "480bc466",
   "metadata": {},
   "outputs": [
    {
     "data": {
      "text/plain": [
       "Index(['Title', 'Genre', 'Description', 'Director', 'Actors', 'Year',\n",
       "       'Runtime (Minutes)', 'Rating', 'Votes', 'Revenue (Millions)',\n",
       "       'Metascore'],\n",
       "      dtype='object')"
      ]
     },
     "execution_count": 36,
     "metadata": {},
     "output_type": "execute_result"
    }
   ],
   "source": [
    "finalDf.columns"
   ]
  },
  {
   "cell_type": "code",
   "execution_count": 37,
   "id": "5ddc376b",
   "metadata": {},
   "outputs": [],
   "source": [
    "movieDf.rename(columns={'Runtime (Minutes)':\"Runtime\",'Revenue (Millions)':'Revenue_millions'},inplace=True)"
   ]
  },
  {
   "cell_type": "code",
   "execution_count": 38,
   "id": "8aa89c57",
   "metadata": {},
   "outputs": [
    {
     "data": {
      "text/plain": [
       "Index(['Title', 'Genre', 'Description', 'Director', 'Actors', 'Year',\n",
       "       'Runtime', 'Rating', 'Votes', 'Revenue_millions', 'Metascore'],\n",
       "      dtype='object')"
      ]
     },
     "execution_count": 38,
     "metadata": {},
     "output_type": "execute_result"
    }
   ],
   "source": [
    "movieDf.columns"
   ]
  },
  {
   "cell_type": "code",
   "execution_count": 39,
   "id": "5f1110d4",
   "metadata": {},
   "outputs": [
    {
     "name": "stdout",
     "output_type": "stream",
     "text": [
      "{'Title': 'title', 'Genre': 'genre', 'Description': 'description', 'Director': 'director', 'Actors': 'actors', 'Year': 'year', 'Runtime': 'runtime', 'Rating': 'rating', 'Votes': 'votes', 'Revenue_millions': 'revenue_millions', 'Metascore': 'metascore'}\n"
     ]
    }
   ],
   "source": [
    "print({item:item.lower() for item in movieDf.columns})"
   ]
  },
  {
   "cell_type": "code",
   "execution_count": 40,
   "id": "33b32492",
   "metadata": {},
   "outputs": [],
   "source": [
    "movieDf.rename(columns={item:item.lower() for item in movieDf.columns},inplace=True)"
   ]
  },
  {
   "cell_type": "code",
   "execution_count": 41,
   "id": "f208cb69",
   "metadata": {},
   "outputs": [
    {
     "data": {
      "text/html": [
       "<div>\n",
       "<style scoped>\n",
       "    .dataframe tbody tr th:only-of-type {\n",
       "        vertical-align: middle;\n",
       "    }\n",
       "\n",
       "    .dataframe tbody tr th {\n",
       "        vertical-align: top;\n",
       "    }\n",
       "\n",
       "    .dataframe thead th {\n",
       "        text-align: right;\n",
       "    }\n",
       "</style>\n",
       "<table border=\"1\" class=\"dataframe\">\n",
       "  <thead>\n",
       "    <tr style=\"text-align: right;\">\n",
       "      <th></th>\n",
       "      <th>title</th>\n",
       "      <th>genre</th>\n",
       "      <th>description</th>\n",
       "      <th>director</th>\n",
       "      <th>actors</th>\n",
       "      <th>year</th>\n",
       "      <th>runtime</th>\n",
       "      <th>rating</th>\n",
       "      <th>votes</th>\n",
       "      <th>revenue_millions</th>\n",
       "      <th>metascore</th>\n",
       "    </tr>\n",
       "    <tr>\n",
       "      <th>Rank</th>\n",
       "      <th></th>\n",
       "      <th></th>\n",
       "      <th></th>\n",
       "      <th></th>\n",
       "      <th></th>\n",
       "      <th></th>\n",
       "      <th></th>\n",
       "      <th></th>\n",
       "      <th></th>\n",
       "      <th></th>\n",
       "      <th></th>\n",
       "    </tr>\n",
       "  </thead>\n",
       "  <tbody>\n",
       "    <tr>\n",
       "      <th>1</th>\n",
       "      <td>Guardians of the Galaxy</td>\n",
       "      <td>Action,Adventure,Sci-Fi</td>\n",
       "      <td>A group of intergalactic criminals are forced ...</td>\n",
       "      <td>James Gunn</td>\n",
       "      <td>Chris Pratt, Vin Diesel, Bradley Cooper, Zoe S...</td>\n",
       "      <td>2014</td>\n",
       "      <td>121</td>\n",
       "      <td>8.1</td>\n",
       "      <td>757074</td>\n",
       "      <td>333.13</td>\n",
       "      <td>76.0</td>\n",
       "    </tr>\n",
       "    <tr>\n",
       "      <th>2</th>\n",
       "      <td>Prometheus</td>\n",
       "      <td>Adventure,Mystery,Sci-Fi</td>\n",
       "      <td>Following clues to the origin of mankind, a te...</td>\n",
       "      <td>Ridley Scott</td>\n",
       "      <td>Noomi Rapace, Logan Marshall-Green, Michael Fa...</td>\n",
       "      <td>2012</td>\n",
       "      <td>124</td>\n",
       "      <td>7.0</td>\n",
       "      <td>485820</td>\n",
       "      <td>126.46</td>\n",
       "      <td>65.0</td>\n",
       "    </tr>\n",
       "    <tr>\n",
       "      <th>3</th>\n",
       "      <td>Split</td>\n",
       "      <td>Horror,Thriller</td>\n",
       "      <td>Three girls are kidnapped by a man with a diag...</td>\n",
       "      <td>M. Night Shyamalan</td>\n",
       "      <td>James McAvoy, Anya Taylor-Joy, Haley Lu Richar...</td>\n",
       "      <td>2016</td>\n",
       "      <td>117</td>\n",
       "      <td>7.3</td>\n",
       "      <td>157606</td>\n",
       "      <td>138.12</td>\n",
       "      <td>62.0</td>\n",
       "    </tr>\n",
       "    <tr>\n",
       "      <th>4</th>\n",
       "      <td>Sing</td>\n",
       "      <td>Animation,Comedy,Family</td>\n",
       "      <td>In a city of humanoid animals, a hustling thea...</td>\n",
       "      <td>Christophe Lourdelet</td>\n",
       "      <td>Matthew McConaughey,Reese Witherspoon, Seth Ma...</td>\n",
       "      <td>2016</td>\n",
       "      <td>108</td>\n",
       "      <td>7.2</td>\n",
       "      <td>60545</td>\n",
       "      <td>270.32</td>\n",
       "      <td>59.0</td>\n",
       "    </tr>\n",
       "    <tr>\n",
       "      <th>5</th>\n",
       "      <td>Suicide Squad</td>\n",
       "      <td>Action,Adventure,Fantasy</td>\n",
       "      <td>A secret government agency recruits some of th...</td>\n",
       "      <td>David Ayer</td>\n",
       "      <td>Will Smith, Jared Leto, Margot Robbie, Viola D...</td>\n",
       "      <td>2016</td>\n",
       "      <td>123</td>\n",
       "      <td>6.2</td>\n",
       "      <td>393727</td>\n",
       "      <td>325.02</td>\n",
       "      <td>40.0</td>\n",
       "    </tr>\n",
       "  </tbody>\n",
       "</table>\n",
       "</div>"
      ],
      "text/plain": [
       "                        title                     genre  \\\n",
       "Rank                                                      \n",
       "1     Guardians of the Galaxy   Action,Adventure,Sci-Fi   \n",
       "2                  Prometheus  Adventure,Mystery,Sci-Fi   \n",
       "3                       Split           Horror,Thriller   \n",
       "4                        Sing   Animation,Comedy,Family   \n",
       "5               Suicide Squad  Action,Adventure,Fantasy   \n",
       "\n",
       "                                            description              director  \\\n",
       "Rank                                                                            \n",
       "1     A group of intergalactic criminals are forced ...            James Gunn   \n",
       "2     Following clues to the origin of mankind, a te...          Ridley Scott   \n",
       "3     Three girls are kidnapped by a man with a diag...    M. Night Shyamalan   \n",
       "4     In a city of humanoid animals, a hustling thea...  Christophe Lourdelet   \n",
       "5     A secret government agency recruits some of th...            David Ayer   \n",
       "\n",
       "                                                 actors  year  runtime  \\\n",
       "Rank                                                                     \n",
       "1     Chris Pratt, Vin Diesel, Bradley Cooper, Zoe S...  2014      121   \n",
       "2     Noomi Rapace, Logan Marshall-Green, Michael Fa...  2012      124   \n",
       "3     James McAvoy, Anya Taylor-Joy, Haley Lu Richar...  2016      117   \n",
       "4     Matthew McConaughey,Reese Witherspoon, Seth Ma...  2016      108   \n",
       "5     Will Smith, Jared Leto, Margot Robbie, Viola D...  2016      123   \n",
       "\n",
       "      rating   votes  revenue_millions  metascore  \n",
       "Rank                                               \n",
       "1        8.1  757074            333.13       76.0  \n",
       "2        7.0  485820            126.46       65.0  \n",
       "3        7.3  157606            138.12       62.0  \n",
       "4        7.2   60545            270.32       59.0  \n",
       "5        6.2  393727            325.02       40.0  "
      ]
     },
     "execution_count": 41,
     "metadata": {},
     "output_type": "execute_result"
    }
   ],
   "source": [
    "movieDf.head()"
   ]
  },
  {
   "cell_type": "code",
   "execution_count": 42,
   "id": "996f037f",
   "metadata": {},
   "outputs": [],
   "source": [
    "movieDf.rename(columns={item:item.upper() for item in movieDf.columns},inplace=True)"
   ]
  },
  {
   "cell_type": "code",
   "execution_count": 43,
   "id": "2c41d654",
   "metadata": {},
   "outputs": [
    {
     "data": {
      "text/html": [
       "<div>\n",
       "<style scoped>\n",
       "    .dataframe tbody tr th:only-of-type {\n",
       "        vertical-align: middle;\n",
       "    }\n",
       "\n",
       "    .dataframe tbody tr th {\n",
       "        vertical-align: top;\n",
       "    }\n",
       "\n",
       "    .dataframe thead th {\n",
       "        text-align: right;\n",
       "    }\n",
       "</style>\n",
       "<table border=\"1\" class=\"dataframe\">\n",
       "  <thead>\n",
       "    <tr style=\"text-align: right;\">\n",
       "      <th></th>\n",
       "      <th>TITLE</th>\n",
       "      <th>GENRE</th>\n",
       "      <th>DESCRIPTION</th>\n",
       "      <th>DIRECTOR</th>\n",
       "      <th>ACTORS</th>\n",
       "      <th>YEAR</th>\n",
       "      <th>RUNTIME</th>\n",
       "      <th>RATING</th>\n",
       "      <th>VOTES</th>\n",
       "      <th>REVENUE_MILLIONS</th>\n",
       "      <th>METASCORE</th>\n",
       "    </tr>\n",
       "    <tr>\n",
       "      <th>Rank</th>\n",
       "      <th></th>\n",
       "      <th></th>\n",
       "      <th></th>\n",
       "      <th></th>\n",
       "      <th></th>\n",
       "      <th></th>\n",
       "      <th></th>\n",
       "      <th></th>\n",
       "      <th></th>\n",
       "      <th></th>\n",
       "      <th></th>\n",
       "    </tr>\n",
       "  </thead>\n",
       "  <tbody>\n",
       "    <tr>\n",
       "      <th>1</th>\n",
       "      <td>Guardians of the Galaxy</td>\n",
       "      <td>Action,Adventure,Sci-Fi</td>\n",
       "      <td>A group of intergalactic criminals are forced ...</td>\n",
       "      <td>James Gunn</td>\n",
       "      <td>Chris Pratt, Vin Diesel, Bradley Cooper, Zoe S...</td>\n",
       "      <td>2014</td>\n",
       "      <td>121</td>\n",
       "      <td>8.1</td>\n",
       "      <td>757074</td>\n",
       "      <td>333.13</td>\n",
       "      <td>76.0</td>\n",
       "    </tr>\n",
       "    <tr>\n",
       "      <th>2</th>\n",
       "      <td>Prometheus</td>\n",
       "      <td>Adventure,Mystery,Sci-Fi</td>\n",
       "      <td>Following clues to the origin of mankind, a te...</td>\n",
       "      <td>Ridley Scott</td>\n",
       "      <td>Noomi Rapace, Logan Marshall-Green, Michael Fa...</td>\n",
       "      <td>2012</td>\n",
       "      <td>124</td>\n",
       "      <td>7.0</td>\n",
       "      <td>485820</td>\n",
       "      <td>126.46</td>\n",
       "      <td>65.0</td>\n",
       "    </tr>\n",
       "    <tr>\n",
       "      <th>3</th>\n",
       "      <td>Split</td>\n",
       "      <td>Horror,Thriller</td>\n",
       "      <td>Three girls are kidnapped by a man with a diag...</td>\n",
       "      <td>M. Night Shyamalan</td>\n",
       "      <td>James McAvoy, Anya Taylor-Joy, Haley Lu Richar...</td>\n",
       "      <td>2016</td>\n",
       "      <td>117</td>\n",
       "      <td>7.3</td>\n",
       "      <td>157606</td>\n",
       "      <td>138.12</td>\n",
       "      <td>62.0</td>\n",
       "    </tr>\n",
       "    <tr>\n",
       "      <th>4</th>\n",
       "      <td>Sing</td>\n",
       "      <td>Animation,Comedy,Family</td>\n",
       "      <td>In a city of humanoid animals, a hustling thea...</td>\n",
       "      <td>Christophe Lourdelet</td>\n",
       "      <td>Matthew McConaughey,Reese Witherspoon, Seth Ma...</td>\n",
       "      <td>2016</td>\n",
       "      <td>108</td>\n",
       "      <td>7.2</td>\n",
       "      <td>60545</td>\n",
       "      <td>270.32</td>\n",
       "      <td>59.0</td>\n",
       "    </tr>\n",
       "    <tr>\n",
       "      <th>5</th>\n",
       "      <td>Suicide Squad</td>\n",
       "      <td>Action,Adventure,Fantasy</td>\n",
       "      <td>A secret government agency recruits some of th...</td>\n",
       "      <td>David Ayer</td>\n",
       "      <td>Will Smith, Jared Leto, Margot Robbie, Viola D...</td>\n",
       "      <td>2016</td>\n",
       "      <td>123</td>\n",
       "      <td>6.2</td>\n",
       "      <td>393727</td>\n",
       "      <td>325.02</td>\n",
       "      <td>40.0</td>\n",
       "    </tr>\n",
       "  </tbody>\n",
       "</table>\n",
       "</div>"
      ],
      "text/plain": [
       "                        TITLE                     GENRE  \\\n",
       "Rank                                                      \n",
       "1     Guardians of the Galaxy   Action,Adventure,Sci-Fi   \n",
       "2                  Prometheus  Adventure,Mystery,Sci-Fi   \n",
       "3                       Split           Horror,Thriller   \n",
       "4                        Sing   Animation,Comedy,Family   \n",
       "5               Suicide Squad  Action,Adventure,Fantasy   \n",
       "\n",
       "                                            DESCRIPTION              DIRECTOR  \\\n",
       "Rank                                                                            \n",
       "1     A group of intergalactic criminals are forced ...            James Gunn   \n",
       "2     Following clues to the origin of mankind, a te...          Ridley Scott   \n",
       "3     Three girls are kidnapped by a man with a diag...    M. Night Shyamalan   \n",
       "4     In a city of humanoid animals, a hustling thea...  Christophe Lourdelet   \n",
       "5     A secret government agency recruits some of th...            David Ayer   \n",
       "\n",
       "                                                 ACTORS  YEAR  RUNTIME  \\\n",
       "Rank                                                                     \n",
       "1     Chris Pratt, Vin Diesel, Bradley Cooper, Zoe S...  2014      121   \n",
       "2     Noomi Rapace, Logan Marshall-Green, Michael Fa...  2012      124   \n",
       "3     James McAvoy, Anya Taylor-Joy, Haley Lu Richar...  2016      117   \n",
       "4     Matthew McConaughey,Reese Witherspoon, Seth Ma...  2016      108   \n",
       "5     Will Smith, Jared Leto, Margot Robbie, Viola D...  2016      123   \n",
       "\n",
       "      RATING   VOTES  REVENUE_MILLIONS  METASCORE  \n",
       "Rank                                               \n",
       "1        8.1  757074            333.13       76.0  \n",
       "2        7.0  485820            126.46       65.0  \n",
       "3        7.3  157606            138.12       62.0  \n",
       "4        7.2   60545            270.32       59.0  \n",
       "5        6.2  393727            325.02       40.0  "
      ]
     },
     "execution_count": 43,
     "metadata": {},
     "output_type": "execute_result"
    }
   ],
   "source": [
    "movieDf.head()"
   ]
  },
  {
   "cell_type": "markdown",
   "id": "51ab2cb3",
   "metadata": {},
   "source": [
    "## Dealing with Null Values"
   ]
  },
  {
   "cell_type": "code",
   "execution_count": 44,
   "id": "7378eae4",
   "metadata": {},
   "outputs": [
    {
     "data": {
      "text/html": [
       "<div>\n",
       "<style scoped>\n",
       "    .dataframe tbody tr th:only-of-type {\n",
       "        vertical-align: middle;\n",
       "    }\n",
       "\n",
       "    .dataframe tbody tr th {\n",
       "        vertical-align: top;\n",
       "    }\n",
       "\n",
       "    .dataframe thead th {\n",
       "        text-align: right;\n",
       "    }\n",
       "</style>\n",
       "<table border=\"1\" class=\"dataframe\">\n",
       "  <thead>\n",
       "    <tr style=\"text-align: right;\">\n",
       "      <th></th>\n",
       "      <th>TITLE</th>\n",
       "      <th>GENRE</th>\n",
       "      <th>DESCRIPTION</th>\n",
       "      <th>DIRECTOR</th>\n",
       "      <th>ACTORS</th>\n",
       "      <th>YEAR</th>\n",
       "      <th>RUNTIME</th>\n",
       "      <th>RATING</th>\n",
       "      <th>VOTES</th>\n",
       "      <th>REVENUE_MILLIONS</th>\n",
       "      <th>METASCORE</th>\n",
       "    </tr>\n",
       "    <tr>\n",
       "      <th>Rank</th>\n",
       "      <th></th>\n",
       "      <th></th>\n",
       "      <th></th>\n",
       "      <th></th>\n",
       "      <th></th>\n",
       "      <th></th>\n",
       "      <th></th>\n",
       "      <th></th>\n",
       "      <th></th>\n",
       "      <th></th>\n",
       "      <th></th>\n",
       "    </tr>\n",
       "  </thead>\n",
       "  <tbody>\n",
       "    <tr>\n",
       "      <th>1</th>\n",
       "      <td>False</td>\n",
       "      <td>False</td>\n",
       "      <td>False</td>\n",
       "      <td>False</td>\n",
       "      <td>False</td>\n",
       "      <td>False</td>\n",
       "      <td>False</td>\n",
       "      <td>False</td>\n",
       "      <td>False</td>\n",
       "      <td>False</td>\n",
       "      <td>False</td>\n",
       "    </tr>\n",
       "    <tr>\n",
       "      <th>2</th>\n",
       "      <td>False</td>\n",
       "      <td>False</td>\n",
       "      <td>False</td>\n",
       "      <td>False</td>\n",
       "      <td>False</td>\n",
       "      <td>False</td>\n",
       "      <td>False</td>\n",
       "      <td>False</td>\n",
       "      <td>False</td>\n",
       "      <td>False</td>\n",
       "      <td>False</td>\n",
       "    </tr>\n",
       "    <tr>\n",
       "      <th>3</th>\n",
       "      <td>False</td>\n",
       "      <td>False</td>\n",
       "      <td>False</td>\n",
       "      <td>False</td>\n",
       "      <td>False</td>\n",
       "      <td>False</td>\n",
       "      <td>False</td>\n",
       "      <td>False</td>\n",
       "      <td>False</td>\n",
       "      <td>False</td>\n",
       "      <td>False</td>\n",
       "    </tr>\n",
       "    <tr>\n",
       "      <th>4</th>\n",
       "      <td>False</td>\n",
       "      <td>False</td>\n",
       "      <td>False</td>\n",
       "      <td>False</td>\n",
       "      <td>False</td>\n",
       "      <td>False</td>\n",
       "      <td>False</td>\n",
       "      <td>False</td>\n",
       "      <td>False</td>\n",
       "      <td>False</td>\n",
       "      <td>False</td>\n",
       "    </tr>\n",
       "    <tr>\n",
       "      <th>5</th>\n",
       "      <td>False</td>\n",
       "      <td>False</td>\n",
       "      <td>False</td>\n",
       "      <td>False</td>\n",
       "      <td>False</td>\n",
       "      <td>False</td>\n",
       "      <td>False</td>\n",
       "      <td>False</td>\n",
       "      <td>False</td>\n",
       "      <td>False</td>\n",
       "      <td>False</td>\n",
       "    </tr>\n",
       "    <tr>\n",
       "      <th>...</th>\n",
       "      <td>...</td>\n",
       "      <td>...</td>\n",
       "      <td>...</td>\n",
       "      <td>...</td>\n",
       "      <td>...</td>\n",
       "      <td>...</td>\n",
       "      <td>...</td>\n",
       "      <td>...</td>\n",
       "      <td>...</td>\n",
       "      <td>...</td>\n",
       "      <td>...</td>\n",
       "    </tr>\n",
       "    <tr>\n",
       "      <th>996</th>\n",
       "      <td>False</td>\n",
       "      <td>False</td>\n",
       "      <td>False</td>\n",
       "      <td>False</td>\n",
       "      <td>False</td>\n",
       "      <td>False</td>\n",
       "      <td>False</td>\n",
       "      <td>False</td>\n",
       "      <td>False</td>\n",
       "      <td>True</td>\n",
       "      <td>False</td>\n",
       "    </tr>\n",
       "    <tr>\n",
       "      <th>997</th>\n",
       "      <td>False</td>\n",
       "      <td>False</td>\n",
       "      <td>False</td>\n",
       "      <td>False</td>\n",
       "      <td>False</td>\n",
       "      <td>False</td>\n",
       "      <td>False</td>\n",
       "      <td>False</td>\n",
       "      <td>False</td>\n",
       "      <td>False</td>\n",
       "      <td>False</td>\n",
       "    </tr>\n",
       "    <tr>\n",
       "      <th>998</th>\n",
       "      <td>False</td>\n",
       "      <td>False</td>\n",
       "      <td>False</td>\n",
       "      <td>False</td>\n",
       "      <td>False</td>\n",
       "      <td>False</td>\n",
       "      <td>False</td>\n",
       "      <td>False</td>\n",
       "      <td>False</td>\n",
       "      <td>False</td>\n",
       "      <td>False</td>\n",
       "    </tr>\n",
       "    <tr>\n",
       "      <th>999</th>\n",
       "      <td>False</td>\n",
       "      <td>False</td>\n",
       "      <td>False</td>\n",
       "      <td>False</td>\n",
       "      <td>False</td>\n",
       "      <td>False</td>\n",
       "      <td>False</td>\n",
       "      <td>False</td>\n",
       "      <td>False</td>\n",
       "      <td>True</td>\n",
       "      <td>False</td>\n",
       "    </tr>\n",
       "    <tr>\n",
       "      <th>1000</th>\n",
       "      <td>False</td>\n",
       "      <td>False</td>\n",
       "      <td>False</td>\n",
       "      <td>False</td>\n",
       "      <td>False</td>\n",
       "      <td>False</td>\n",
       "      <td>False</td>\n",
       "      <td>False</td>\n",
       "      <td>False</td>\n",
       "      <td>False</td>\n",
       "      <td>False</td>\n",
       "    </tr>\n",
       "  </tbody>\n",
       "</table>\n",
       "<p>1000 rows × 11 columns</p>\n",
       "</div>"
      ],
      "text/plain": [
       "      TITLE  GENRE  DESCRIPTION  DIRECTOR  ACTORS   YEAR  RUNTIME  RATING  \\\n",
       "Rank                                                                        \n",
       "1     False  False        False     False   False  False    False   False   \n",
       "2     False  False        False     False   False  False    False   False   \n",
       "3     False  False        False     False   False  False    False   False   \n",
       "4     False  False        False     False   False  False    False   False   \n",
       "5     False  False        False     False   False  False    False   False   \n",
       "...     ...    ...          ...       ...     ...    ...      ...     ...   \n",
       "996   False  False        False     False   False  False    False   False   \n",
       "997   False  False        False     False   False  False    False   False   \n",
       "998   False  False        False     False   False  False    False   False   \n",
       "999   False  False        False     False   False  False    False   False   \n",
       "1000  False  False        False     False   False  False    False   False   \n",
       "\n",
       "      VOTES  REVENUE_MILLIONS  METASCORE  \n",
       "Rank                                      \n",
       "1     False             False      False  \n",
       "2     False             False      False  \n",
       "3     False             False      False  \n",
       "4     False             False      False  \n",
       "5     False             False      False  \n",
       "...     ...               ...        ...  \n",
       "996   False              True      False  \n",
       "997   False             False      False  \n",
       "998   False             False      False  \n",
       "999   False              True      False  \n",
       "1000  False             False      False  \n",
       "\n",
       "[1000 rows x 11 columns]"
      ]
     },
     "execution_count": 44,
     "metadata": {},
     "output_type": "execute_result"
    }
   ],
   "source": [
    "movieDf.isnull()"
   ]
  },
  {
   "cell_type": "markdown",
   "id": "26f87362",
   "metadata": {},
   "source": [
    "### Checking the Null values"
   ]
  },
  {
   "cell_type": "code",
   "execution_count": 45,
   "id": "7b5942fb",
   "metadata": {},
   "outputs": [
    {
     "data": {
      "text/plain": [
       "TITLE                 0\n",
       "GENRE                 0\n",
       "DESCRIPTION           0\n",
       "DIRECTOR              0\n",
       "ACTORS                0\n",
       "YEAR                  0\n",
       "RUNTIME               0\n",
       "RATING                0\n",
       "VOTES                 0\n",
       "REVENUE_MILLIONS    128\n",
       "METASCORE            64\n",
       "dtype: int64"
      ]
     },
     "execution_count": 45,
     "metadata": {},
     "output_type": "execute_result"
    }
   ],
   "source": [
    "movieDf.isnull().sum()"
   ]
  },
  {
   "cell_type": "markdown",
   "id": "cc8bdbba",
   "metadata": {},
   "source": [
    "### Droping the row if it contains any Null Values"
   ]
  },
  {
   "cell_type": "code",
   "execution_count": 46,
   "id": "afcafb5e",
   "metadata": {},
   "outputs": [
    {
     "data": {
      "text/plain": [
       "TITLE               0\n",
       "GENRE               0\n",
       "DESCRIPTION         0\n",
       "DIRECTOR            0\n",
       "ACTORS              0\n",
       "YEAR                0\n",
       "RUNTIME             0\n",
       "RATING              0\n",
       "VOTES               0\n",
       "REVENUE_MILLIONS    0\n",
       "METASCORE           0\n",
       "dtype: int64"
      ]
     },
     "execution_count": 46,
     "metadata": {},
     "output_type": "execute_result"
    }
   ],
   "source": [
    "test = movieDf.dropna()\n",
    "test.isnull().sum()"
   ]
  },
  {
   "cell_type": "markdown",
   "id": "a28f25a5",
   "metadata": {},
   "source": [
    "### Droping the entire column"
   ]
  },
  {
   "cell_type": "code",
   "execution_count": 47,
   "id": "9da773e0",
   "metadata": {},
   "outputs": [
    {
     "data": {
      "text/plain": [
       "TITLE          0\n",
       "GENRE          0\n",
       "DESCRIPTION    0\n",
       "DIRECTOR       0\n",
       "ACTORS         0\n",
       "YEAR           0\n",
       "RUNTIME        0\n",
       "RATING         0\n",
       "VOTES          0\n",
       "dtype: int64"
      ]
     },
     "execution_count": 47,
     "metadata": {},
     "output_type": "execute_result"
    }
   ],
   "source": [
    "test = movieDf.dropna(axis=1)\n",
    "test.isnull().sum()"
   ]
  },
  {
   "cell_type": "markdown",
   "id": "f441539f",
   "metadata": {},
   "source": [
    "## Filling the Null values\n",
    "    -Imputaion"
   ]
  },
  {
   "cell_type": "code",
   "execution_count": 48,
   "id": "60e6f97a",
   "metadata": {},
   "outputs": [],
   "source": [
    "revenue = movieDf['REVENUE_MILLIONS']"
   ]
  },
  {
   "cell_type": "code",
   "execution_count": 49,
   "id": "9d3ecb95",
   "metadata": {},
   "outputs": [
    {
     "data": {
      "text/plain": [
       "pandas.core.series.Series"
      ]
     },
     "execution_count": 49,
     "metadata": {},
     "output_type": "execute_result"
    }
   ],
   "source": [
    "type(revenue)"
   ]
  },
  {
   "cell_type": "code",
   "execution_count": 50,
   "id": "5c11231b",
   "metadata": {},
   "outputs": [
    {
     "data": {
      "text/plain": [
       "Rank\n",
       "1    333.13\n",
       "2    126.46\n",
       "3    138.12\n",
       "4    270.32\n",
       "5    325.02\n",
       "Name: REVENUE_MILLIONS, dtype: float64"
      ]
     },
     "execution_count": 50,
     "metadata": {},
     "output_type": "execute_result"
    }
   ],
   "source": [
    "revenue.head()"
   ]
  },
  {
   "cell_type": "code",
   "execution_count": 51,
   "id": "af868f66",
   "metadata": {},
   "outputs": [
    {
     "data": {
      "text/plain": [
       "82.95637614678898"
      ]
     },
     "execution_count": 51,
     "metadata": {},
     "output_type": "execute_result"
    }
   ],
   "source": [
    "rev_mean = revenue.mean()\n",
    "rev_mean"
   ]
  },
  {
   "cell_type": "code",
   "execution_count": 52,
   "id": "829f9381",
   "metadata": {},
   "outputs": [],
   "source": [
    "revenue.fillna(rev_mean,inplace=True)"
   ]
  },
  {
   "cell_type": "code",
   "execution_count": 53,
   "id": "b24169cb",
   "metadata": {},
   "outputs": [
    {
     "name": "stdout",
     "output_type": "stream",
     "text": [
      "<class 'pandas.core.frame.DataFrame'>\n",
      "Int64Index: 1000 entries, 1 to 1000\n",
      "Data columns (total 11 columns):\n",
      " #   Column            Non-Null Count  Dtype  \n",
      "---  ------            --------------  -----  \n",
      " 0   TITLE             1000 non-null   object \n",
      " 1   GENRE             1000 non-null   object \n",
      " 2   DESCRIPTION       1000 non-null   object \n",
      " 3   DIRECTOR          1000 non-null   object \n",
      " 4   ACTORS            1000 non-null   object \n",
      " 5   YEAR              1000 non-null   int64  \n",
      " 6   RUNTIME           1000 non-null   int64  \n",
      " 7   RATING            1000 non-null   float64\n",
      " 8   VOTES             1000 non-null   int64  \n",
      " 9   REVENUE_MILLIONS  1000 non-null   float64\n",
      " 10  METASCORE         936 non-null    float64\n",
      "dtypes: float64(3), int64(3), object(5)\n",
      "memory usage: 93.8+ KB\n"
     ]
    }
   ],
   "source": [
    "movieDf.info()"
   ]
  },
  {
   "cell_type": "code",
   "execution_count": 54,
   "id": "2a9e4fe2",
   "metadata": {},
   "outputs": [
    {
     "data": {
      "text/plain": [
       "Rank\n",
       "1       76.0\n",
       "2       65.0\n",
       "3       62.0\n",
       "4       59.0\n",
       "5       40.0\n",
       "        ... \n",
       "996     45.0\n",
       "997     46.0\n",
       "998     50.0\n",
       "999     22.0\n",
       "1000    11.0\n",
       "Name: METASCORE, Length: 1000, dtype: float64"
      ]
     },
     "execution_count": 54,
     "metadata": {},
     "output_type": "execute_result"
    }
   ],
   "source": [
    "movieDf['METASCORE']"
   ]
  },
  {
   "cell_type": "code",
   "execution_count": 55,
   "id": "a9aa4425",
   "metadata": {},
   "outputs": [],
   "source": [
    "metascore = movieDf['METASCORE']"
   ]
  },
  {
   "cell_type": "code",
   "execution_count": 56,
   "id": "d58f14f6",
   "metadata": {},
   "outputs": [
    {
     "data": {
      "text/plain": [
       "pandas.core.series.Series"
      ]
     },
     "execution_count": 56,
     "metadata": {},
     "output_type": "execute_result"
    }
   ],
   "source": [
    "type(metascore)"
   ]
  },
  {
   "cell_type": "code",
   "execution_count": 57,
   "id": "0f3e304c",
   "metadata": {},
   "outputs": [
    {
     "data": {
      "text/plain": [
       "58.98504273504273"
      ]
     },
     "execution_count": 57,
     "metadata": {},
     "output_type": "execute_result"
    }
   ],
   "source": [
    "meta_mean = metascore.mean()\n",
    "meta_mean"
   ]
  },
  {
   "cell_type": "code",
   "execution_count": 58,
   "id": "8731c1dd",
   "metadata": {},
   "outputs": [],
   "source": [
    "metascore.fillna(meta_mean,inplace=True)"
   ]
  },
  {
   "cell_type": "code",
   "execution_count": 59,
   "id": "4b4aee84",
   "metadata": {},
   "outputs": [
    {
     "name": "stdout",
     "output_type": "stream",
     "text": [
      "<class 'pandas.core.frame.DataFrame'>\n",
      "Int64Index: 1000 entries, 1 to 1000\n",
      "Data columns (total 11 columns):\n",
      " #   Column            Non-Null Count  Dtype  \n",
      "---  ------            --------------  -----  \n",
      " 0   TITLE             1000 non-null   object \n",
      " 1   GENRE             1000 non-null   object \n",
      " 2   DESCRIPTION       1000 non-null   object \n",
      " 3   DIRECTOR          1000 non-null   object \n",
      " 4   ACTORS            1000 non-null   object \n",
      " 5   YEAR              1000 non-null   int64  \n",
      " 6   RUNTIME           1000 non-null   int64  \n",
      " 7   RATING            1000 non-null   float64\n",
      " 8   VOTES             1000 non-null   int64  \n",
      " 9   REVENUE_MILLIONS  1000 non-null   float64\n",
      " 10  METASCORE         1000 non-null   float64\n",
      "dtypes: float64(3), int64(3), object(5)\n",
      "memory usage: 93.8+ KB\n"
     ]
    }
   ],
   "source": [
    "movieDf.info()"
   ]
  },
  {
   "cell_type": "code",
   "execution_count": 60,
   "id": "170a24f7",
   "metadata": {},
   "outputs": [
    {
     "data": {
      "text/html": [
       "<div>\n",
       "<style scoped>\n",
       "    .dataframe tbody tr th:only-of-type {\n",
       "        vertical-align: middle;\n",
       "    }\n",
       "\n",
       "    .dataframe tbody tr th {\n",
       "        vertical-align: top;\n",
       "    }\n",
       "\n",
       "    .dataframe thead th {\n",
       "        text-align: right;\n",
       "    }\n",
       "</style>\n",
       "<table border=\"1\" class=\"dataframe\">\n",
       "  <thead>\n",
       "    <tr style=\"text-align: right;\">\n",
       "      <th></th>\n",
       "      <th>YEAR</th>\n",
       "      <th>RUNTIME</th>\n",
       "      <th>RATING</th>\n",
       "      <th>VOTES</th>\n",
       "      <th>REVENUE_MILLIONS</th>\n",
       "      <th>METASCORE</th>\n",
       "    </tr>\n",
       "  </thead>\n",
       "  <tbody>\n",
       "    <tr>\n",
       "      <th>count</th>\n",
       "      <td>1000.000000</td>\n",
       "      <td>1000.000000</td>\n",
       "      <td>1000.000000</td>\n",
       "      <td>1.000000e+03</td>\n",
       "      <td>1000.000000</td>\n",
       "      <td>1000.000000</td>\n",
       "    </tr>\n",
       "    <tr>\n",
       "      <th>mean</th>\n",
       "      <td>2012.783000</td>\n",
       "      <td>113.172000</td>\n",
       "      <td>6.723200</td>\n",
       "      <td>1.698083e+05</td>\n",
       "      <td>82.956376</td>\n",
       "      <td>58.985043</td>\n",
       "    </tr>\n",
       "    <tr>\n",
       "      <th>std</th>\n",
       "      <td>3.205962</td>\n",
       "      <td>18.810908</td>\n",
       "      <td>0.945429</td>\n",
       "      <td>1.887626e+05</td>\n",
       "      <td>96.412043</td>\n",
       "      <td>16.634858</td>\n",
       "    </tr>\n",
       "    <tr>\n",
       "      <th>min</th>\n",
       "      <td>2006.000000</td>\n",
       "      <td>66.000000</td>\n",
       "      <td>1.900000</td>\n",
       "      <td>6.100000e+01</td>\n",
       "      <td>0.000000</td>\n",
       "      <td>11.000000</td>\n",
       "    </tr>\n",
       "    <tr>\n",
       "      <th>25%</th>\n",
       "      <td>2010.000000</td>\n",
       "      <td>100.000000</td>\n",
       "      <td>6.200000</td>\n",
       "      <td>3.630900e+04</td>\n",
       "      <td>17.442500</td>\n",
       "      <td>47.750000</td>\n",
       "    </tr>\n",
       "    <tr>\n",
       "      <th>50%</th>\n",
       "      <td>2014.000000</td>\n",
       "      <td>111.000000</td>\n",
       "      <td>6.800000</td>\n",
       "      <td>1.107990e+05</td>\n",
       "      <td>60.375000</td>\n",
       "      <td>58.985043</td>\n",
       "    </tr>\n",
       "    <tr>\n",
       "      <th>75%</th>\n",
       "      <td>2016.000000</td>\n",
       "      <td>123.000000</td>\n",
       "      <td>7.400000</td>\n",
       "      <td>2.399098e+05</td>\n",
       "      <td>99.177500</td>\n",
       "      <td>71.000000</td>\n",
       "    </tr>\n",
       "    <tr>\n",
       "      <th>max</th>\n",
       "      <td>2016.000000</td>\n",
       "      <td>191.000000</td>\n",
       "      <td>9.000000</td>\n",
       "      <td>1.791916e+06</td>\n",
       "      <td>936.630000</td>\n",
       "      <td>100.000000</td>\n",
       "    </tr>\n",
       "  </tbody>\n",
       "</table>\n",
       "</div>"
      ],
      "text/plain": [
       "              YEAR      RUNTIME       RATING         VOTES  REVENUE_MILLIONS  \\\n",
       "count  1000.000000  1000.000000  1000.000000  1.000000e+03       1000.000000   \n",
       "mean   2012.783000   113.172000     6.723200  1.698083e+05         82.956376   \n",
       "std       3.205962    18.810908     0.945429  1.887626e+05         96.412043   \n",
       "min    2006.000000    66.000000     1.900000  6.100000e+01          0.000000   \n",
       "25%    2010.000000   100.000000     6.200000  3.630900e+04         17.442500   \n",
       "50%    2014.000000   111.000000     6.800000  1.107990e+05         60.375000   \n",
       "75%    2016.000000   123.000000     7.400000  2.399098e+05         99.177500   \n",
       "max    2016.000000   191.000000     9.000000  1.791916e+06        936.630000   \n",
       "\n",
       "         METASCORE  \n",
       "count  1000.000000  \n",
       "mean     58.985043  \n",
       "std      16.634858  \n",
       "min      11.000000  \n",
       "25%      47.750000  \n",
       "50%      58.985043  \n",
       "75%      71.000000  \n",
       "max     100.000000  "
      ]
     },
     "execution_count": 60,
     "metadata": {},
     "output_type": "execute_result"
    }
   ],
   "source": [
    "movieDf.describe()"
   ]
  },
  {
   "cell_type": "code",
   "execution_count": 61,
   "id": "c4b72dcc",
   "metadata": {},
   "outputs": [
    {
     "data": {
      "text/plain": [
       "count    1000.000000\n",
       "mean       82.956376\n",
       "std        96.412043\n",
       "min         0.000000\n",
       "25%        17.442500\n",
       "50%        60.375000\n",
       "75%        99.177500\n",
       "max       936.630000\n",
       "Name: REVENUE_MILLIONS, dtype: float64"
      ]
     },
     "execution_count": 61,
     "metadata": {},
     "output_type": "execute_result"
    }
   ],
   "source": [
    "movieDf.REVENUE_MILLIONS.describe()"
   ]
  },
  {
   "cell_type": "code",
   "execution_count": 62,
   "id": "990cf6c7",
   "metadata": {},
   "outputs": [
    {
     "data": {
      "text/plain": [
       "82.956376    128\n",
       "0.030000       7\n",
       "0.010000       5\n",
       "0.020000       4\n",
       "0.040000       4\n",
       "Name: REVENUE_MILLIONS, dtype: int64"
      ]
     },
     "execution_count": 62,
     "metadata": {},
     "output_type": "execute_result"
    }
   ],
   "source": [
    "movieDf.REVENUE_MILLIONS.value_counts().head()"
   ]
  },
  {
   "cell_type": "markdown",
   "id": "3bc06d48",
   "metadata": {},
   "source": [
    "## Accessing the Particular Row"
   ]
  },
  {
   "cell_type": "code",
   "execution_count": 65,
   "id": "c7b2da19",
   "metadata": {},
   "outputs": [
    {
     "data": {
      "text/plain": [
       "Index(['TITLE', 'GENRE', 'DESCRIPTION', 'DIRECTOR', 'ACTORS', 'YEAR',\n",
       "       'RUNTIME', 'RATING', 'VOTES', 'REVENUE_MILLIONS', 'METASCORE'],\n",
       "      dtype='object')"
      ]
     },
     "execution_count": 65,
     "metadata": {},
     "output_type": "execute_result"
    }
   ],
   "source": [
    "movieDf.columns"
   ]
  },
  {
   "cell_type": "code",
   "execution_count": 66,
   "id": "c726736b",
   "metadata": {},
   "outputs": [
    {
     "data": {
      "text/html": [
       "<div>\n",
       "<style scoped>\n",
       "    .dataframe tbody tr th:only-of-type {\n",
       "        vertical-align: middle;\n",
       "    }\n",
       "\n",
       "    .dataframe tbody tr th {\n",
       "        vertical-align: top;\n",
       "    }\n",
       "\n",
       "    .dataframe thead th {\n",
       "        text-align: right;\n",
       "    }\n",
       "</style>\n",
       "<table border=\"1\" class=\"dataframe\">\n",
       "  <thead>\n",
       "    <tr style=\"text-align: right;\">\n",
       "      <th></th>\n",
       "      <th>TITLE</th>\n",
       "      <th>REVENUE_MILLIONS</th>\n",
       "    </tr>\n",
       "    <tr>\n",
       "      <th>Rank</th>\n",
       "      <th></th>\n",
       "      <th></th>\n",
       "    </tr>\n",
       "  </thead>\n",
       "  <tbody>\n",
       "    <tr>\n",
       "      <th>1</th>\n",
       "      <td>Guardians of the Galaxy</td>\n",
       "      <td>333.13</td>\n",
       "    </tr>\n",
       "    <tr>\n",
       "      <th>2</th>\n",
       "      <td>Prometheus</td>\n",
       "      <td>126.46</td>\n",
       "    </tr>\n",
       "    <tr>\n",
       "      <th>3</th>\n",
       "      <td>Split</td>\n",
       "      <td>138.12</td>\n",
       "    </tr>\n",
       "    <tr>\n",
       "      <th>4</th>\n",
       "      <td>Sing</td>\n",
       "      <td>270.32</td>\n",
       "    </tr>\n",
       "    <tr>\n",
       "      <th>5</th>\n",
       "      <td>Suicide Squad</td>\n",
       "      <td>325.02</td>\n",
       "    </tr>\n",
       "  </tbody>\n",
       "</table>\n",
       "</div>"
      ],
      "text/plain": [
       "                        TITLE  REVENUE_MILLIONS\n",
       "Rank                                           \n",
       "1     Guardians of the Galaxy            333.13\n",
       "2                  Prometheus            126.46\n",
       "3                       Split            138.12\n",
       "4                        Sing            270.32\n",
       "5               Suicide Squad            325.02"
      ]
     },
     "execution_count": 66,
     "metadata": {},
     "output_type": "execute_result"
    }
   ],
   "source": [
    "df = movieDf[['TITLE','REVENUE_MILLIONS']]\n",
    "df.head()"
   ]
  },
  {
   "cell_type": "code",
   "execution_count": 67,
   "id": "92a2742e",
   "metadata": {},
   "outputs": [
    {
     "data": {
      "text/html": [
       "<div>\n",
       "<style scoped>\n",
       "    .dataframe tbody tr th:only-of-type {\n",
       "        vertical-align: middle;\n",
       "    }\n",
       "\n",
       "    .dataframe tbody tr th {\n",
       "        vertical-align: top;\n",
       "    }\n",
       "\n",
       "    .dataframe thead th {\n",
       "        text-align: right;\n",
       "    }\n",
       "</style>\n",
       "<table border=\"1\" class=\"dataframe\">\n",
       "  <thead>\n",
       "    <tr style=\"text-align: right;\">\n",
       "      <th></th>\n",
       "      <th>TITLE</th>\n",
       "      <th>REVENUE_MILLIONS</th>\n",
       "    </tr>\n",
       "    <tr>\n",
       "      <th>Rank</th>\n",
       "      <th></th>\n",
       "      <th></th>\n",
       "    </tr>\n",
       "  </thead>\n",
       "  <tbody>\n",
       "    <tr>\n",
       "      <th>2</th>\n",
       "      <td>Prometheus</td>\n",
       "      <td>126.46</td>\n",
       "    </tr>\n",
       "    <tr>\n",
       "      <th>3</th>\n",
       "      <td>Split</td>\n",
       "      <td>138.12</td>\n",
       "    </tr>\n",
       "    <tr>\n",
       "      <th>4</th>\n",
       "      <td>Sing</td>\n",
       "      <td>270.32</td>\n",
       "    </tr>\n",
       "  </tbody>\n",
       "</table>\n",
       "</div>"
      ],
      "text/plain": [
       "           TITLE  REVENUE_MILLIONS\n",
       "Rank                              \n",
       "2     Prometheus            126.46\n",
       "3          Split            138.12\n",
       "4           Sing            270.32"
      ]
     },
     "execution_count": 67,
     "metadata": {},
     "output_type": "execute_result"
    }
   ],
   "source": [
    "df.iloc[1:4]"
   ]
  },
  {
   "cell_type": "markdown",
   "id": "1d9f86c6",
   "metadata": {},
   "source": [
    "### Conditional Selection"
   ]
  },
  {
   "cell_type": "code",
   "execution_count": 70,
   "id": "ade2e3a6",
   "metadata": {},
   "outputs": [
    {
     "data": {
      "text/html": [
       "<div>\n",
       "<style scoped>\n",
       "    .dataframe tbody tr th:only-of-type {\n",
       "        vertical-align: middle;\n",
       "    }\n",
       "\n",
       "    .dataframe tbody tr th {\n",
       "        vertical-align: top;\n",
       "    }\n",
       "\n",
       "    .dataframe thead th {\n",
       "        text-align: right;\n",
       "    }\n",
       "</style>\n",
       "<table border=\"1\" class=\"dataframe\">\n",
       "  <thead>\n",
       "    <tr style=\"text-align: right;\">\n",
       "      <th></th>\n",
       "      <th>TITLE</th>\n",
       "      <th>GENRE</th>\n",
       "      <th>DESCRIPTION</th>\n",
       "      <th>DIRECTOR</th>\n",
       "      <th>ACTORS</th>\n",
       "      <th>YEAR</th>\n",
       "      <th>RUNTIME</th>\n",
       "      <th>RATING</th>\n",
       "      <th>VOTES</th>\n",
       "      <th>REVENUE_MILLIONS</th>\n",
       "      <th>METASCORE</th>\n",
       "    </tr>\n",
       "    <tr>\n",
       "      <th>Rank</th>\n",
       "      <th></th>\n",
       "      <th></th>\n",
       "      <th></th>\n",
       "      <th></th>\n",
       "      <th></th>\n",
       "      <th></th>\n",
       "      <th></th>\n",
       "      <th></th>\n",
       "      <th></th>\n",
       "      <th></th>\n",
       "      <th></th>\n",
       "    </tr>\n",
       "  </thead>\n",
       "  <tbody>\n",
       "    <tr>\n",
       "      <th>1</th>\n",
       "      <td>Guardians of the Galaxy</td>\n",
       "      <td>Action,Adventure,Sci-Fi</td>\n",
       "      <td>A group of intergalactic criminals are forced ...</td>\n",
       "      <td>James Gunn</td>\n",
       "      <td>Chris Pratt, Vin Diesel, Bradley Cooper, Zoe S...</td>\n",
       "      <td>2014</td>\n",
       "      <td>121</td>\n",
       "      <td>8.1</td>\n",
       "      <td>757074</td>\n",
       "      <td>333.13</td>\n",
       "      <td>76.0</td>\n",
       "    </tr>\n",
       "    <tr>\n",
       "      <th>4</th>\n",
       "      <td>Sing</td>\n",
       "      <td>Animation,Comedy,Family</td>\n",
       "      <td>In a city of humanoid animals, a hustling thea...</td>\n",
       "      <td>Christophe Lourdelet</td>\n",
       "      <td>Matthew McConaughey,Reese Witherspoon, Seth Ma...</td>\n",
       "      <td>2016</td>\n",
       "      <td>108</td>\n",
       "      <td>7.2</td>\n",
       "      <td>60545</td>\n",
       "      <td>270.32</td>\n",
       "      <td>59.0</td>\n",
       "    </tr>\n",
       "    <tr>\n",
       "      <th>5</th>\n",
       "      <td>Suicide Squad</td>\n",
       "      <td>Action,Adventure,Fantasy</td>\n",
       "      <td>A secret government agency recruits some of th...</td>\n",
       "      <td>David Ayer</td>\n",
       "      <td>Will Smith, Jared Leto, Margot Robbie, Viola D...</td>\n",
       "      <td>2016</td>\n",
       "      <td>123</td>\n",
       "      <td>6.2</td>\n",
       "      <td>393727</td>\n",
       "      <td>325.02</td>\n",
       "      <td>40.0</td>\n",
       "    </tr>\n",
       "    <tr>\n",
       "      <th>13</th>\n",
       "      <td>Rogue One</td>\n",
       "      <td>Action,Adventure,Sci-Fi</td>\n",
       "      <td>The Rebel Alliance makes a risky move to steal...</td>\n",
       "      <td>Gareth Edwards</td>\n",
       "      <td>Felicity Jones, Diego Luna, Alan Tudyk, Donnie...</td>\n",
       "      <td>2016</td>\n",
       "      <td>133</td>\n",
       "      <td>7.9</td>\n",
       "      <td>323118</td>\n",
       "      <td>532.17</td>\n",
       "      <td>65.0</td>\n",
       "    </tr>\n",
       "    <tr>\n",
       "      <th>16</th>\n",
       "      <td>The Secret Life of Pets</td>\n",
       "      <td>Animation,Adventure,Comedy</td>\n",
       "      <td>The quiet life of a terrier named Max is upend...</td>\n",
       "      <td>Chris Renaud</td>\n",
       "      <td>Louis C.K., Eric Stonestreet, Kevin Hart, Lake...</td>\n",
       "      <td>2016</td>\n",
       "      <td>87</td>\n",
       "      <td>6.6</td>\n",
       "      <td>120259</td>\n",
       "      <td>368.31</td>\n",
       "      <td>61.0</td>\n",
       "    </tr>\n",
       "    <tr>\n",
       "      <th>34</th>\n",
       "      <td>Deadpool</td>\n",
       "      <td>Action,Adventure,Comedy</td>\n",
       "      <td>A fast-talking mercenary with a morbid sense o...</td>\n",
       "      <td>Tim Miller</td>\n",
       "      <td>Ryan Reynolds, Morena Baccarin, T.J. Miller, E...</td>\n",
       "      <td>2016</td>\n",
       "      <td>108</td>\n",
       "      <td>8.0</td>\n",
       "      <td>627797</td>\n",
       "      <td>363.02</td>\n",
       "      <td>65.0</td>\n",
       "    </tr>\n",
       "    <tr>\n",
       "      <th>36</th>\n",
       "      <td>Captain America: Civil War</td>\n",
       "      <td>Action,Adventure,Sci-Fi</td>\n",
       "      <td>Political interference in the Avengers' activi...</td>\n",
       "      <td>Anthony Russo</td>\n",
       "      <td>Chris Evans, Robert Downey Jr.,Scarlett Johans...</td>\n",
       "      <td>2016</td>\n",
       "      <td>147</td>\n",
       "      <td>7.9</td>\n",
       "      <td>411656</td>\n",
       "      <td>408.08</td>\n",
       "      <td>75.0</td>\n",
       "    </tr>\n",
       "    <tr>\n",
       "      <th>51</th>\n",
       "      <td>Star Wars: Episode VII - The Force Awakens</td>\n",
       "      <td>Action,Adventure,Fantasy</td>\n",
       "      <td>Three decades after the defeat of the Galactic...</td>\n",
       "      <td>J.J. Abrams</td>\n",
       "      <td>Daisy Ridley, John Boyega, Oscar Isaac, Domhna...</td>\n",
       "      <td>2015</td>\n",
       "      <td>136</td>\n",
       "      <td>8.1</td>\n",
       "      <td>661608</td>\n",
       "      <td>936.63</td>\n",
       "      <td>81.0</td>\n",
       "    </tr>\n",
       "    <tr>\n",
       "      <th>55</th>\n",
       "      <td>The Dark Knight</td>\n",
       "      <td>Action,Crime,Drama</td>\n",
       "      <td>When the menace known as the Joker wreaks havo...</td>\n",
       "      <td>Christopher Nolan</td>\n",
       "      <td>Christian Bale, Heath Ledger, Aaron Eckhart,Mi...</td>\n",
       "      <td>2008</td>\n",
       "      <td>152</td>\n",
       "      <td>9.0</td>\n",
       "      <td>1791916</td>\n",
       "      <td>533.32</td>\n",
       "      <td>82.0</td>\n",
       "    </tr>\n",
       "    <tr>\n",
       "      <th>61</th>\n",
       "      <td>Batman v Superman: Dawn of Justice</td>\n",
       "      <td>Action,Adventure,Sci-Fi</td>\n",
       "      <td>Fearing that the actions of Superman are left ...</td>\n",
       "      <td>Zack Snyder</td>\n",
       "      <td>Ben Affleck, Henry Cavill, Amy Adams, Jesse Ei...</td>\n",
       "      <td>2016</td>\n",
       "      <td>151</td>\n",
       "      <td>6.7</td>\n",
       "      <td>472307</td>\n",
       "      <td>330.25</td>\n",
       "      <td>44.0</td>\n",
       "    </tr>\n",
       "    <tr>\n",
       "      <th>75</th>\n",
       "      <td>Zootopia</td>\n",
       "      <td>Animation,Adventure,Comedy</td>\n",
       "      <td>In a city of anthropomorphic animals, a rookie...</td>\n",
       "      <td>Byron Howard</td>\n",
       "      <td>Ginnifer Goodwin, Jason Bateman, Idris Elba, J...</td>\n",
       "      <td>2016</td>\n",
       "      <td>108</td>\n",
       "      <td>8.1</td>\n",
       "      <td>296853</td>\n",
       "      <td>341.26</td>\n",
       "      <td>78.0</td>\n",
       "    </tr>\n",
       "    <tr>\n",
       "      <th>76</th>\n",
       "      <td>Pirates of the Caribbean: At World's End</td>\n",
       "      <td>Action,Adventure,Fantasy</td>\n",
       "      <td>Captain Barbossa, Will Turner and Elizabeth Sw...</td>\n",
       "      <td>Gore Verbinski</td>\n",
       "      <td>Johnny Depp, Orlando Bloom, Keira Knightley,Ge...</td>\n",
       "      <td>2007</td>\n",
       "      <td>169</td>\n",
       "      <td>7.1</td>\n",
       "      <td>498821</td>\n",
       "      <td>309.40</td>\n",
       "      <td>50.0</td>\n",
       "    </tr>\n",
       "    <tr>\n",
       "      <th>77</th>\n",
       "      <td>The Avengers</td>\n",
       "      <td>Action,Sci-Fi</td>\n",
       "      <td>Earth's mightiest heroes must come together an...</td>\n",
       "      <td>Joss Whedon</td>\n",
       "      <td>Robert Downey Jr., Chris Evans, Scarlett Johan...</td>\n",
       "      <td>2012</td>\n",
       "      <td>143</td>\n",
       "      <td>8.1</td>\n",
       "      <td>1045588</td>\n",
       "      <td>623.28</td>\n",
       "      <td>69.0</td>\n",
       "    </tr>\n",
       "    <tr>\n",
       "      <th>79</th>\n",
       "      <td>Pirates of the Caribbean: Dead Man's Chest</td>\n",
       "      <td>Action,Adventure,Fantasy</td>\n",
       "      <td>Jack Sparrow races to recover the heart of Dav...</td>\n",
       "      <td>Gore Verbinski</td>\n",
       "      <td>Johnny Depp, Orlando Bloom, Keira Knightley, J...</td>\n",
       "      <td>2006</td>\n",
       "      <td>151</td>\n",
       "      <td>7.3</td>\n",
       "      <td>552027</td>\n",
       "      <td>423.03</td>\n",
       "      <td>53.0</td>\n",
       "    </tr>\n",
       "    <tr>\n",
       "      <th>81</th>\n",
       "      <td>Inception</td>\n",
       "      <td>Action,Adventure,Sci-Fi</td>\n",
       "      <td>A thief, who steals corporate secrets through ...</td>\n",
       "      <td>Christopher Nolan</td>\n",
       "      <td>Leonardo DiCaprio, Joseph Gordon-Levitt, Ellen...</td>\n",
       "      <td>2010</td>\n",
       "      <td>148</td>\n",
       "      <td>8.8</td>\n",
       "      <td>1583625</td>\n",
       "      <td>292.57</td>\n",
       "      <td>74.0</td>\n",
       "    </tr>\n",
       "    <tr>\n",
       "      <th>85</th>\n",
       "      <td>Furious Seven</td>\n",
       "      <td>Action,Crime,Thriller</td>\n",
       "      <td>Deckard Shaw seeks revenge against Dominic Tor...</td>\n",
       "      <td>James Wan</td>\n",
       "      <td>Vin Diesel, Paul Walker, Dwayne Johnson, Jason...</td>\n",
       "      <td>2015</td>\n",
       "      <td>137</td>\n",
       "      <td>7.2</td>\n",
       "      <td>301249</td>\n",
       "      <td>350.03</td>\n",
       "      <td>67.0</td>\n",
       "    </tr>\n",
       "    <tr>\n",
       "      <th>86</th>\n",
       "      <td>Jurassic World</td>\n",
       "      <td>Action,Adventure,Sci-Fi</td>\n",
       "      <td>A new theme park, built on the original site o...</td>\n",
       "      <td>Colin Trevorrow</td>\n",
       "      <td>Chris Pratt, Bryce Dallas Howard, Ty Simpkins,...</td>\n",
       "      <td>2015</td>\n",
       "      <td>124</td>\n",
       "      <td>7.0</td>\n",
       "      <td>455169</td>\n",
       "      <td>652.18</td>\n",
       "      <td>59.0</td>\n",
       "    </tr>\n",
       "    <tr>\n",
       "      <th>88</th>\n",
       "      <td>Avatar</td>\n",
       "      <td>Action,Adventure,Fantasy</td>\n",
       "      <td>A paraplegic marine dispatched to the moon Pan...</td>\n",
       "      <td>James Cameron</td>\n",
       "      <td>Sam Worthington, Zoe Saldana, Sigourney Weaver...</td>\n",
       "      <td>2009</td>\n",
       "      <td>162</td>\n",
       "      <td>7.8</td>\n",
       "      <td>935408</td>\n",
       "      <td>760.51</td>\n",
       "      <td>83.0</td>\n",
       "    </tr>\n",
       "    <tr>\n",
       "      <th>95</th>\n",
       "      <td>Avengers: Age of Ultron</td>\n",
       "      <td>Action,Adventure,Sci-Fi</td>\n",
       "      <td>When Tony Stark and Bruce Banner try to jump-s...</td>\n",
       "      <td>Joss Whedon</td>\n",
       "      <td>Robert Downey Jr., Chris Evans, Mark Ruffalo, ...</td>\n",
       "      <td>2015</td>\n",
       "      <td>141</td>\n",
       "      <td>7.4</td>\n",
       "      <td>516895</td>\n",
       "      <td>458.99</td>\n",
       "      <td>66.0</td>\n",
       "    </tr>\n",
       "    <tr>\n",
       "      <th>115</th>\n",
       "      <td>Harry Potter and the Deathly Hallows: Part 2</td>\n",
       "      <td>Adventure,Drama,Fantasy</td>\n",
       "      <td>Harry, Ron and Hermione search for Voldemort's...</td>\n",
       "      <td>David Yates</td>\n",
       "      <td>Daniel Radcliffe, Emma Watson, Rupert Grint, M...</td>\n",
       "      <td>2011</td>\n",
       "      <td>130</td>\n",
       "      <td>8.1</td>\n",
       "      <td>590595</td>\n",
       "      <td>380.96</td>\n",
       "      <td>87.0</td>\n",
       "    </tr>\n",
       "    <tr>\n",
       "      <th>120</th>\n",
       "      <td>Finding Dory</td>\n",
       "      <td>Animation,Adventure,Comedy</td>\n",
       "      <td>The friendly but forgetful blue tang fish, Dor...</td>\n",
       "      <td>Andrew Stanton</td>\n",
       "      <td>Ellen DeGeneres, Albert Brooks,Ed O'Neill, Kai...</td>\n",
       "      <td>2016</td>\n",
       "      <td>97</td>\n",
       "      <td>7.4</td>\n",
       "      <td>157026</td>\n",
       "      <td>486.29</td>\n",
       "      <td>77.0</td>\n",
       "    </tr>\n",
       "    <tr>\n",
       "      <th>125</th>\n",
       "      <td>The Dark Knight Rises</td>\n",
       "      <td>Action,Thriller</td>\n",
       "      <td>Eight years after the Joker's reign of anarchy...</td>\n",
       "      <td>Christopher Nolan</td>\n",
       "      <td>Christian Bale, Tom Hardy, Anne Hathaway,Gary ...</td>\n",
       "      <td>2012</td>\n",
       "      <td>164</td>\n",
       "      <td>8.5</td>\n",
       "      <td>1222645</td>\n",
       "      <td>448.13</td>\n",
       "      <td>78.0</td>\n",
       "    </tr>\n",
       "    <tr>\n",
       "      <th>126</th>\n",
       "      <td>The Jungle Book</td>\n",
       "      <td>Adventure,Drama,Family</td>\n",
       "      <td>After a threat from the tiger Shere Khan force...</td>\n",
       "      <td>Jon Favreau</td>\n",
       "      <td>Neel Sethi, Bill Murray, Ben Kingsley, Idris Elba</td>\n",
       "      <td>2016</td>\n",
       "      <td>106</td>\n",
       "      <td>7.5</td>\n",
       "      <td>198243</td>\n",
       "      <td>364.00</td>\n",
       "      <td>77.0</td>\n",
       "    </tr>\n",
       "    <tr>\n",
       "      <th>152</th>\n",
       "      <td>The Hunger Games</td>\n",
       "      <td>Adventure,Sci-Fi,Thriller</td>\n",
       "      <td>Katniss Everdeen voluntarily takes her younger...</td>\n",
       "      <td>Gary Ross</td>\n",
       "      <td>Jennifer Lawrence, Josh Hutcherson, Liam Hemsw...</td>\n",
       "      <td>2012</td>\n",
       "      <td>142</td>\n",
       "      <td>7.2</td>\n",
       "      <td>735604</td>\n",
       "      <td>408.00</td>\n",
       "      <td>68.0</td>\n",
       "    </tr>\n",
       "    <tr>\n",
       "      <th>175</th>\n",
       "      <td>Frozen</td>\n",
       "      <td>Animation,Adventure,Comedy</td>\n",
       "      <td>When the newly crowned Queen Elsa accidentally...</td>\n",
       "      <td>Chris Buck</td>\n",
       "      <td>Kristen Bell, Idina Menzel, Jonathan Groff, Jo...</td>\n",
       "      <td>2013</td>\n",
       "      <td>102</td>\n",
       "      <td>7.5</td>\n",
       "      <td>451894</td>\n",
       "      <td>400.74</td>\n",
       "      <td>74.0</td>\n",
       "    </tr>\n",
       "    <tr>\n",
       "      <th>204</th>\n",
       "      <td>Iron Man</td>\n",
       "      <td>Action,Adventure,Sci-Fi</td>\n",
       "      <td>After being held captive in an Afghan cave, bi...</td>\n",
       "      <td>Jon Favreau</td>\n",
       "      <td>Robert Downey Jr., Gwyneth Paltrow, Terrence H...</td>\n",
       "      <td>2008</td>\n",
       "      <td>126</td>\n",
       "      <td>7.9</td>\n",
       "      <td>737719</td>\n",
       "      <td>318.30</td>\n",
       "      <td>79.0</td>\n",
       "    </tr>\n",
       "    <tr>\n",
       "      <th>213</th>\n",
       "      <td>Transformers</td>\n",
       "      <td>Action,Adventure,Sci-Fi</td>\n",
       "      <td>An ancient struggle between two Cybertronian r...</td>\n",
       "      <td>Michael Bay</td>\n",
       "      <td>Shia LaBeouf, Megan Fox, Josh Duhamel, Tyrese ...</td>\n",
       "      <td>2007</td>\n",
       "      <td>144</td>\n",
       "      <td>7.1</td>\n",
       "      <td>531112</td>\n",
       "      <td>318.76</td>\n",
       "      <td>61.0</td>\n",
       "    </tr>\n",
       "    <tr>\n",
       "      <th>242</th>\n",
       "      <td>Inside Out</td>\n",
       "      <td>Animation,Adventure,Comedy</td>\n",
       "      <td>After young Riley is uprooted from her Midwest...</td>\n",
       "      <td>Pete Docter</td>\n",
       "      <td>Amy Poehler, Bill Hader, Lewis Black, Mindy Ka...</td>\n",
       "      <td>2015</td>\n",
       "      <td>95</td>\n",
       "      <td>8.2</td>\n",
       "      <td>416689</td>\n",
       "      <td>356.45</td>\n",
       "      <td>94.0</td>\n",
       "    </tr>\n",
       "    <tr>\n",
       "      <th>256</th>\n",
       "      <td>The Hangover</td>\n",
       "      <td>Comedy</td>\n",
       "      <td>Three buddies wake up from a bachelor party in...</td>\n",
       "      <td>Todd Phillips</td>\n",
       "      <td>Zach Galifianakis, Bradley Cooper, Justin Bart...</td>\n",
       "      <td>2009</td>\n",
       "      <td>100</td>\n",
       "      <td>7.8</td>\n",
       "      <td>611563</td>\n",
       "      <td>277.31</td>\n",
       "      <td>73.0</td>\n",
       "    </tr>\n",
       "    <tr>\n",
       "      <th>271</th>\n",
       "      <td>Skyfall</td>\n",
       "      <td>Action,Adventure,Thriller</td>\n",
       "      <td>Bond's loyalty to M is tested when her past co...</td>\n",
       "      <td>Sam Mendes</td>\n",
       "      <td>Daniel Craig, Javier Bardem, Naomie Harris, Ju...</td>\n",
       "      <td>2012</td>\n",
       "      <td>143</td>\n",
       "      <td>7.8</td>\n",
       "      <td>547386</td>\n",
       "      <td>304.36</td>\n",
       "      <td>81.0</td>\n",
       "    </tr>\n",
       "    <tr>\n",
       "      <th>272</th>\n",
       "      <td>The Hobbit: An Unexpected Journey</td>\n",
       "      <td>Adventure,Fantasy</td>\n",
       "      <td>A reluctant hobbit, Bilbo Baggins, sets out to...</td>\n",
       "      <td>Peter Jackson</td>\n",
       "      <td>Martin Freeman, Ian McKellen, Richard Armitage...</td>\n",
       "      <td>2012</td>\n",
       "      <td>169</td>\n",
       "      <td>7.9</td>\n",
       "      <td>668651</td>\n",
       "      <td>303.00</td>\n",
       "      <td>58.0</td>\n",
       "    </tr>\n",
       "    <tr>\n",
       "      <th>280</th>\n",
       "      <td>Iron Man Three</td>\n",
       "      <td>Action,Adventure,Sci-Fi</td>\n",
       "      <td>When Tony Stark's world is torn apart by a for...</td>\n",
       "      <td>Shane Black</td>\n",
       "      <td>Robert Downey Jr., Guy Pearce, Gwyneth Paltrow...</td>\n",
       "      <td>2013</td>\n",
       "      <td>130</td>\n",
       "      <td>7.2</td>\n",
       "      <td>591023</td>\n",
       "      <td>408.99</td>\n",
       "      <td>62.0</td>\n",
       "    </tr>\n",
       "    <tr>\n",
       "      <th>295</th>\n",
       "      <td>Man of Steel</td>\n",
       "      <td>Action,Adventure,Fantasy</td>\n",
       "      <td>Clark Kent, one of the last of an extinguished...</td>\n",
       "      <td>Zack Snyder</td>\n",
       "      <td>Henry Cavill, Amy Adams, Michael Shannon, Dian...</td>\n",
       "      <td>2013</td>\n",
       "      <td>143</td>\n",
       "      <td>7.1</td>\n",
       "      <td>577010</td>\n",
       "      <td>291.02</td>\n",
       "      <td>55.0</td>\n",
       "    </tr>\n",
       "    <tr>\n",
       "      <th>315</th>\n",
       "      <td>Harry Potter and the Order of the Phoenix</td>\n",
       "      <td>Adventure,Family,Fantasy</td>\n",
       "      <td>With their warning about Lord Voldemort's retu...</td>\n",
       "      <td>David Yates</td>\n",
       "      <td>Daniel Radcliffe, Emma Watson, Rupert Grint, B...</td>\n",
       "      <td>2007</td>\n",
       "      <td>138</td>\n",
       "      <td>7.5</td>\n",
       "      <td>385325</td>\n",
       "      <td>292.00</td>\n",
       "      <td>71.0</td>\n",
       "    </tr>\n",
       "    <tr>\n",
       "      <th>332</th>\n",
       "      <td>American Sniper</td>\n",
       "      <td>Action,Biography,Drama</td>\n",
       "      <td>Navy S.E.A.L. sniper Chris Kyle's pinpoint acc...</td>\n",
       "      <td>Clint Eastwood</td>\n",
       "      <td>Bradley Cooper, Sienna Miller, Kyle Gallner, C...</td>\n",
       "      <td>2014</td>\n",
       "      <td>133</td>\n",
       "      <td>7.3</td>\n",
       "      <td>353305</td>\n",
       "      <td>350.12</td>\n",
       "      <td>72.0</td>\n",
       "    </tr>\n",
       "    <tr>\n",
       "      <th>345</th>\n",
       "      <td>Spider-Man 3</td>\n",
       "      <td>Action,Adventure</td>\n",
       "      <td>A strange black entity from another world bond...</td>\n",
       "      <td>Sam Raimi</td>\n",
       "      <td>Tobey Maguire, Kirsten Dunst, Topher Grace, Th...</td>\n",
       "      <td>2007</td>\n",
       "      <td>139</td>\n",
       "      <td>6.2</td>\n",
       "      <td>406219</td>\n",
       "      <td>336.53</td>\n",
       "      <td>59.0</td>\n",
       "    </tr>\n",
       "    <tr>\n",
       "      <th>367</th>\n",
       "      <td>The Twilight Saga: Breaking Dawn - Part 2</td>\n",
       "      <td>Adventure,Drama,Fantasy</td>\n",
       "      <td>After the birth of Renesmee, the Cullens gathe...</td>\n",
       "      <td>Bill Condon</td>\n",
       "      <td>Kristen Stewart, Robert Pattinson, Taylor Laut...</td>\n",
       "      <td>2012</td>\n",
       "      <td>115</td>\n",
       "      <td>5.5</td>\n",
       "      <td>194329</td>\n",
       "      <td>292.30</td>\n",
       "      <td>52.0</td>\n",
       "    </tr>\n",
       "    <tr>\n",
       "      <th>401</th>\n",
       "      <td>Minions</td>\n",
       "      <td>Animation,Action,Adventure</td>\n",
       "      <td>Minions Stuart, Kevin and Bob are recruited by...</td>\n",
       "      <td>Kyle Balda</td>\n",
       "      <td>Sandra Bullock, Jon Hamm, Michael Keaton, Pier...</td>\n",
       "      <td>2015</td>\n",
       "      <td>91</td>\n",
       "      <td>6.4</td>\n",
       "      <td>159830</td>\n",
       "      <td>336.03</td>\n",
       "      <td>56.0</td>\n",
       "    </tr>\n",
       "    <tr>\n",
       "      <th>409</th>\n",
       "      <td>The Hunger Games: Mockingjay - Part 2</td>\n",
       "      <td>Action,Adventure,Sci-Fi</td>\n",
       "      <td>As the war of Panem escalates to the destructi...</td>\n",
       "      <td>Francis Lawrence</td>\n",
       "      <td>Jennifer Lawrence, Josh Hutcherson, Liam Hemsw...</td>\n",
       "      <td>2015</td>\n",
       "      <td>137</td>\n",
       "      <td>6.6</td>\n",
       "      <td>202380</td>\n",
       "      <td>281.67</td>\n",
       "      <td>65.0</td>\n",
       "    </tr>\n",
       "    <tr>\n",
       "      <th>419</th>\n",
       "      <td>Harry Potter and the Deathly Hallows: Part 1</td>\n",
       "      <td>Adventure,Family,Fantasy</td>\n",
       "      <td>As Harry races against time and evil to destro...</td>\n",
       "      <td>David Yates</td>\n",
       "      <td>Daniel Radcliffe, Emma Watson, Rupert Grint, B...</td>\n",
       "      <td>2010</td>\n",
       "      <td>146</td>\n",
       "      <td>7.7</td>\n",
       "      <td>357213</td>\n",
       "      <td>294.98</td>\n",
       "      <td>65.0</td>\n",
       "    </tr>\n",
       "    <tr>\n",
       "      <th>451</th>\n",
       "      <td>Iron Man 2</td>\n",
       "      <td>Action,Adventure,Sci-Fi</td>\n",
       "      <td>With the world now aware of his identity as Ir...</td>\n",
       "      <td>Jon Favreau</td>\n",
       "      <td>Robert Downey Jr., Mickey Rourke, Gwyneth Palt...</td>\n",
       "      <td>2010</td>\n",
       "      <td>124</td>\n",
       "      <td>7.0</td>\n",
       "      <td>556666</td>\n",
       "      <td>312.06</td>\n",
       "      <td>57.0</td>\n",
       "    </tr>\n",
       "    <tr>\n",
       "      <th>474</th>\n",
       "      <td>Harry Potter and the Half-Blood Prince</td>\n",
       "      <td>Adventure,Family,Fantasy</td>\n",
       "      <td>As Harry Potter begins his sixth year at Hogwa...</td>\n",
       "      <td>David Yates</td>\n",
       "      <td>Daniel Radcliffe, Emma Watson, Rupert Grint, M...</td>\n",
       "      <td>2009</td>\n",
       "      <td>153</td>\n",
       "      <td>7.5</td>\n",
       "      <td>351059</td>\n",
       "      <td>301.96</td>\n",
       "      <td>78.0</td>\n",
       "    </tr>\n",
       "    <tr>\n",
       "      <th>500</th>\n",
       "      <td>Up</td>\n",
       "      <td>Animation,Adventure,Comedy</td>\n",
       "      <td>Seventy-eight year old Carl Fredricksen travel...</td>\n",
       "      <td>Pete Docter</td>\n",
       "      <td>Edward Asner, Jordan Nagai, John Ratzenberger,...</td>\n",
       "      <td>2009</td>\n",
       "      <td>96</td>\n",
       "      <td>8.3</td>\n",
       "      <td>722203</td>\n",
       "      <td>292.98</td>\n",
       "      <td>88.0</td>\n",
       "    </tr>\n",
       "    <tr>\n",
       "      <th>510</th>\n",
       "      <td>Gravity</td>\n",
       "      <td>Drama,Sci-Fi,Thriller</td>\n",
       "      <td>Two astronauts work together to survive after ...</td>\n",
       "      <td>Alfonso Cuarón</td>\n",
       "      <td>Sandra Bullock, George Clooney, Ed Harris, Ort...</td>\n",
       "      <td>2013</td>\n",
       "      <td>91</td>\n",
       "      <td>7.8</td>\n",
       "      <td>622089</td>\n",
       "      <td>274.08</td>\n",
       "      <td>96.0</td>\n",
       "    </tr>\n",
       "    <tr>\n",
       "      <th>548</th>\n",
       "      <td>Alice in Wonderland</td>\n",
       "      <td>Adventure,Family,Fantasy</td>\n",
       "      <td>Nineteen-year-old Alice returns to the magical...</td>\n",
       "      <td>Tim Burton</td>\n",
       "      <td>Mia Wasikowska, Johnny Depp, Helena Bonham Car...</td>\n",
       "      <td>2010</td>\n",
       "      <td>108</td>\n",
       "      <td>6.5</td>\n",
       "      <td>324898</td>\n",
       "      <td>334.19</td>\n",
       "      <td>53.0</td>\n",
       "    </tr>\n",
       "    <tr>\n",
       "      <th>567</th>\n",
       "      <td>Transformers: Dark of the Moon</td>\n",
       "      <td>Action,Adventure,Sci-Fi</td>\n",
       "      <td>The Autobots learn of a Cybertronian spacecraf...</td>\n",
       "      <td>Michael Bay</td>\n",
       "      <td>Shia LaBeouf, Rosie Huntington-Whiteley, Tyres...</td>\n",
       "      <td>2011</td>\n",
       "      <td>154</td>\n",
       "      <td>6.3</td>\n",
       "      <td>338369</td>\n",
       "      <td>352.36</td>\n",
       "      <td>42.0</td>\n",
       "    </tr>\n",
       "    <tr>\n",
       "      <th>579</th>\n",
       "      <td>The Hunger Games: Catching Fire</td>\n",
       "      <td>Action,Adventure,Mystery</td>\n",
       "      <td>Katniss Everdeen and Peeta Mellark become targ...</td>\n",
       "      <td>Francis Lawrence</td>\n",
       "      <td>Jennifer Lawrence, Josh Hutcherson, Liam Hemsw...</td>\n",
       "      <td>2013</td>\n",
       "      <td>146</td>\n",
       "      <td>7.6</td>\n",
       "      <td>525646</td>\n",
       "      <td>424.65</td>\n",
       "      <td>76.0</td>\n",
       "    </tr>\n",
       "    <tr>\n",
       "      <th>681</th>\n",
       "      <td>The Hunger Games: Mockingjay - Part 1</td>\n",
       "      <td>Action,Adventure,Sci-Fi</td>\n",
       "      <td>Katniss Everdeen is in District 13 after she s...</td>\n",
       "      <td>Francis Lawrence</td>\n",
       "      <td>Jennifer Lawrence, Josh Hutcherson, Liam Hemsw...</td>\n",
       "      <td>2014</td>\n",
       "      <td>123</td>\n",
       "      <td>6.7</td>\n",
       "      <td>331902</td>\n",
       "      <td>337.10</td>\n",
       "      <td>64.0</td>\n",
       "    </tr>\n",
       "    <tr>\n",
       "      <th>689</th>\n",
       "      <td>Toy Story 3</td>\n",
       "      <td>Animation,Adventure,Comedy</td>\n",
       "      <td>The toys are mistakenly delivered to a day-car...</td>\n",
       "      <td>Lee Unkrich</td>\n",
       "      <td>Tom Hanks, Tim Allen, Joan Cusack, Ned Beatty</td>\n",
       "      <td>2010</td>\n",
       "      <td>103</td>\n",
       "      <td>8.3</td>\n",
       "      <td>586669</td>\n",
       "      <td>414.98</td>\n",
       "      <td>92.0</td>\n",
       "    </tr>\n",
       "    <tr>\n",
       "      <th>711</th>\n",
       "      <td>Transformers: Revenge of the Fallen</td>\n",
       "      <td>Action,Adventure,Sci-Fi</td>\n",
       "      <td>Sam Witwicky leaves the Autobots behind for a ...</td>\n",
       "      <td>Michael Bay</td>\n",
       "      <td>Shia LaBeouf, Megan Fox, Josh Duhamel, Tyrese ...</td>\n",
       "      <td>2009</td>\n",
       "      <td>150</td>\n",
       "      <td>6.0</td>\n",
       "      <td>335757</td>\n",
       "      <td>402.08</td>\n",
       "      <td>35.0</td>\n",
       "    </tr>\n",
       "    <tr>\n",
       "      <th>768</th>\n",
       "      <td>Indiana Jones and the Kingdom of the Crystal S...</td>\n",
       "      <td>Action,Adventure,Fantasy</td>\n",
       "      <td>Famed archaeologist/adventurer Dr. Henry \"Indi...</td>\n",
       "      <td>Steven Spielberg</td>\n",
       "      <td>Harrison Ford, Cate Blanchett, Shia LaBeouf,Ka...</td>\n",
       "      <td>2008</td>\n",
       "      <td>122</td>\n",
       "      <td>6.2</td>\n",
       "      <td>351361</td>\n",
       "      <td>317.01</td>\n",
       "      <td>65.0</td>\n",
       "    </tr>\n",
       "    <tr>\n",
       "      <th>798</th>\n",
       "      <td>Despicable Me 2</td>\n",
       "      <td>Animation,Adventure,Comedy</td>\n",
       "      <td>When Gru, the world's most super-bad turned su...</td>\n",
       "      <td>Pierre Coffin</td>\n",
       "      <td>Steve Carell, Kristen Wiig, Benjamin Bratt, Mi...</td>\n",
       "      <td>2013</td>\n",
       "      <td>98</td>\n",
       "      <td>7.4</td>\n",
       "      <td>304837</td>\n",
       "      <td>368.05</td>\n",
       "      <td>62.0</td>\n",
       "    </tr>\n",
       "    <tr>\n",
       "      <th>926</th>\n",
       "      <td>The Twilight Saga: Breaking Dawn - Part 1</td>\n",
       "      <td>Adventure,Drama,Fantasy</td>\n",
       "      <td>The Quileutes close in on expecting parents Ed...</td>\n",
       "      <td>Bill Condon</td>\n",
       "      <td>Kristen Stewart, Robert Pattinson, Taylor Laut...</td>\n",
       "      <td>2011</td>\n",
       "      <td>117</td>\n",
       "      <td>4.9</td>\n",
       "      <td>190244</td>\n",
       "      <td>281.28</td>\n",
       "      <td>45.0</td>\n",
       "    </tr>\n",
       "    <tr>\n",
       "      <th>942</th>\n",
       "      <td>The Twilight Saga: Eclipse</td>\n",
       "      <td>Adventure,Drama,Fantasy</td>\n",
       "      <td>As a string of mysterious killings grips Seatt...</td>\n",
       "      <td>David Slade</td>\n",
       "      <td>Kristen Stewart, Robert Pattinson, Taylor Laut...</td>\n",
       "      <td>2010</td>\n",
       "      <td>124</td>\n",
       "      <td>4.9</td>\n",
       "      <td>192740</td>\n",
       "      <td>300.52</td>\n",
       "      <td>58.0</td>\n",
       "    </tr>\n",
       "  </tbody>\n",
       "</table>\n",
       "</div>"
      ],
      "text/plain": [
       "                                                  TITLE  \\\n",
       "Rank                                                      \n",
       "1                               Guardians of the Galaxy   \n",
       "4                                                  Sing   \n",
       "5                                         Suicide Squad   \n",
       "13                                            Rogue One   \n",
       "16                              The Secret Life of Pets   \n",
       "34                                             Deadpool   \n",
       "36                           Captain America: Civil War   \n",
       "51           Star Wars: Episode VII - The Force Awakens   \n",
       "55                                      The Dark Knight   \n",
       "61                   Batman v Superman: Dawn of Justice   \n",
       "75                                             Zootopia   \n",
       "76             Pirates of the Caribbean: At World's End   \n",
       "77                                         The Avengers   \n",
       "79           Pirates of the Caribbean: Dead Man's Chest   \n",
       "81                                            Inception   \n",
       "85                                        Furious Seven   \n",
       "86                                       Jurassic World   \n",
       "88                                               Avatar   \n",
       "95                              Avengers: Age of Ultron   \n",
       "115        Harry Potter and the Deathly Hallows: Part 2   \n",
       "120                                        Finding Dory   \n",
       "125                               The Dark Knight Rises   \n",
       "126                                     The Jungle Book   \n",
       "152                                    The Hunger Games   \n",
       "175                                              Frozen   \n",
       "204                                            Iron Man   \n",
       "213                                        Transformers   \n",
       "242                                          Inside Out   \n",
       "256                                        The Hangover   \n",
       "271                                             Skyfall   \n",
       "272                   The Hobbit: An Unexpected Journey   \n",
       "280                                      Iron Man Three   \n",
       "295                                        Man of Steel   \n",
       "315           Harry Potter and the Order of the Phoenix   \n",
       "332                                     American Sniper   \n",
       "345                                        Spider-Man 3   \n",
       "367           The Twilight Saga: Breaking Dawn - Part 2   \n",
       "401                                             Minions   \n",
       "409               The Hunger Games: Mockingjay - Part 2   \n",
       "419        Harry Potter and the Deathly Hallows: Part 1   \n",
       "451                                          Iron Man 2   \n",
       "474              Harry Potter and the Half-Blood Prince   \n",
       "500                                                  Up   \n",
       "510                                             Gravity   \n",
       "548                                 Alice in Wonderland   \n",
       "567                      Transformers: Dark of the Moon   \n",
       "579                     The Hunger Games: Catching Fire   \n",
       "681               The Hunger Games: Mockingjay - Part 1   \n",
       "689                                         Toy Story 3   \n",
       "711                 Transformers: Revenge of the Fallen   \n",
       "768   Indiana Jones and the Kingdom of the Crystal S...   \n",
       "798                                     Despicable Me 2   \n",
       "926           The Twilight Saga: Breaking Dawn - Part 1   \n",
       "942                          The Twilight Saga: Eclipse   \n",
       "\n",
       "                           GENRE  \\\n",
       "Rank                               \n",
       "1        Action,Adventure,Sci-Fi   \n",
       "4        Animation,Comedy,Family   \n",
       "5       Action,Adventure,Fantasy   \n",
       "13       Action,Adventure,Sci-Fi   \n",
       "16    Animation,Adventure,Comedy   \n",
       "34       Action,Adventure,Comedy   \n",
       "36       Action,Adventure,Sci-Fi   \n",
       "51      Action,Adventure,Fantasy   \n",
       "55            Action,Crime,Drama   \n",
       "61       Action,Adventure,Sci-Fi   \n",
       "75    Animation,Adventure,Comedy   \n",
       "76      Action,Adventure,Fantasy   \n",
       "77                 Action,Sci-Fi   \n",
       "79      Action,Adventure,Fantasy   \n",
       "81       Action,Adventure,Sci-Fi   \n",
       "85         Action,Crime,Thriller   \n",
       "86       Action,Adventure,Sci-Fi   \n",
       "88      Action,Adventure,Fantasy   \n",
       "95       Action,Adventure,Sci-Fi   \n",
       "115      Adventure,Drama,Fantasy   \n",
       "120   Animation,Adventure,Comedy   \n",
       "125              Action,Thriller   \n",
       "126       Adventure,Drama,Family   \n",
       "152    Adventure,Sci-Fi,Thriller   \n",
       "175   Animation,Adventure,Comedy   \n",
       "204      Action,Adventure,Sci-Fi   \n",
       "213      Action,Adventure,Sci-Fi   \n",
       "242   Animation,Adventure,Comedy   \n",
       "256                       Comedy   \n",
       "271    Action,Adventure,Thriller   \n",
       "272            Adventure,Fantasy   \n",
       "280      Action,Adventure,Sci-Fi   \n",
       "295     Action,Adventure,Fantasy   \n",
       "315     Adventure,Family,Fantasy   \n",
       "332       Action,Biography,Drama   \n",
       "345             Action,Adventure   \n",
       "367      Adventure,Drama,Fantasy   \n",
       "401   Animation,Action,Adventure   \n",
       "409      Action,Adventure,Sci-Fi   \n",
       "419     Adventure,Family,Fantasy   \n",
       "451      Action,Adventure,Sci-Fi   \n",
       "474     Adventure,Family,Fantasy   \n",
       "500   Animation,Adventure,Comedy   \n",
       "510        Drama,Sci-Fi,Thriller   \n",
       "548     Adventure,Family,Fantasy   \n",
       "567      Action,Adventure,Sci-Fi   \n",
       "579     Action,Adventure,Mystery   \n",
       "681      Action,Adventure,Sci-Fi   \n",
       "689   Animation,Adventure,Comedy   \n",
       "711      Action,Adventure,Sci-Fi   \n",
       "768     Action,Adventure,Fantasy   \n",
       "798   Animation,Adventure,Comedy   \n",
       "926      Adventure,Drama,Fantasy   \n",
       "942      Adventure,Drama,Fantasy   \n",
       "\n",
       "                                            DESCRIPTION              DIRECTOR  \\\n",
       "Rank                                                                            \n",
       "1     A group of intergalactic criminals are forced ...            James Gunn   \n",
       "4     In a city of humanoid animals, a hustling thea...  Christophe Lourdelet   \n",
       "5     A secret government agency recruits some of th...            David Ayer   \n",
       "13    The Rebel Alliance makes a risky move to steal...        Gareth Edwards   \n",
       "16    The quiet life of a terrier named Max is upend...          Chris Renaud   \n",
       "34    A fast-talking mercenary with a morbid sense o...            Tim Miller   \n",
       "36    Political interference in the Avengers' activi...         Anthony Russo   \n",
       "51    Three decades after the defeat of the Galactic...           J.J. Abrams   \n",
       "55    When the menace known as the Joker wreaks havo...     Christopher Nolan   \n",
       "61    Fearing that the actions of Superman are left ...           Zack Snyder   \n",
       "75    In a city of anthropomorphic animals, a rookie...          Byron Howard   \n",
       "76    Captain Barbossa, Will Turner and Elizabeth Sw...        Gore Verbinski   \n",
       "77    Earth's mightiest heroes must come together an...           Joss Whedon   \n",
       "79    Jack Sparrow races to recover the heart of Dav...        Gore Verbinski   \n",
       "81    A thief, who steals corporate secrets through ...     Christopher Nolan   \n",
       "85    Deckard Shaw seeks revenge against Dominic Tor...             James Wan   \n",
       "86    A new theme park, built on the original site o...       Colin Trevorrow   \n",
       "88    A paraplegic marine dispatched to the moon Pan...         James Cameron   \n",
       "95    When Tony Stark and Bruce Banner try to jump-s...           Joss Whedon   \n",
       "115   Harry, Ron and Hermione search for Voldemort's...           David Yates   \n",
       "120   The friendly but forgetful blue tang fish, Dor...        Andrew Stanton   \n",
       "125   Eight years after the Joker's reign of anarchy...     Christopher Nolan   \n",
       "126   After a threat from the tiger Shere Khan force...           Jon Favreau   \n",
       "152   Katniss Everdeen voluntarily takes her younger...             Gary Ross   \n",
       "175   When the newly crowned Queen Elsa accidentally...            Chris Buck   \n",
       "204   After being held captive in an Afghan cave, bi...           Jon Favreau   \n",
       "213   An ancient struggle between two Cybertronian r...           Michael Bay   \n",
       "242   After young Riley is uprooted from her Midwest...           Pete Docter   \n",
       "256   Three buddies wake up from a bachelor party in...         Todd Phillips   \n",
       "271   Bond's loyalty to M is tested when her past co...            Sam Mendes   \n",
       "272   A reluctant hobbit, Bilbo Baggins, sets out to...         Peter Jackson   \n",
       "280   When Tony Stark's world is torn apart by a for...           Shane Black   \n",
       "295   Clark Kent, one of the last of an extinguished...           Zack Snyder   \n",
       "315   With their warning about Lord Voldemort's retu...           David Yates   \n",
       "332   Navy S.E.A.L. sniper Chris Kyle's pinpoint acc...        Clint Eastwood   \n",
       "345   A strange black entity from another world bond...             Sam Raimi   \n",
       "367   After the birth of Renesmee, the Cullens gathe...           Bill Condon   \n",
       "401   Minions Stuart, Kevin and Bob are recruited by...            Kyle Balda   \n",
       "409   As the war of Panem escalates to the destructi...      Francis Lawrence   \n",
       "419   As Harry races against time and evil to destro...           David Yates   \n",
       "451   With the world now aware of his identity as Ir...           Jon Favreau   \n",
       "474   As Harry Potter begins his sixth year at Hogwa...           David Yates   \n",
       "500   Seventy-eight year old Carl Fredricksen travel...           Pete Docter   \n",
       "510   Two astronauts work together to survive after ...        Alfonso Cuarón   \n",
       "548   Nineteen-year-old Alice returns to the magical...            Tim Burton   \n",
       "567   The Autobots learn of a Cybertronian spacecraf...           Michael Bay   \n",
       "579   Katniss Everdeen and Peeta Mellark become targ...      Francis Lawrence   \n",
       "681   Katniss Everdeen is in District 13 after she s...      Francis Lawrence   \n",
       "689   The toys are mistakenly delivered to a day-car...           Lee Unkrich   \n",
       "711   Sam Witwicky leaves the Autobots behind for a ...           Michael Bay   \n",
       "768   Famed archaeologist/adventurer Dr. Henry \"Indi...      Steven Spielberg   \n",
       "798   When Gru, the world's most super-bad turned su...         Pierre Coffin   \n",
       "926   The Quileutes close in on expecting parents Ed...           Bill Condon   \n",
       "942   As a string of mysterious killings grips Seatt...           David Slade   \n",
       "\n",
       "                                                 ACTORS  YEAR  RUNTIME  \\\n",
       "Rank                                                                     \n",
       "1     Chris Pratt, Vin Diesel, Bradley Cooper, Zoe S...  2014      121   \n",
       "4     Matthew McConaughey,Reese Witherspoon, Seth Ma...  2016      108   \n",
       "5     Will Smith, Jared Leto, Margot Robbie, Viola D...  2016      123   \n",
       "13    Felicity Jones, Diego Luna, Alan Tudyk, Donnie...  2016      133   \n",
       "16    Louis C.K., Eric Stonestreet, Kevin Hart, Lake...  2016       87   \n",
       "34    Ryan Reynolds, Morena Baccarin, T.J. Miller, E...  2016      108   \n",
       "36    Chris Evans, Robert Downey Jr.,Scarlett Johans...  2016      147   \n",
       "51    Daisy Ridley, John Boyega, Oscar Isaac, Domhna...  2015      136   \n",
       "55    Christian Bale, Heath Ledger, Aaron Eckhart,Mi...  2008      152   \n",
       "61    Ben Affleck, Henry Cavill, Amy Adams, Jesse Ei...  2016      151   \n",
       "75    Ginnifer Goodwin, Jason Bateman, Idris Elba, J...  2016      108   \n",
       "76    Johnny Depp, Orlando Bloom, Keira Knightley,Ge...  2007      169   \n",
       "77    Robert Downey Jr., Chris Evans, Scarlett Johan...  2012      143   \n",
       "79    Johnny Depp, Orlando Bloom, Keira Knightley, J...  2006      151   \n",
       "81    Leonardo DiCaprio, Joseph Gordon-Levitt, Ellen...  2010      148   \n",
       "85    Vin Diesel, Paul Walker, Dwayne Johnson, Jason...  2015      137   \n",
       "86    Chris Pratt, Bryce Dallas Howard, Ty Simpkins,...  2015      124   \n",
       "88    Sam Worthington, Zoe Saldana, Sigourney Weaver...  2009      162   \n",
       "95    Robert Downey Jr., Chris Evans, Mark Ruffalo, ...  2015      141   \n",
       "115   Daniel Radcliffe, Emma Watson, Rupert Grint, M...  2011      130   \n",
       "120   Ellen DeGeneres, Albert Brooks,Ed O'Neill, Kai...  2016       97   \n",
       "125   Christian Bale, Tom Hardy, Anne Hathaway,Gary ...  2012      164   \n",
       "126   Neel Sethi, Bill Murray, Ben Kingsley, Idris Elba  2016      106   \n",
       "152   Jennifer Lawrence, Josh Hutcherson, Liam Hemsw...  2012      142   \n",
       "175   Kristen Bell, Idina Menzel, Jonathan Groff, Jo...  2013      102   \n",
       "204   Robert Downey Jr., Gwyneth Paltrow, Terrence H...  2008      126   \n",
       "213   Shia LaBeouf, Megan Fox, Josh Duhamel, Tyrese ...  2007      144   \n",
       "242   Amy Poehler, Bill Hader, Lewis Black, Mindy Ka...  2015       95   \n",
       "256   Zach Galifianakis, Bradley Cooper, Justin Bart...  2009      100   \n",
       "271   Daniel Craig, Javier Bardem, Naomie Harris, Ju...  2012      143   \n",
       "272   Martin Freeman, Ian McKellen, Richard Armitage...  2012      169   \n",
       "280   Robert Downey Jr., Guy Pearce, Gwyneth Paltrow...  2013      130   \n",
       "295   Henry Cavill, Amy Adams, Michael Shannon, Dian...  2013      143   \n",
       "315   Daniel Radcliffe, Emma Watson, Rupert Grint, B...  2007      138   \n",
       "332   Bradley Cooper, Sienna Miller, Kyle Gallner, C...  2014      133   \n",
       "345   Tobey Maguire, Kirsten Dunst, Topher Grace, Th...  2007      139   \n",
       "367   Kristen Stewart, Robert Pattinson, Taylor Laut...  2012      115   \n",
       "401   Sandra Bullock, Jon Hamm, Michael Keaton, Pier...  2015       91   \n",
       "409   Jennifer Lawrence, Josh Hutcherson, Liam Hemsw...  2015      137   \n",
       "419   Daniel Radcliffe, Emma Watson, Rupert Grint, B...  2010      146   \n",
       "451   Robert Downey Jr., Mickey Rourke, Gwyneth Palt...  2010      124   \n",
       "474   Daniel Radcliffe, Emma Watson, Rupert Grint, M...  2009      153   \n",
       "500   Edward Asner, Jordan Nagai, John Ratzenberger,...  2009       96   \n",
       "510   Sandra Bullock, George Clooney, Ed Harris, Ort...  2013       91   \n",
       "548   Mia Wasikowska, Johnny Depp, Helena Bonham Car...  2010      108   \n",
       "567   Shia LaBeouf, Rosie Huntington-Whiteley, Tyres...  2011      154   \n",
       "579   Jennifer Lawrence, Josh Hutcherson, Liam Hemsw...  2013      146   \n",
       "681   Jennifer Lawrence, Josh Hutcherson, Liam Hemsw...  2014      123   \n",
       "689       Tom Hanks, Tim Allen, Joan Cusack, Ned Beatty  2010      103   \n",
       "711   Shia LaBeouf, Megan Fox, Josh Duhamel, Tyrese ...  2009      150   \n",
       "768   Harrison Ford, Cate Blanchett, Shia LaBeouf,Ka...  2008      122   \n",
       "798   Steve Carell, Kristen Wiig, Benjamin Bratt, Mi...  2013       98   \n",
       "926   Kristen Stewart, Robert Pattinson, Taylor Laut...  2011      117   \n",
       "942   Kristen Stewart, Robert Pattinson, Taylor Laut...  2010      124   \n",
       "\n",
       "      RATING    VOTES  REVENUE_MILLIONS  METASCORE  \n",
       "Rank                                                \n",
       "1        8.1   757074            333.13       76.0  \n",
       "4        7.2    60545            270.32       59.0  \n",
       "5        6.2   393727            325.02       40.0  \n",
       "13       7.9   323118            532.17       65.0  \n",
       "16       6.6   120259            368.31       61.0  \n",
       "34       8.0   627797            363.02       65.0  \n",
       "36       7.9   411656            408.08       75.0  \n",
       "51       8.1   661608            936.63       81.0  \n",
       "55       9.0  1791916            533.32       82.0  \n",
       "61       6.7   472307            330.25       44.0  \n",
       "75       8.1   296853            341.26       78.0  \n",
       "76       7.1   498821            309.40       50.0  \n",
       "77       8.1  1045588            623.28       69.0  \n",
       "79       7.3   552027            423.03       53.0  \n",
       "81       8.8  1583625            292.57       74.0  \n",
       "85       7.2   301249            350.03       67.0  \n",
       "86       7.0   455169            652.18       59.0  \n",
       "88       7.8   935408            760.51       83.0  \n",
       "95       7.4   516895            458.99       66.0  \n",
       "115      8.1   590595            380.96       87.0  \n",
       "120      7.4   157026            486.29       77.0  \n",
       "125      8.5  1222645            448.13       78.0  \n",
       "126      7.5   198243            364.00       77.0  \n",
       "152      7.2   735604            408.00       68.0  \n",
       "175      7.5   451894            400.74       74.0  \n",
       "204      7.9   737719            318.30       79.0  \n",
       "213      7.1   531112            318.76       61.0  \n",
       "242      8.2   416689            356.45       94.0  \n",
       "256      7.8   611563            277.31       73.0  \n",
       "271      7.8   547386            304.36       81.0  \n",
       "272      7.9   668651            303.00       58.0  \n",
       "280      7.2   591023            408.99       62.0  \n",
       "295      7.1   577010            291.02       55.0  \n",
       "315      7.5   385325            292.00       71.0  \n",
       "332      7.3   353305            350.12       72.0  \n",
       "345      6.2   406219            336.53       59.0  \n",
       "367      5.5   194329            292.30       52.0  \n",
       "401      6.4   159830            336.03       56.0  \n",
       "409      6.6   202380            281.67       65.0  \n",
       "419      7.7   357213            294.98       65.0  \n",
       "451      7.0   556666            312.06       57.0  \n",
       "474      7.5   351059            301.96       78.0  \n",
       "500      8.3   722203            292.98       88.0  \n",
       "510      7.8   622089            274.08       96.0  \n",
       "548      6.5   324898            334.19       53.0  \n",
       "567      6.3   338369            352.36       42.0  \n",
       "579      7.6   525646            424.65       76.0  \n",
       "681      6.7   331902            337.10       64.0  \n",
       "689      8.3   586669            414.98       92.0  \n",
       "711      6.0   335757            402.08       35.0  \n",
       "768      6.2   351361            317.01       65.0  \n",
       "798      7.4   304837            368.05       62.0  \n",
       "926      4.9   190244            281.28       45.0  \n",
       "942      4.9   192740            300.52       58.0  "
      ]
     },
     "execution_count": 70,
     "metadata": {},
     "output_type": "execute_result"
    }
   ],
   "source": [
    "movieDf[movieDf['REVENUE_MILLIONS'] >= 270.32]"
   ]
  },
  {
   "cell_type": "code",
   "execution_count": 71,
   "id": "2d07e83b",
   "metadata": {},
   "outputs": [
    {
     "data": {
      "text/html": [
       "<div>\n",
       "<style scoped>\n",
       "    .dataframe tbody tr th:only-of-type {\n",
       "        vertical-align: middle;\n",
       "    }\n",
       "\n",
       "    .dataframe tbody tr th {\n",
       "        vertical-align: top;\n",
       "    }\n",
       "\n",
       "    .dataframe thead th {\n",
       "        text-align: right;\n",
       "    }\n",
       "</style>\n",
       "<table border=\"1\" class=\"dataframe\">\n",
       "  <thead>\n",
       "    <tr style=\"text-align: right;\">\n",
       "      <th></th>\n",
       "      <th>TITLE</th>\n",
       "      <th>GENRE</th>\n",
       "      <th>DESCRIPTION</th>\n",
       "      <th>DIRECTOR</th>\n",
       "      <th>ACTORS</th>\n",
       "      <th>YEAR</th>\n",
       "      <th>RUNTIME</th>\n",
       "      <th>RATING</th>\n",
       "      <th>VOTES</th>\n",
       "      <th>REVENUE_MILLIONS</th>\n",
       "      <th>METASCORE</th>\n",
       "    </tr>\n",
       "    <tr>\n",
       "      <th>Rank</th>\n",
       "      <th></th>\n",
       "      <th></th>\n",
       "      <th></th>\n",
       "      <th></th>\n",
       "      <th></th>\n",
       "      <th></th>\n",
       "      <th></th>\n",
       "      <th></th>\n",
       "      <th></th>\n",
       "      <th></th>\n",
       "      <th></th>\n",
       "    </tr>\n",
       "  </thead>\n",
       "  <tbody>\n",
       "    <tr>\n",
       "      <th>1</th>\n",
       "      <td>Guardians of the Galaxy</td>\n",
       "      <td>Action,Adventure,Sci-Fi</td>\n",
       "      <td>A group of intergalactic criminals are forced ...</td>\n",
       "      <td>James Gunn</td>\n",
       "      <td>Chris Pratt, Vin Diesel, Bradley Cooper, Zoe S...</td>\n",
       "      <td>2014</td>\n",
       "      <td>121</td>\n",
       "      <td>8.1</td>\n",
       "      <td>757074</td>\n",
       "      <td>333.13</td>\n",
       "      <td>76.0</td>\n",
       "    </tr>\n",
       "    <tr>\n",
       "      <th>4</th>\n",
       "      <td>Sing</td>\n",
       "      <td>Animation,Comedy,Family</td>\n",
       "      <td>In a city of humanoid animals, a hustling thea...</td>\n",
       "      <td>Christophe Lourdelet</td>\n",
       "      <td>Matthew McConaughey,Reese Witherspoon, Seth Ma...</td>\n",
       "      <td>2016</td>\n",
       "      <td>108</td>\n",
       "      <td>7.2</td>\n",
       "      <td>60545</td>\n",
       "      <td>270.32</td>\n",
       "      <td>59.0</td>\n",
       "    </tr>\n",
       "    <tr>\n",
       "      <th>5</th>\n",
       "      <td>Suicide Squad</td>\n",
       "      <td>Action,Adventure,Fantasy</td>\n",
       "      <td>A secret government agency recruits some of th...</td>\n",
       "      <td>David Ayer</td>\n",
       "      <td>Will Smith, Jared Leto, Margot Robbie, Viola D...</td>\n",
       "      <td>2016</td>\n",
       "      <td>123</td>\n",
       "      <td>6.2</td>\n",
       "      <td>393727</td>\n",
       "      <td>325.02</td>\n",
       "      <td>40.0</td>\n",
       "    </tr>\n",
       "    <tr>\n",
       "      <th>13</th>\n",
       "      <td>Rogue One</td>\n",
       "      <td>Action,Adventure,Sci-Fi</td>\n",
       "      <td>The Rebel Alliance makes a risky move to steal...</td>\n",
       "      <td>Gareth Edwards</td>\n",
       "      <td>Felicity Jones, Diego Luna, Alan Tudyk, Donnie...</td>\n",
       "      <td>2016</td>\n",
       "      <td>133</td>\n",
       "      <td>7.9</td>\n",
       "      <td>323118</td>\n",
       "      <td>532.17</td>\n",
       "      <td>65.0</td>\n",
       "    </tr>\n",
       "    <tr>\n",
       "      <th>16</th>\n",
       "      <td>The Secret Life of Pets</td>\n",
       "      <td>Animation,Adventure,Comedy</td>\n",
       "      <td>The quiet life of a terrier named Max is upend...</td>\n",
       "      <td>Chris Renaud</td>\n",
       "      <td>Louis C.K., Eric Stonestreet, Kevin Hart, Lake...</td>\n",
       "      <td>2016</td>\n",
       "      <td>87</td>\n",
       "      <td>6.6</td>\n",
       "      <td>120259</td>\n",
       "      <td>368.31</td>\n",
       "      <td>61.0</td>\n",
       "    </tr>\n",
       "    <tr>\n",
       "      <th>...</th>\n",
       "      <td>...</td>\n",
       "      <td>...</td>\n",
       "      <td>...</td>\n",
       "      <td>...</td>\n",
       "      <td>...</td>\n",
       "      <td>...</td>\n",
       "      <td>...</td>\n",
       "      <td>...</td>\n",
       "      <td>...</td>\n",
       "      <td>...</td>\n",
       "      <td>...</td>\n",
       "    </tr>\n",
       "    <tr>\n",
       "      <th>879</th>\n",
       "      <td>G.I. Joe: Retaliation</td>\n",
       "      <td>Action,Adventure,Sci-Fi</td>\n",
       "      <td>The G.I. Joes are not only fighting their mort...</td>\n",
       "      <td>Jon M. Chu</td>\n",
       "      <td>Dwayne Johnson, Channing Tatum, Adrianne Palic...</td>\n",
       "      <td>2013</td>\n",
       "      <td>110</td>\n",
       "      <td>5.8</td>\n",
       "      <td>152145</td>\n",
       "      <td>122.51</td>\n",
       "      <td>41.0</td>\n",
       "    </tr>\n",
       "    <tr>\n",
       "      <th>925</th>\n",
       "      <td>Superman Returns</td>\n",
       "      <td>Action,Adventure,Sci-Fi</td>\n",
       "      <td>Superman reappears after a long absence, but i...</td>\n",
       "      <td>Bryan Singer</td>\n",
       "      <td>Brandon Routh, Kevin Spacey, Kate Bosworth, Ja...</td>\n",
       "      <td>2006</td>\n",
       "      <td>154</td>\n",
       "      <td>6.1</td>\n",
       "      <td>246797</td>\n",
       "      <td>200.07</td>\n",
       "      <td>72.0</td>\n",
       "    </tr>\n",
       "    <tr>\n",
       "      <th>926</th>\n",
       "      <td>The Twilight Saga: Breaking Dawn - Part 1</td>\n",
       "      <td>Adventure,Drama,Fantasy</td>\n",
       "      <td>The Quileutes close in on expecting parents Ed...</td>\n",
       "      <td>Bill Condon</td>\n",
       "      <td>Kristen Stewart, Robert Pattinson, Taylor Laut...</td>\n",
       "      <td>2011</td>\n",
       "      <td>117</td>\n",
       "      <td>4.9</td>\n",
       "      <td>190244</td>\n",
       "      <td>281.28</td>\n",
       "      <td>45.0</td>\n",
       "    </tr>\n",
       "    <tr>\n",
       "      <th>942</th>\n",
       "      <td>The Twilight Saga: Eclipse</td>\n",
       "      <td>Adventure,Drama,Fantasy</td>\n",
       "      <td>As a string of mysterious killings grips Seatt...</td>\n",
       "      <td>David Slade</td>\n",
       "      <td>Kristen Stewart, Robert Pattinson, Taylor Laut...</td>\n",
       "      <td>2010</td>\n",
       "      <td>124</td>\n",
       "      <td>4.9</td>\n",
       "      <td>192740</td>\n",
       "      <td>300.52</td>\n",
       "      <td>58.0</td>\n",
       "    </tr>\n",
       "    <tr>\n",
       "      <th>949</th>\n",
       "      <td>After Earth</td>\n",
       "      <td>Action,Adventure,Sci-Fi</td>\n",
       "      <td>A crash landing leaves Kitai Raige and his fat...</td>\n",
       "      <td>M. Night Shyamalan</td>\n",
       "      <td>Jaden Smith, David Denman, Will Smith,Sophie O...</td>\n",
       "      <td>2013</td>\n",
       "      <td>100</td>\n",
       "      <td>4.9</td>\n",
       "      <td>166512</td>\n",
       "      <td>60.52</td>\n",
       "      <td>33.0</td>\n",
       "    </tr>\n",
       "  </tbody>\n",
       "</table>\n",
       "<p>91 rows × 11 columns</p>\n",
       "</div>"
      ],
      "text/plain": [
       "                                          TITLE                       GENRE  \\\n",
       "Rank                                                                          \n",
       "1                       Guardians of the Galaxy     Action,Adventure,Sci-Fi   \n",
       "4                                          Sing     Animation,Comedy,Family   \n",
       "5                                 Suicide Squad    Action,Adventure,Fantasy   \n",
       "13                                    Rogue One     Action,Adventure,Sci-Fi   \n",
       "16                      The Secret Life of Pets  Animation,Adventure,Comedy   \n",
       "...                                         ...                         ...   \n",
       "879                       G.I. Joe: Retaliation     Action,Adventure,Sci-Fi   \n",
       "925                            Superman Returns     Action,Adventure,Sci-Fi   \n",
       "926   The Twilight Saga: Breaking Dawn - Part 1     Adventure,Drama,Fantasy   \n",
       "942                  The Twilight Saga: Eclipse     Adventure,Drama,Fantasy   \n",
       "949                                 After Earth     Action,Adventure,Sci-Fi   \n",
       "\n",
       "                                            DESCRIPTION              DIRECTOR  \\\n",
       "Rank                                                                            \n",
       "1     A group of intergalactic criminals are forced ...            James Gunn   \n",
       "4     In a city of humanoid animals, a hustling thea...  Christophe Lourdelet   \n",
       "5     A secret government agency recruits some of th...            David Ayer   \n",
       "13    The Rebel Alliance makes a risky move to steal...        Gareth Edwards   \n",
       "16    The quiet life of a terrier named Max is upend...          Chris Renaud   \n",
       "...                                                 ...                   ...   \n",
       "879   The G.I. Joes are not only fighting their mort...            Jon M. Chu   \n",
       "925   Superman reappears after a long absence, but i...          Bryan Singer   \n",
       "926   The Quileutes close in on expecting parents Ed...           Bill Condon   \n",
       "942   As a string of mysterious killings grips Seatt...           David Slade   \n",
       "949   A crash landing leaves Kitai Raige and his fat...    M. Night Shyamalan   \n",
       "\n",
       "                                                 ACTORS  YEAR  RUNTIME  \\\n",
       "Rank                                                                     \n",
       "1     Chris Pratt, Vin Diesel, Bradley Cooper, Zoe S...  2014      121   \n",
       "4     Matthew McConaughey,Reese Witherspoon, Seth Ma...  2016      108   \n",
       "5     Will Smith, Jared Leto, Margot Robbie, Viola D...  2016      123   \n",
       "13    Felicity Jones, Diego Luna, Alan Tudyk, Donnie...  2016      133   \n",
       "16    Louis C.K., Eric Stonestreet, Kevin Hart, Lake...  2016       87   \n",
       "...                                                 ...   ...      ...   \n",
       "879   Dwayne Johnson, Channing Tatum, Adrianne Palic...  2013      110   \n",
       "925   Brandon Routh, Kevin Spacey, Kate Bosworth, Ja...  2006      154   \n",
       "926   Kristen Stewart, Robert Pattinson, Taylor Laut...  2011      117   \n",
       "942   Kristen Stewart, Robert Pattinson, Taylor Laut...  2010      124   \n",
       "949   Jaden Smith, David Denman, Will Smith,Sophie O...  2013      100   \n",
       "\n",
       "      RATING   VOTES  REVENUE_MILLIONS  METASCORE  \n",
       "Rank                                               \n",
       "1        8.1  757074            333.13       76.0  \n",
       "4        7.2   60545            270.32       59.0  \n",
       "5        6.2  393727            325.02       40.0  \n",
       "13       7.9  323118            532.17       65.0  \n",
       "16       6.6  120259            368.31       61.0  \n",
       "...      ...     ...               ...        ...  \n",
       "879      5.8  152145            122.51       41.0  \n",
       "925      6.1  246797            200.07       72.0  \n",
       "926      4.9  190244            281.28       45.0  \n",
       "942      4.9  192740            300.52       58.0  \n",
       "949      4.9  166512             60.52       33.0  \n",
       "\n",
       "[91 rows x 11 columns]"
      ]
     },
     "execution_count": 71,
     "metadata": {},
     "output_type": "execute_result"
    }
   ],
   "source": [
    "movieDf[(movieDf['DIRECTOR']=='Christopher Nolan') | (movieDf['GENRE']=='Action,Adventure,Sci-Fi') | (movieDf['REVENUE_MILLIONS'] >= 270.32)]"
   ]
  },
  {
   "cell_type": "code",
   "execution_count": 72,
   "id": "d6d484fb",
   "metadata": {},
   "outputs": [],
   "source": [
    "def rating_function(rating):\n",
    "    if rating >= 5.0:\n",
    "        return \"Good\"\n",
    "    else:\n",
    "        return \"Bad\""
   ]
  },
  {
   "cell_type": "code",
   "execution_count": 77,
   "id": "778c3325",
   "metadata": {},
   "outputs": [],
   "source": [
    "movieDf['movie_rating_value'.upper()]=movieDf[\"RATING\"].apply(rating_function)"
   ]
  },
  {
   "cell_type": "code",
   "execution_count": 78,
   "id": "f243fcb4",
   "metadata": {},
   "outputs": [
    {
     "data": {
      "text/html": [
       "<div>\n",
       "<style scoped>\n",
       "    .dataframe tbody tr th:only-of-type {\n",
       "        vertical-align: middle;\n",
       "    }\n",
       "\n",
       "    .dataframe tbody tr th {\n",
       "        vertical-align: top;\n",
       "    }\n",
       "\n",
       "    .dataframe thead th {\n",
       "        text-align: right;\n",
       "    }\n",
       "</style>\n",
       "<table border=\"1\" class=\"dataframe\">\n",
       "  <thead>\n",
       "    <tr style=\"text-align: right;\">\n",
       "      <th></th>\n",
       "      <th>TITLE</th>\n",
       "      <th>GENRE</th>\n",
       "      <th>DESCRIPTION</th>\n",
       "      <th>DIRECTOR</th>\n",
       "      <th>ACTORS</th>\n",
       "      <th>YEAR</th>\n",
       "      <th>RUNTIME</th>\n",
       "      <th>RATING</th>\n",
       "      <th>VOTES</th>\n",
       "      <th>REVENUE_MILLIONS</th>\n",
       "      <th>METASCORE</th>\n",
       "      <th>movie_rating_value</th>\n",
       "      <th>MOVIE_RATING_VALUE</th>\n",
       "    </tr>\n",
       "    <tr>\n",
       "      <th>Rank</th>\n",
       "      <th></th>\n",
       "      <th></th>\n",
       "      <th></th>\n",
       "      <th></th>\n",
       "      <th></th>\n",
       "      <th></th>\n",
       "      <th></th>\n",
       "      <th></th>\n",
       "      <th></th>\n",
       "      <th></th>\n",
       "      <th></th>\n",
       "      <th></th>\n",
       "      <th></th>\n",
       "    </tr>\n",
       "  </thead>\n",
       "  <tbody>\n",
       "    <tr>\n",
       "      <th>1</th>\n",
       "      <td>Guardians of the Galaxy</td>\n",
       "      <td>Action,Adventure,Sci-Fi</td>\n",
       "      <td>A group of intergalactic criminals are forced ...</td>\n",
       "      <td>James Gunn</td>\n",
       "      <td>Chris Pratt, Vin Diesel, Bradley Cooper, Zoe S...</td>\n",
       "      <td>2014</td>\n",
       "      <td>121</td>\n",
       "      <td>8.1</td>\n",
       "      <td>757074</td>\n",
       "      <td>333.13</td>\n",
       "      <td>76.0</td>\n",
       "      <td>Good</td>\n",
       "      <td>Good</td>\n",
       "    </tr>\n",
       "    <tr>\n",
       "      <th>2</th>\n",
       "      <td>Prometheus</td>\n",
       "      <td>Adventure,Mystery,Sci-Fi</td>\n",
       "      <td>Following clues to the origin of mankind, a te...</td>\n",
       "      <td>Ridley Scott</td>\n",
       "      <td>Noomi Rapace, Logan Marshall-Green, Michael Fa...</td>\n",
       "      <td>2012</td>\n",
       "      <td>124</td>\n",
       "      <td>7.0</td>\n",
       "      <td>485820</td>\n",
       "      <td>126.46</td>\n",
       "      <td>65.0</td>\n",
       "      <td>Good</td>\n",
       "      <td>Good</td>\n",
       "    </tr>\n",
       "    <tr>\n",
       "      <th>3</th>\n",
       "      <td>Split</td>\n",
       "      <td>Horror,Thriller</td>\n",
       "      <td>Three girls are kidnapped by a man with a diag...</td>\n",
       "      <td>M. Night Shyamalan</td>\n",
       "      <td>James McAvoy, Anya Taylor-Joy, Haley Lu Richar...</td>\n",
       "      <td>2016</td>\n",
       "      <td>117</td>\n",
       "      <td>7.3</td>\n",
       "      <td>157606</td>\n",
       "      <td>138.12</td>\n",
       "      <td>62.0</td>\n",
       "      <td>Good</td>\n",
       "      <td>Good</td>\n",
       "    </tr>\n",
       "    <tr>\n",
       "      <th>4</th>\n",
       "      <td>Sing</td>\n",
       "      <td>Animation,Comedy,Family</td>\n",
       "      <td>In a city of humanoid animals, a hustling thea...</td>\n",
       "      <td>Christophe Lourdelet</td>\n",
       "      <td>Matthew McConaughey,Reese Witherspoon, Seth Ma...</td>\n",
       "      <td>2016</td>\n",
       "      <td>108</td>\n",
       "      <td>7.2</td>\n",
       "      <td>60545</td>\n",
       "      <td>270.32</td>\n",
       "      <td>59.0</td>\n",
       "      <td>Good</td>\n",
       "      <td>Good</td>\n",
       "    </tr>\n",
       "    <tr>\n",
       "      <th>5</th>\n",
       "      <td>Suicide Squad</td>\n",
       "      <td>Action,Adventure,Fantasy</td>\n",
       "      <td>A secret government agency recruits some of th...</td>\n",
       "      <td>David Ayer</td>\n",
       "      <td>Will Smith, Jared Leto, Margot Robbie, Viola D...</td>\n",
       "      <td>2016</td>\n",
       "      <td>123</td>\n",
       "      <td>6.2</td>\n",
       "      <td>393727</td>\n",
       "      <td>325.02</td>\n",
       "      <td>40.0</td>\n",
       "      <td>Good</td>\n",
       "      <td>Good</td>\n",
       "    </tr>\n",
       "  </tbody>\n",
       "</table>\n",
       "</div>"
      ],
      "text/plain": [
       "                        TITLE                     GENRE  \\\n",
       "Rank                                                      \n",
       "1     Guardians of the Galaxy   Action,Adventure,Sci-Fi   \n",
       "2                  Prometheus  Adventure,Mystery,Sci-Fi   \n",
       "3                       Split           Horror,Thriller   \n",
       "4                        Sing   Animation,Comedy,Family   \n",
       "5               Suicide Squad  Action,Adventure,Fantasy   \n",
       "\n",
       "                                            DESCRIPTION              DIRECTOR  \\\n",
       "Rank                                                                            \n",
       "1     A group of intergalactic criminals are forced ...            James Gunn   \n",
       "2     Following clues to the origin of mankind, a te...          Ridley Scott   \n",
       "3     Three girls are kidnapped by a man with a diag...    M. Night Shyamalan   \n",
       "4     In a city of humanoid animals, a hustling thea...  Christophe Lourdelet   \n",
       "5     A secret government agency recruits some of th...            David Ayer   \n",
       "\n",
       "                                                 ACTORS  YEAR  RUNTIME  \\\n",
       "Rank                                                                     \n",
       "1     Chris Pratt, Vin Diesel, Bradley Cooper, Zoe S...  2014      121   \n",
       "2     Noomi Rapace, Logan Marshall-Green, Michael Fa...  2012      124   \n",
       "3     James McAvoy, Anya Taylor-Joy, Haley Lu Richar...  2016      117   \n",
       "4     Matthew McConaughey,Reese Witherspoon, Seth Ma...  2016      108   \n",
       "5     Will Smith, Jared Leto, Margot Robbie, Viola D...  2016      123   \n",
       "\n",
       "      RATING   VOTES  REVENUE_MILLIONS  METASCORE movie_rating_value  \\\n",
       "Rank                                                                   \n",
       "1        8.1  757074            333.13       76.0               Good   \n",
       "2        7.0  485820            126.46       65.0               Good   \n",
       "3        7.3  157606            138.12       62.0               Good   \n",
       "4        7.2   60545            270.32       59.0               Good   \n",
       "5        6.2  393727            325.02       40.0               Good   \n",
       "\n",
       "     MOVIE_RATING_VALUE  \n",
       "Rank                     \n",
       "1                  Good  \n",
       "2                  Good  \n",
       "3                  Good  \n",
       "4                  Good  \n",
       "5                  Good  "
      ]
     },
     "execution_count": 78,
     "metadata": {},
     "output_type": "execute_result"
    }
   ],
   "source": [
    "movieDf.head()"
   ]
  },
  {
   "cell_type": "markdown",
   "id": "d9793088",
   "metadata": {},
   "source": [
    "## Data Visualisation"
   ]
  },
  {
   "cell_type": "code",
   "execution_count": 79,
   "id": "134f5ca9",
   "metadata": {},
   "outputs": [
    {
     "name": "stderr",
     "output_type": "stream",
     "text": [
      "Matplotlib is building the font cache; this may take a moment.\n"
     ]
    }
   ],
   "source": [
    "import matplotlib.pyplot as plt"
   ]
  },
  {
   "cell_type": "code",
   "execution_count": 80,
   "id": "5fbb89a1",
   "metadata": {},
   "outputs": [
    {
     "data": {
      "text/plain": [
       "<Axes: title={'center': 'Revenue VS Rating'}, xlabel='RATING', ylabel='REVENUE_MILLIONS'>"
      ]
     },
     "execution_count": 80,
     "metadata": {},
     "output_type": "execute_result"
    },
    {
     "data": {
      "image/png": "[encoded data removed]",
      "text/plain": [
       "<Figure size 640x480 with 1 Axes>"
      ]
     },
     "metadata": {},
     "output_type": "display_data"
    }
   ],
   "source": [
    "movieDf.plot(kind='scatter',x='RATING',y='REVENUE_MILLIONS',title=\"Revenue VS Rating\")"
   ]
  },
  {
   "cell_type": "code",
   "execution_count": 82,
   "id": "6454c002",
   "metadata": {},
   "outputs": [],
   "source": [
    "import numpy as np\n",
    "arr1d = np.array([1,2,3,4,5])"
   ]
  },
  {
   "cell_type": "code",
   "execution_count": 83,
   "id": "94508979",
   "metadata": {},
   "outputs": [
    {
     "name": "stdout",
     "output_type": "stream",
     "text": [
      "[1 2 3 4 5]\n"
     ]
    }
   ],
   "source": [
    "print(arr1d)"
   ]
  },
  {
   "cell_type": "code",
   "execution_count": 84,
   "id": "9afcccda",
   "metadata": {},
   "outputs": [],
   "source": [
    "arr2d = np.array([[1,2,3,4],[5,6,7,8]])"
   ]
  },
  {
   "cell_type": "code",
   "execution_count": 85,
   "id": "e7e29af0",
   "metadata": {},
   "outputs": [
    {
     "name": "stdout",
     "output_type": "stream",
     "text": [
      "[[1 2 3 4]\n",
      " [5 6 7 8]]\n"
     ]
    }
   ],
   "source": [
    "print(arr2d)"
   ]
  },
  {
   "cell_type": "markdown",
   "id": "fd4a7cb1",
   "metadata": {},
   "source": [
    "# PySpark"
   ]
  },
  {
   "cell_type": "code",
   "execution_count": 1,
   "id": "1ed2b045",
   "metadata": {},
   "outputs": [],
   "source": [
    "import findspark"
   ]
  },
  {
   "cell_type": "code",
   "execution_count": 2,
   "id": "9ee041e8",
   "metadata": {},
   "outputs": [],
   "source": [
    "findspark.init()"
   ]
  },
  {
   "cell_type": "code",
   "execution_count": 3,
   "id": "c67b21b7",
   "metadata": {},
   "outputs": [
    {
     "data": {
      "text/plain": [
       "'/opt/anaconda3/lib/python3.11/site-packages/pyspark'"
      ]
     },
     "execution_count": 3,
     "metadata": {},
     "output_type": "execute_result"
    }
   ],
   "source": [
    "findspark.find()"
   ]
  },
  {
   "cell_type": "code",
   "execution_count": 4,
   "id": "7f545390",
   "metadata": {},
   "outputs": [
    {
     "name": "stderr",
     "output_type": "stream",
     "text": [
      "Setting default log level to \"WARN\".\n",
      "To adjust logging level use sc.setLogLevel(newLevel). For SparkR, use setLogLevel(newLevel).\n",
      "23/09/21 08:13:04 WARN NativeCodeLoader: Unable to load native-hadoop library for your platform... using builtin-java classes where applicable\n"
     ]
    }
   ],
   "source": [
    "from pyspark.sql import SparkSession\n",
    "spark = SparkSession.builder.appName(\"TestApp\").getOrCreate()"
   ]
  },
  {
   "cell_type": "code",
   "execution_count": 5,
   "id": "c4838246",
   "metadata": {},
   "outputs": [],
   "source": [
    "sc=spark.sparkContext"
   ]
  },
  {
   "cell_type": "code",
   "execution_count": 6,
   "id": "430201cc",
   "metadata": {},
   "outputs": [],
   "source": [
    "rdd = sc.parallelize([1,4,25,5])"
   ]
  },
  {
   "cell_type": "code",
   "execution_count": 7,
   "id": "1c51dbe9",
   "metadata": {},
   "outputs": [],
   "source": [
    "result = rdd.map(lambda x : x**2)"
   ]
  },
  {
   "cell_type": "code",
   "execution_count": 8,
   "id": "d6d5d25e",
   "metadata": {},
   "outputs": [
    {
     "name": "stderr",
     "output_type": "stream",
     "text": [
      "\r",
      "[Stage 0:>                                                          (0 + 0) / 2]\r",
      "\r",
      "[Stage 0:>                                                          (0 + 2) / 2]\r"
     ]
    },
    {
     "name": "stdout",
     "output_type": "stream",
     "text": [
      "[1, 16, 625, 25]\n"
     ]
    },
    {
     "name": "stderr",
     "output_type": "stream",
     "text": [
      "\r",
      "                                                                                \r"
     ]
    }
   ],
   "source": [
    "print(result.collect())"
   ]
  },
  {
   "cell_type": "code",
   "execution_count": 9,
   "id": "d0dd8f35",
   "metadata": {},
   "outputs": [],
   "source": [
    "rdd1 = sc.parallelize([1,2,3,4,5])"
   ]
  },
  {
   "cell_type": "code",
   "execution_count": 10,
   "id": "de36469e",
   "metadata": {},
   "outputs": [],
   "source": [
    "resultrdd1=rdd1.flatMap(lambda x:(x,x*2))"
   ]
  },
  {
   "cell_type": "code",
   "execution_count": 11,
   "id": "c7f5a7cf",
   "metadata": {},
   "outputs": [
    {
     "data": {
      "text/plain": [
       "[1, 2, 2, 4, 3, 6, 4, 8, 5, 10]"
      ]
     },
     "execution_count": 11,
     "metadata": {},
     "output_type": "execute_result"
    }
   ],
   "source": [
    "resultrdd1.collect()"
   ]
  },
  {
   "cell_type": "code",
   "execution_count": 12,
   "id": "36c4602a",
   "metadata": {},
   "outputs": [],
   "source": [
    "rdd3 = sc.parallelize([1,2,3,4,5,6,7])\n",
    "resultrdd3 = rdd3.filter(lambda x:x%2==0)"
   ]
  },
  {
   "cell_type": "code",
   "execution_count": 13,
   "id": "53d85554",
   "metadata": {},
   "outputs": [
    {
     "data": {
      "text/plain": [
       "[2, 4, 6]"
      ]
     },
     "execution_count": 13,
     "metadata": {},
     "output_type": "execute_result"
    }
   ],
   "source": [
    "resultrdd3.collect()"
   ]
  },
  {
   "cell_type": "code",
   "execution_count": 33,
   "id": "6aa2c082",
   "metadata": {},
   "outputs": [],
   "source": [
    "rdd4 = sc.parallelize([(1,2),(3,4),(5,6),(1,3)])\n",
    "result4 = rdd4.reduceByKey(lambda x,y:x+y)"
   ]
  },
  {
   "cell_type": "code",
   "execution_count": 34,
   "id": "2840a68a",
   "metadata": {},
   "outputs": [
    {
     "name": "stdout",
     "output_type": "stream",
     "text": [
      "[(1, 5), (3, 4), (5, 6)]\n"
     ]
    }
   ],
   "source": [
    "print(result4.collect())"
   ]
  },
  {
   "cell_type": "code",
   "execution_count": 17,
   "id": "58494344",
   "metadata": {},
   "outputs": [],
   "source": [
    "rdd5 = sc.parallelize([(1,2),(3,4),(1,6),(2,3)])\n",
    "result5 = rdd5.groupByKey()"
   ]
  },
  {
   "cell_type": "code",
   "execution_count": 19,
   "id": "22fe8e11",
   "metadata": {},
   "outputs": [
    {
     "name": "stdout",
     "output_type": "stream",
     "text": [
      "[(2, <pyspark.resultiterable.ResultIterable object at 0x7f139b7d8510>), (1, <pyspark.resultiterable.ResultIterable object at 0x7f139b7d8590>), (3, <pyspark.resultiterable.ResultIterable object at 0x7f139b7d8650>)]\n"
     ]
    }
   ],
   "source": [
    "print(result5.collect())"
   ]
  },
  {
   "cell_type": "code",
   "execution_count": 20,
   "id": "14ad0bbb",
   "metadata": {},
   "outputs": [
    {
     "name": "stdout",
     "output_type": "stream",
     "text": [
      "Key : 2, Values : [3]\n",
      "Key : 1, Values : [2, 6]\n",
      "Key : 3, Values : [4]\n"
     ]
    }
   ],
   "source": [
    "for key,values in result5.collect():\n",
    "    print(f\"Key : {key}, Values : {list(values)}\")"
   ]
  },
  {
   "cell_type": "code",
   "execution_count": 26,
   "id": "5143bd70",
   "metadata": {},
   "outputs": [],
   "source": [
    "word_list = [\"this\",\"is\",\"a\",\"sample\",\"text\",\"document\",\"for\",\"word\",\"count\",\"example\",\"word\",\"count\"]"
   ]
  },
  {
   "cell_type": "code",
   "execution_count": 27,
   "id": "2eddcdfb",
   "metadata": {},
   "outputs": [],
   "source": [
    "rdd = sc.parallelize(word_list)"
   ]
  },
  {
   "cell_type": "code",
   "execution_count": 28,
   "id": "722e7008",
   "metadata": {
    "scrolled": true
   },
   "outputs": [
    {
     "name": "stdout",
     "output_type": "stream",
     "text": [
      "['this', 'is', 'a', 'sample', 'text', 'document', 'for', 'word', 'count', 'example', 'word', 'count']\n"
     ]
    }
   ],
   "source": [
    "print(rdd.collect())"
   ]
  },
  {
   "cell_type": "markdown",
   "id": "cd0ac45a",
   "metadata": {},
   "source": [
    "### Create a logic like below"
   ]
  },
  {
   "cell_type": "code",
   "execution_count": 29,
   "id": "701c5e02",
   "metadata": {},
   "outputs": [],
   "source": [
    "import collections"
   ]
  },
  {
   "cell_type": "code",
   "execution_count": 32,
   "id": "3a954926",
   "metadata": {
    "scrolled": true
   },
   "outputs": [
    {
     "name": "stdout",
     "output_type": "stream",
     "text": [
      "Counter({'word': 2, 'count': 2, 'this': 1, 'is': 1, 'a': 1, 'sample': 1, 'text': 1, 'document': 1, 'for': 1, 'example': 1})\n"
     ]
    }
   ],
   "source": [
    "print(collections.Counter(rdd.collect()))"
   ]
  },
  {
   "cell_type": "markdown",
   "id": "8ea94a1b",
   "metadata": {},
   "source": [
    "#### Solution"
   ]
  },
  {
   "cell_type": "code",
   "execution_count": 37,
   "id": "46d267fb",
   "metadata": {},
   "outputs": [
    {
     "name": "stdout",
     "output_type": "stream",
     "text": [
      "[('this', 1), ('is', 1), ('a', 1), ('sample', 1), ('text', 1), ('document', 1), ('for', 1), ('word', 1), ('count', 1), ('example', 1), ('word', 1), ('count', 1)]\n"
     ]
    }
   ],
   "source": [
    "map_ = rdd.map(lambda x: (x,1))\n",
    "print(map_.collect())"
   ]
  },
  {
   "cell_type": "code",
   "execution_count": 38,
   "id": "17ac869d",
   "metadata": {},
   "outputs": [],
   "source": [
    "word_counts = rdd.map(lambda x : (x,1)).reduceByKey(lambda a,b : a+b)\n",
    "result = word_counts.collect()"
   ]
  },
  {
   "cell_type": "code",
   "execution_count": 40,
   "id": "e8599a50",
   "metadata": {},
   "outputs": [
    {
     "name": "stdout",
     "output_type": "stream",
     "text": [
      "[('this', 1), ('sample', 1), ('text', 1), ('for', 1), ('word', 2), ('is', 1), ('a', 1), ('document', 1), ('count', 2), ('example', 1)]\n"
     ]
    }
   ],
   "source": [
    "print(result)"
   ]
  },
  {
   "cell_type": "code",
   "execution_count": 41,
   "id": "13f769e5",
   "metadata": {},
   "outputs": [
    {
     "name": "stdout",
     "output_type": "stream",
     "text": [
      "{'this': 1, 'sample': 1, 'text': 1, 'for': 1, 'word': 2, 'is': 1, 'a': 1, 'document': 1, 'count': 2, 'example': 1}\n"
     ]
    }
   ],
   "source": [
    "print(dict(result))"
   ]
  },
  {
   "cell_type": "markdown",
   "id": "6ac102c4",
   "metadata": {},
   "source": [
    "## How to read file in RDD ?"
   ]
  },
  {
   "cell_type": "code",
   "execution_count": 42,
   "id": "93a3fa1d",
   "metadata": {},
   "outputs": [],
   "source": [
    "SRC = \"/home/labuser/Downloads/Pandas_datasets/purchases.csv\"\n",
    "purchasesRDD = sc.textFile(SRC)"
   ]
  },
  {
   "cell_type": "code",
   "execution_count": 43,
   "id": "9a2e4c11",
   "metadata": {},
   "outputs": [
    {
     "data": {
      "text/plain": [
       "[',apples,oranges', 'June,3,0', 'Robert,2,3', 'Lily,0,7', 'David,1,2']"
      ]
     },
     "execution_count": 43,
     "metadata": {},
     "output_type": "execute_result"
    }
   ],
   "source": [
    "purchasesRDD.collect()"
   ]
  },
  {
   "cell_type": "markdown",
   "id": "a83bfcb0",
   "metadata": {},
   "source": [
    "### Reading it as a DataFrame"
   ]
  },
  {
   "cell_type": "code",
   "execution_count": 45,
   "id": "e104815c",
   "metadata": {},
   "outputs": [],
   "source": [
    "purchaseDf = spark.read.csv(SRC)"
   ]
  },
  {
   "cell_type": "code",
   "execution_count": 46,
   "id": "8ff47128",
   "metadata": {},
   "outputs": [
    {
     "name": "stdout",
     "output_type": "stream",
     "text": [
      "+------+------+-------+\n",
      "|   _c0|   _c1|    _c2|\n",
      "+------+------+-------+\n",
      "|  null|apples|oranges|\n",
      "|  June|     3|      0|\n",
      "|Robert|     2|      3|\n",
      "|  Lily|     0|      7|\n",
      "| David|     1|      2|\n",
      "+------+------+-------+\n",
      "\n"
     ]
    }
   ],
   "source": [
    "purchaseDf.show()"
   ]
  },
  {
   "cell_type": "markdown",
   "id": "0b678a51",
   "metadata": {},
   "source": [
    "#### print the schema"
   ]
  },
  {
   "cell_type": "code",
   "execution_count": 52,
   "id": "3ed83293",
   "metadata": {},
   "outputs": [
    {
     "name": "stdout",
     "output_type": "stream",
     "text": [
      "root\n",
      " |-- _c0: string (nullable = true)\n",
      " |-- _c1: string (nullable = true)\n",
      " |-- _c2: string (nullable = true)\n",
      "\n"
     ]
    }
   ],
   "source": [
    "purchaseDf.printSchema()"
   ]
  },
  {
   "cell_type": "markdown",
   "id": "a31f0a3d",
   "metadata": {},
   "source": [
    "#### Enable the Header to True"
   ]
  },
  {
   "cell_type": "code",
   "execution_count": 50,
   "id": "dde473d8",
   "metadata": {},
   "outputs": [],
   "source": [
    "Df = spark.read.option(\"inferSchema\",True).option(\"header\",True).csv(SRC)"
   ]
  },
  {
   "cell_type": "code",
   "execution_count": 51,
   "id": "4793dd1f",
   "metadata": {},
   "outputs": [
    {
     "name": "stdout",
     "output_type": "stream",
     "text": [
      "+------+------+-------+\n",
      "|   _c0|apples|oranges|\n",
      "+------+------+-------+\n",
      "|  June|     3|      0|\n",
      "|Robert|     2|      3|\n",
      "|  Lily|     0|      7|\n",
      "| David|     1|      2|\n",
      "+------+------+-------+\n",
      "\n"
     ]
    },
    {
     "name": "stderr",
     "output_type": "stream",
     "text": [
      "23/09/21 09:00:40 WARN CSVHeaderChecker: CSV header does not conform to the schema.\n",
      " Header: , apples, oranges\n",
      " Schema: _c0, apples, oranges\n",
      "Expected: _c0 but found: \n",
      "CSV file: file:///home/labuser/Downloads/Pandas_datasets/purchases.csv\n"
     ]
    }
   ],
   "source": [
    "Df.show()"
   ]
  },
  {
   "cell_type": "code",
   "execution_count": 53,
   "id": "2b02f035",
   "metadata": {},
   "outputs": [
    {
     "name": "stdout",
     "output_type": "stream",
     "text": [
      "root\n",
      " |-- _c0: string (nullable = true)\n",
      " |-- apples: integer (nullable = true)\n",
      " |-- oranges: integer (nullable = true)\n",
      "\n"
     ]
    }
   ],
   "source": [
    "Df.printSchema()"
   ]
  },
  {
   "cell_type": "markdown",
   "id": "1b65f197",
   "metadata": {},
   "source": [
    "### Creating custom Schema"
   ]
  },
  {
   "cell_type": "code",
   "execution_count": 59,
   "id": "de568188",
   "metadata": {},
   "outputs": [],
   "source": [
    "SRC_M = \"/home/labuser/Downloads/Pandas_datasets/IMDB-Movie-Data.csv\""
   ]
  },
  {
   "cell_type": "code",
   "execution_count": 60,
   "id": "78d2591d",
   "metadata": {},
   "outputs": [],
   "source": [
    "MDf = spark.read.option(\"inferSchema\",True).option(\"header\",True).csv(SRC_M)"
   ]
  },
  {
   "cell_type": "code",
   "execution_count": 61,
   "id": "ec12c99f",
   "metadata": {},
   "outputs": [
    {
     "name": "stdout",
     "output_type": "stream",
     "text": [
      "root\n",
      " |-- Rank: integer (nullable = true)\n",
      " |-- Title: string (nullable = true)\n",
      " |-- Genre: string (nullable = true)\n",
      " |-- Description: string (nullable = true)\n",
      " |-- Director: string (nullable = true)\n",
      " |-- Actors: string (nullable = true)\n",
      " |-- Year: string (nullable = true)\n",
      " |-- Runtime (Minutes): string (nullable = true)\n",
      " |-- Rating: string (nullable = true)\n",
      " |-- Votes: string (nullable = true)\n",
      " |-- Revenue (Millions): double (nullable = true)\n",
      " |-- Metascore: double (nullable = true)\n",
      "\n"
     ]
    }
   ],
   "source": [
    "MDf.printSchema()"
   ]
  },
  {
   "cell_type": "code",
   "execution_count": 62,
   "id": "65c7d67e",
   "metadata": {},
   "outputs": [],
   "source": [
    "from pyspark.sql.types import *"
   ]
  },
  {
   "cell_type": "code",
   "execution_count": 65,
   "id": "33d4477a",
   "metadata": {},
   "outputs": [
    {
     "name": "stdout",
     "output_type": "stream",
     "text": [
      "['Rank', 'Title', 'Genre', 'Description', 'Director', 'Actors', 'Year', 'Runtime (Minutes)', 'Rating', 'Votes', 'Revenue (Millions)', 'Metascore']\n"
     ]
    }
   ],
   "source": [
    "print(MDf.columns)"
   ]
  },
  {
   "cell_type": "code",
   "execution_count": 95,
   "id": "613ebeb1",
   "metadata": {},
   "outputs": [
    {
     "name": "stdout",
     "output_type": "stream",
     "text": [
      "[('Rank', 'int'), ('Title', 'string'), ('Genre', 'string'), ('Description', 'string'), ('Director', 'string'), ('Actors', 'string'), ('Year', 'string'), ('Runtime (Minutes)', 'string'), ('Rating', 'string'), ('Votes', 'string'), ('Revenue (Millions)', 'double'), ('Metascore', 'double')]\n"
     ]
    }
   ],
   "source": [
    "print(MDf.dtypes)"
   ]
  },
  {
   "cell_type": "code",
   "execution_count": 98,
   "id": "41c190a6",
   "metadata": {},
   "outputs": [],
   "source": [
    "customSchema = set()\n",
    "for item in MDf.dtypes:\n",
    "    if item[1]=='int':\n",
    "        customSchema.add(StructField(item[0],IntegerType(),True))\n",
    "    if item[1]=='string':\n",
    "        customSchema.add(StructField(item[0],StringType(),True))\n",
    "    if item[1]==\"double\":\n",
    "        customSchema.add(StructField(item[0],DoubleType(),True))\n",
    "        "
   ]
  },
  {
   "cell_type": "code",
   "execution_count": 101,
   "id": "c3281ba3",
   "metadata": {},
   "outputs": [
    {
     "name": "stdout",
     "output_type": "stream",
     "text": [
      "{StructField('Rating', StringType(), True), StructField('Description', StringType(), True), StructField('Rank', IntegerType(), True), StructField('Metascore', DoubleType(), True), StructField('Year', StringType(), True), StructField('Revenue (Millions)', DoubleType(), True), StructField('Actors', StringType(), True), StructField('Genre', StringType(), True), StructField('Runtime (Minutes)', StringType(), True), StructField('Title', StringType(), True), StructField('Votes', StringType(), True), StructField('Director', StringType(), True)}\n"
     ]
    }
   ],
   "source": [
    "print(customSchema)"
   ]
  },
  {
   "cell_type": "code",
   "execution_count": 102,
   "id": "49d7956b",
   "metadata": {},
   "outputs": [],
   "source": [
    "udfSchema = StructType(customSchema)"
   ]
  },
  {
   "cell_type": "code",
   "execution_count": 103,
   "id": "3afe0d51",
   "metadata": {},
   "outputs": [
    {
     "name": "stdout",
     "output_type": "stream",
     "text": [
      "StructType([StructField('Rating', StringType(), True), StructField('Description', StringType(), True), StructField('Rank', IntegerType(), True), StructField('Metascore', DoubleType(), True), StructField('Year', StringType(), True), StructField('Revenue (Millions)', DoubleType(), True), StructField('Actors', StringType(), True), StructField('Genre', StringType(), True), StructField('Runtime (Minutes)', StringType(), True), StructField('Title', StringType(), True), StructField('Votes', StringType(), True), StructField('Director', StringType(), True)])\n"
     ]
    }
   ],
   "source": [
    "print(udfSchema)"
   ]
  },
  {
   "cell_type": "code",
   "execution_count": 104,
   "id": "4c480f5b",
   "metadata": {},
   "outputs": [
    {
     "name": "stderr",
     "output_type": "stream",
     "text": [
      "\r",
      "[Stage 27:>                                                         (0 + 1) / 1]\r",
      "\r",
      "                                                                                \r"
     ]
    },
    {
     "name": "stdout",
     "output_type": "stream",
     "text": [
      "+----+--------------------+--------------------+--------------------+--------------------+--------------------+--------------------+-----------------+------+------+------------------+---------+\n",
      "|Rank|               Title|               Genre|         Description|            Director|              Actors|                Year|Runtime (Minutes)|Rating| Votes|Revenue (Millions)|Metascore|\n",
      "+----+--------------------+--------------------+--------------------+--------------------+--------------------+--------------------+-----------------+------+------+------------------+---------+\n",
      "|   1|Guardians of the ...|Action,Adventure,...|A group of interg...|          James Gunn|Chris Pratt, Vin ...|                2014|              121|   8.1|757074|            333.13|     76.0|\n",
      "|   2|          Prometheus|Adventure,Mystery...|Following clues t...|        Ridley Scott|Noomi Rapace, Log...|                2012|              124|     7|485820|            126.46|     65.0|\n",
      "|   3|               Split|     Horror,Thriller|Three girls are k...|  M. Night Shyamalan|James McAvoy, Any...|                2016|              117|   7.3|157606|            138.12|     62.0|\n",
      "|   4|                Sing|Animation,Comedy,...|In a city of huma...|Christophe Lourdelet|Matthew McConaugh...|                2016|              108|   7.2| 60545|            270.32|     59.0|\n",
      "|   5|       Suicide Squad|Action,Adventure,...|A secret governme...|          David Ayer|Will Smith, Jared...|                2016|              123|   6.2|393727|            325.02|     40.0|\n",
      "|   6|      The Great Wall|Action,Adventure,...|European mercenar...|         Yimou Zhang|Matt Damon, Tian ...|                2016|              103|   6.1| 56036|             45.13|     42.0|\n",
      "|   7|          La La Land|  Comedy,Drama,Music|A jazz pianist fa...|     Damien Chazelle|Ryan Gosling, Emm...|                2016|              128|   8.3|258682|            151.06|     93.0|\n",
      "|   8|            Mindhorn|              Comedy|\"A has-been actor...| whom he believes...|          Sean Foley|Essie Davis, Andr...|             2016|    89|   6.4|            2490.0|     null|\n",
      "|   9|  The Lost City of Z|Action,Adventure,...|A true-life drama...|          James Gray|Charlie Hunnam, R...|                2016|              141|   7.1|  7188|              8.01|     78.0|\n",
      "|  10|          Passengers|Adventure,Drama,R...|A spacecraft trav...|       Morten Tyldum|Jennifer Lawrence...|                2016|              116|     7|192177|            100.01|     41.0|\n",
      "|  11|Fantastic Beasts ...|Adventure,Family,...|The adventures of...|         David Yates|Eddie Redmayne, K...|                2016|              133|   7.5|232072|            234.02|     66.0|\n",
      "|  12|      Hidden Figures|Biography,Drama,H...|The story of a te...|      Theodore Melfi|Taraji P. Henson,...|                2016|              127|   7.8| 93103|            169.27|     74.0|\n",
      "|  13|           Rogue One|Action,Adventure,...|The Rebel Allianc...|      Gareth Edwards|Felicity Jones, D...|                2016|              133|   7.9|323118|            532.17|     65.0|\n",
      "|  14|               Moana|Animation,Adventu...|In Ancient Polyne...|        Ron Clements|Auli'i Cravalho, ...|                2016|              107|   7.7|118151|            248.75|     81.0|\n",
      "|  15|            Colossal| Action,Comedy,Drama|Gloria is an out-...|     Nacho Vigalondo|Anne Hathaway, Ja...|                2016|              109|   6.4|  8612|              2.87|     70.0|\n",
      "|  16|The Secret Life o...|Animation,Adventu...|The quiet life of...|        Chris Renaud|Louis C.K., Eric ...|                2016|               87|   6.6|120259|            368.31|     61.0|\n",
      "|  17|       Hacksaw Ridge|Biography,Drama,H...|WWII American Arm...|          Mel Gibson|Andrew Garfield, ...|                2016|              139|   8.2|211760|             67.12|     71.0|\n",
      "|  18|        Jason Bourne|     Action,Thriller|The CIA's most da...|     Paul Greengrass|Matt Damon, Tommy...|                2016|              123|   6.7|150823|            162.16|     58.0|\n",
      "|  19|                Lion|     Biography,Drama|A five-year-old I...|         Garth Davis|Dev Patel, Nicole...|                2016|              118|   8.1|102061|             51.69|     69.0|\n",
      "|  20|             Arrival|Drama,Mystery,Sci-Fi|When twelve myste...|    Denis Villeneuve|Amy Adams, Jeremy...|                2016|              116|     8|340798|             100.5|     81.0|\n",
      "+----+--------------------+--------------------+--------------------+--------------------+--------------------+--------------------+-----------------+------+------+------------------+---------+\n",
      "only showing top 20 rows\n",
      "\n"
     ]
    }
   ],
   "source": [
    "MDf.show()"
   ]
  },
  {
   "cell_type": "code",
   "execution_count": 107,
   "id": "a685c167",
   "metadata": {},
   "outputs": [],
   "source": [
    "from pyspark.sql.functions import *\n",
    "MDf = MDf.withColumn(\"new_revenue\",col(\"Revenue (Millions)\")*100).withColumn(\"batch\",lit(\"Batch_03\"))"
   ]
  },
  {
   "cell_type": "code",
   "execution_count": 108,
   "id": "a6166d75",
   "metadata": {},
   "outputs": [
    {
     "name": "stdout",
     "output_type": "stream",
     "text": [
      "+----+--------------------+--------------------+--------------------+--------------------+--------------------+--------------------+-----------------+------+------+------------------+---------+-----------------+--------+\n",
      "|Rank|               Title|               Genre|         Description|            Director|              Actors|                Year|Runtime (Minutes)|Rating| Votes|Revenue (Millions)|Metascore|      new_revenue|   batch|\n",
      "+----+--------------------+--------------------+--------------------+--------------------+--------------------+--------------------+-----------------+------+------+------------------+---------+-----------------+--------+\n",
      "|   1|Guardians of the ...|Action,Adventure,...|A group of interg...|          James Gunn|Chris Pratt, Vin ...|                2014|              121|   8.1|757074|            333.13|     76.0|          33313.0|Batch_03|\n",
      "|   2|          Prometheus|Adventure,Mystery...|Following clues t...|        Ridley Scott|Noomi Rapace, Log...|                2012|              124|     7|485820|            126.46|     65.0|          12646.0|Batch_03|\n",
      "|   3|               Split|     Horror,Thriller|Three girls are k...|  M. Night Shyamalan|James McAvoy, Any...|                2016|              117|   7.3|157606|            138.12|     62.0|          13812.0|Batch_03|\n",
      "|   4|                Sing|Animation,Comedy,...|In a city of huma...|Christophe Lourdelet|Matthew McConaugh...|                2016|              108|   7.2| 60545|            270.32|     59.0|          27032.0|Batch_03|\n",
      "|   5|       Suicide Squad|Action,Adventure,...|A secret governme...|          David Ayer|Will Smith, Jared...|                2016|              123|   6.2|393727|            325.02|     40.0|          32502.0|Batch_03|\n",
      "|   6|      The Great Wall|Action,Adventure,...|European mercenar...|         Yimou Zhang|Matt Damon, Tian ...|                2016|              103|   6.1| 56036|             45.13|     42.0|           4513.0|Batch_03|\n",
      "|   7|          La La Land|  Comedy,Drama,Music|A jazz pianist fa...|     Damien Chazelle|Ryan Gosling, Emm...|                2016|              128|   8.3|258682|            151.06|     93.0|          15106.0|Batch_03|\n",
      "|   8|            Mindhorn|              Comedy|\"A has-been actor...| whom he believes...|          Sean Foley|Essie Davis, Andr...|             2016|    89|   6.4|            2490.0|     null|         249000.0|Batch_03|\n",
      "|   9|  The Lost City of Z|Action,Adventure,...|A true-life drama...|          James Gray|Charlie Hunnam, R...|                2016|              141|   7.1|  7188|              8.01|     78.0|            801.0|Batch_03|\n",
      "|  10|          Passengers|Adventure,Drama,R...|A spacecraft trav...|       Morten Tyldum|Jennifer Lawrence...|                2016|              116|     7|192177|            100.01|     41.0|          10001.0|Batch_03|\n",
      "|  11|Fantastic Beasts ...|Adventure,Family,...|The adventures of...|         David Yates|Eddie Redmayne, K...|                2016|              133|   7.5|232072|            234.02|     66.0|          23402.0|Batch_03|\n",
      "|  12|      Hidden Figures|Biography,Drama,H...|The story of a te...|      Theodore Melfi|Taraji P. Henson,...|                2016|              127|   7.8| 93103|            169.27|     74.0|          16927.0|Batch_03|\n",
      "|  13|           Rogue One|Action,Adventure,...|The Rebel Allianc...|      Gareth Edwards|Felicity Jones, D...|                2016|              133|   7.9|323118|            532.17|     65.0|53216.99999999999|Batch_03|\n",
      "|  14|               Moana|Animation,Adventu...|In Ancient Polyne...|        Ron Clements|Auli'i Cravalho, ...|                2016|              107|   7.7|118151|            248.75|     81.0|          24875.0|Batch_03|\n",
      "|  15|            Colossal| Action,Comedy,Drama|Gloria is an out-...|     Nacho Vigalondo|Anne Hathaway, Ja...|                2016|              109|   6.4|  8612|              2.87|     70.0|            287.0|Batch_03|\n",
      "|  16|The Secret Life o...|Animation,Adventu...|The quiet life of...|        Chris Renaud|Louis C.K., Eric ...|                2016|               87|   6.6|120259|            368.31|     61.0|          36831.0|Batch_03|\n",
      "|  17|       Hacksaw Ridge|Biography,Drama,H...|WWII American Arm...|          Mel Gibson|Andrew Garfield, ...|                2016|              139|   8.2|211760|             67.12|     71.0|           6712.0|Batch_03|\n",
      "|  18|        Jason Bourne|     Action,Thriller|The CIA's most da...|     Paul Greengrass|Matt Damon, Tommy...|                2016|              123|   6.7|150823|            162.16|     58.0|          16216.0|Batch_03|\n",
      "|  19|                Lion|     Biography,Drama|A five-year-old I...|         Garth Davis|Dev Patel, Nicole...|                2016|              118|   8.1|102061|             51.69|     69.0|           5169.0|Batch_03|\n",
      "|  20|             Arrival|Drama,Mystery,Sci-Fi|When twelve myste...|    Denis Villeneuve|Amy Adams, Jeremy...|                2016|              116|     8|340798|             100.5|     81.0|          10050.0|Batch_03|\n",
      "+----+--------------------+--------------------+--------------------+--------------------+--------------------+--------------------+-----------------+------+------+------------------+---------+-----------------+--------+\n",
      "only showing top 20 rows\n",
      "\n"
     ]
    }
   ],
   "source": [
    "MDf.show()"
   ]
  },
  {
   "cell_type": "code",
   "execution_count": 110,
   "id": "46e63bb9",
   "metadata": {},
   "outputs": [],
   "source": [
    "Df = Df.withColumn(\"new_oranges\",col(\"oranges\")*100).withColumn(\"batch\",lit(\"Batch_03\"))"
   ]
  },
  {
   "cell_type": "code",
   "execution_count": 111,
   "id": "714de3bc",
   "metadata": {},
   "outputs": [
    {
     "name": "stdout",
     "output_type": "stream",
     "text": [
      "+------+------+-------+-----------+--------+\n",
      "|   _c0|apples|oranges|new_oranges|   batch|\n",
      "+------+------+-------+-----------+--------+\n",
      "|  June|     3|      0|          0|Batch_03|\n",
      "|Robert|     2|      3|        300|Batch_03|\n",
      "|  Lily|     0|      7|        700|Batch_03|\n",
      "| David|     1|      2|        200|Batch_03|\n",
      "+------+------+-------+-----------+--------+\n",
      "\n"
     ]
    },
    {
     "name": "stderr",
     "output_type": "stream",
     "text": [
      "23/09/21 10:48:33 WARN CSVHeaderChecker: CSV header does not conform to the schema.\n",
      " Header: , apples, oranges\n",
      " Schema: _c0, apples, oranges\n",
      "Expected: _c0 but found: \n",
      "CSV file: file:///home/labuser/Downloads/Pandas_datasets/purchases.csv\n"
     ]
    }
   ],
   "source": [
    "Df.show()"
   ]
  },
  {
   "cell_type": "code",
   "execution_count": 114,
   "id": "dfa72374",
   "metadata": {},
   "outputs": [],
   "source": [
    "from datetime import datetime"
   ]
  },
  {
   "cell_type": "code",
   "execution_count": 118,
   "id": "ae97f9c2",
   "metadata": {},
   "outputs": [
    {
     "name": "stdout",
     "output_type": "stream",
     "text": [
      "2023-09-21 10:51:37.159407\n"
     ]
    }
   ],
   "source": [
    "print(datetime.now())"
   ]
  },
  {
   "cell_type": "code",
   "execution_count": 122,
   "id": "dee0584e",
   "metadata": {},
   "outputs": [],
   "source": [
    "Df = Df.withColumn(\"updated_time\",lit(f'{datetime.now()}'))"
   ]
  },
  {
   "cell_type": "code",
   "execution_count": 123,
   "id": "264f8a12",
   "metadata": {},
   "outputs": [
    {
     "name": "stdout",
     "output_type": "stream",
     "text": [
      "+------+------+-------+-----------+--------+--------------------+\n",
      "|   _c0|apples|oranges|new_oranges|   batch|        updated_time|\n",
      "+------+------+-------+-----------+--------+--------------------+\n",
      "|  June|     3|      0|          0|Batch_03|2023-09-21 10:53:...|\n",
      "|Robert|     2|      3|        300|Batch_03|2023-09-21 10:53:...|\n",
      "|  Lily|     0|      7|        700|Batch_03|2023-09-21 10:53:...|\n",
      "| David|     1|      2|        200|Batch_03|2023-09-21 10:53:...|\n",
      "+------+------+-------+-----------+--------+--------------------+\n",
      "\n"
     ]
    },
    {
     "name": "stderr",
     "output_type": "stream",
     "text": [
      "23/09/21 10:53:13 WARN CSVHeaderChecker: CSV header does not conform to the schema.\n",
      " Header: , apples, oranges\n",
      " Schema: _c0, apples, oranges\n",
      "Expected: _c0 but found: \n",
      "CSV file: file:///home/labuser/Downloads/Pandas_datasets/purchases.csv\n"
     ]
    }
   ],
   "source": [
    "Df.show()"
   ]
  },
  {
   "cell_type": "code",
   "execution_count": 125,
   "id": "0b0da81b",
   "metadata": {},
   "outputs": [],
   "source": [
    "import pyspark.sql.functions as fn"
   ]
  },
  {
   "cell_type": "code",
   "execution_count": 126,
   "id": "3c2e38e3",
   "metadata": {},
   "outputs": [
    {
     "data": {
      "text/plain": [
       "['Any',\n",
       " 'ArrayType',\n",
       " 'Callable',\n",
       " 'Column',\n",
       " 'DataFrame',\n",
       " 'DataType',\n",
       " 'Dict',\n",
       " 'Iterable',\n",
       " 'JVMView',\n",
       " 'List',\n",
       " 'Optional',\n",
       " 'PandasUDFType',\n",
       " 'PySparkTypeError',\n",
       " 'PySparkValueError',\n",
       " 'PythonEvalType',\n",
       " 'SparkContext',\n",
       " 'StringType',\n",
       " 'StructType',\n",
       " 'TYPE_CHECKING',\n",
       " 'Tuple',\n",
       " 'Union',\n",
       " 'UserDefinedFunction',\n",
       " 'ValuesView',\n",
       " '__builtins__',\n",
       " '__cached__',\n",
       " '__doc__',\n",
       " '__file__',\n",
       " '__loader__',\n",
       " '__name__',\n",
       " '__package__',\n",
       " '__spec__',\n",
       " '_create_column_from_literal',\n",
       " '_create_lambda',\n",
       " '_create_py_udf',\n",
       " '_from_numpy_type',\n",
       " '_get_jvm_function',\n",
       " '_get_lambda_parameters',\n",
       " '_invoke_binary_math_function',\n",
       " '_invoke_function',\n",
       " '_invoke_function_over_columns',\n",
       " '_invoke_function_over_seq_of_columns',\n",
       " '_invoke_higher_order_function',\n",
       " '_options_to_str',\n",
       " '_test',\n",
       " '_to_java_column',\n",
       " '_to_seq',\n",
       " '_unresolved_named_lambda_variable',\n",
       " 'abs',\n",
       " 'acos',\n",
       " 'acosh',\n",
       " 'add_months',\n",
       " 'aggregate',\n",
       " 'approxCountDistinct',\n",
       " 'approx_count_distinct',\n",
       " 'array',\n",
       " 'array_append',\n",
       " 'array_compact',\n",
       " 'array_contains',\n",
       " 'array_distinct',\n",
       " 'array_except',\n",
       " 'array_insert',\n",
       " 'array_intersect',\n",
       " 'array_join',\n",
       " 'array_max',\n",
       " 'array_min',\n",
       " 'array_position',\n",
       " 'array_remove',\n",
       " 'array_repeat',\n",
       " 'array_sort',\n",
       " 'array_union',\n",
       " 'arrays_overlap',\n",
       " 'arrays_zip',\n",
       " 'asc',\n",
       " 'asc_nulls_first',\n",
       " 'asc_nulls_last',\n",
       " 'ascii',\n",
       " 'asin',\n",
       " 'asinh',\n",
       " 'assert_true',\n",
       " 'atan',\n",
       " 'atan2',\n",
       " 'atanh',\n",
       " 'avg',\n",
       " 'base64',\n",
       " 'bin',\n",
       " 'bit_length',\n",
       " 'bitwiseNOT',\n",
       " 'bitwise_not',\n",
       " 'broadcast',\n",
       " 'bround',\n",
       " 'bucket',\n",
       " 'call_udf',\n",
       " 'cast',\n",
       " 'cbrt',\n",
       " 'ceil',\n",
       " 'coalesce',\n",
       " 'col',\n",
       " 'collect_list',\n",
       " 'collect_set',\n",
       " 'column',\n",
       " 'concat',\n",
       " 'concat_ws',\n",
       " 'conv',\n",
       " 'corr',\n",
       " 'cos',\n",
       " 'cosh',\n",
       " 'cot',\n",
       " 'count',\n",
       " 'countDistinct',\n",
       " 'count_distinct',\n",
       " 'covar_pop',\n",
       " 'covar_samp',\n",
       " 'crc32',\n",
       " 'create_map',\n",
       " 'csc',\n",
       " 'cume_dist',\n",
       " 'current_date',\n",
       " 'current_timestamp',\n",
       " 'date_add',\n",
       " 'date_format',\n",
       " 'date_sub',\n",
       " 'date_trunc',\n",
       " 'datediff',\n",
       " 'dayofmonth',\n",
       " 'dayofweek',\n",
       " 'dayofyear',\n",
       " 'days',\n",
       " 'decode',\n",
       " 'degrees',\n",
       " 'dense_rank',\n",
       " 'desc',\n",
       " 'desc_nulls_first',\n",
       " 'desc_nulls_last',\n",
       " 'element_at',\n",
       " 'encode',\n",
       " 'exists',\n",
       " 'exp',\n",
       " 'explode',\n",
       " 'explode_outer',\n",
       " 'expm1',\n",
       " 'expr',\n",
       " 'factorial',\n",
       " 'filter',\n",
       " 'first',\n",
       " 'flatten',\n",
       " 'floor',\n",
       " 'forall',\n",
       " 'format_number',\n",
       " 'format_string',\n",
       " 'from_csv',\n",
       " 'from_json',\n",
       " 'from_unixtime',\n",
       " 'from_utc_timestamp',\n",
       " 'functools',\n",
       " 'get',\n",
       " 'get_active_spark_context',\n",
       " 'get_json_object',\n",
       " 'greatest',\n",
       " 'grouping',\n",
       " 'grouping_id',\n",
       " 'has_numpy',\n",
       " 'hash',\n",
       " 'hex',\n",
       " 'hour',\n",
       " 'hours',\n",
       " 'hypot',\n",
       " 'initcap',\n",
       " 'inline',\n",
       " 'inline_outer',\n",
       " 'input_file_name',\n",
       " 'inspect',\n",
       " 'instr',\n",
       " 'isnan',\n",
       " 'isnull',\n",
       " 'json_tuple',\n",
       " 'kurtosis',\n",
       " 'lag',\n",
       " 'last',\n",
       " 'last_day',\n",
       " 'lead',\n",
       " 'least',\n",
       " 'length',\n",
       " 'levenshtein',\n",
       " 'lit',\n",
       " 'localtimestamp',\n",
       " 'locate',\n",
       " 'log',\n",
       " 'log10',\n",
       " 'log1p',\n",
       " 'log2',\n",
       " 'lower',\n",
       " 'lpad',\n",
       " 'ltrim',\n",
       " 'make_date',\n",
       " 'map_concat',\n",
       " 'map_contains_key',\n",
       " 'map_entries',\n",
       " 'map_filter',\n",
       " 'map_from_arrays',\n",
       " 'map_from_entries',\n",
       " 'map_keys',\n",
       " 'map_values',\n",
       " 'map_zip_with',\n",
       " 'max',\n",
       " 'max_by',\n",
       " 'md5',\n",
       " 'mean',\n",
       " 'median',\n",
       " 'min',\n",
       " 'min_by',\n",
       " 'minute',\n",
       " 'mode',\n",
       " 'monotonically_increasing_id',\n",
       " 'month',\n",
       " 'months',\n",
       " 'months_between',\n",
       " 'nanvl',\n",
       " 'next_day',\n",
       " 'np',\n",
       " 'nth_value',\n",
       " 'ntile',\n",
       " 'octet_length',\n",
       " 'overlay',\n",
       " 'overload',\n",
       " 'pandas_udf',\n",
       " 'percent_rank',\n",
       " 'percentile_approx',\n",
       " 'pmod',\n",
       " 'posexplode',\n",
       " 'posexplode_outer',\n",
       " 'pow',\n",
       " 'product',\n",
       " 'quarter',\n",
       " 'radians',\n",
       " 'raise_error',\n",
       " 'rand',\n",
       " 'randn',\n",
       " 'rank',\n",
       " 'regexp_extract',\n",
       " 'regexp_replace',\n",
       " 'repeat',\n",
       " 'reverse',\n",
       " 'rint',\n",
       " 'round',\n",
       " 'row_number',\n",
       " 'rpad',\n",
       " 'rtrim',\n",
       " 'schema_of_csv',\n",
       " 'schema_of_json',\n",
       " 'sec',\n",
       " 'second',\n",
       " 'sentences',\n",
       " 'sequence',\n",
       " 'session_window',\n",
       " 'sha1',\n",
       " 'sha2',\n",
       " 'shiftLeft',\n",
       " 'shiftRight',\n",
       " 'shiftRightUnsigned',\n",
       " 'shiftleft',\n",
       " 'shiftright',\n",
       " 'shiftrightunsigned',\n",
       " 'shuffle',\n",
       " 'signum',\n",
       " 'sin',\n",
       " 'sinh',\n",
       " 'size',\n",
       " 'skewness',\n",
       " 'slice',\n",
       " 'sort_array',\n",
       " 'soundex',\n",
       " 'spark_partition_id',\n",
       " 'split',\n",
       " 'sqrt',\n",
       " 'stddev',\n",
       " 'stddev_pop',\n",
       " 'stddev_samp',\n",
       " 'struct',\n",
       " 'substring',\n",
       " 'substring_index',\n",
       " 'sum',\n",
       " 'sumDistinct',\n",
       " 'sum_distinct',\n",
       " 'sys',\n",
       " 'tan',\n",
       " 'tanh',\n",
       " 'timestamp_seconds',\n",
       " 'toDegrees',\n",
       " 'toRadians',\n",
       " 'to_csv',\n",
       " 'to_date',\n",
       " 'to_json',\n",
       " 'to_str',\n",
       " 'to_timestamp',\n",
       " 'to_utc_timestamp',\n",
       " 'transform',\n",
       " 'transform_keys',\n",
       " 'transform_values',\n",
       " 'translate',\n",
       " 'trim',\n",
       " 'trunc',\n",
       " 'try_remote_functions',\n",
       " 'udf',\n",
       " 'unbase64',\n",
       " 'unhex',\n",
       " 'unix_timestamp',\n",
       " 'unwrap_udt',\n",
       " 'upper',\n",
       " 'var_pop',\n",
       " 'var_samp',\n",
       " 'variance',\n",
       " 'warnings',\n",
       " 'weekofyear',\n",
       " 'when',\n",
       " 'window',\n",
       " 'window_time',\n",
       " 'xxhash64',\n",
       " 'year',\n",
       " 'years',\n",
       " 'zip_with']"
      ]
     },
     "execution_count": 126,
     "metadata": {},
     "output_type": "execute_result"
    }
   ],
   "source": [
    "dir(fn)"
   ]
  }
 ],
 "metadata": {
  "kernelspec": {
   "display_name": "Python 3 (ipykernel)",
   "language": "python",
   "name": "python3"
  },
  "language_info": {
   "codemirror_mode": {
    "name": "ipython",
    "version": 3
   },
   "file_extension": ".py",
   "mimetype": "text/x-python",
   "name": "python",
   "nbconvert_exporter": "python",
   "pygments_lexer": "ipython3",
   "version": "3.11.4"
  }
 },
 "nbformat": 4,
 "nbformat_minor": 5
}
