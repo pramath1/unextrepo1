{
 "cells": [
  {
   "cell_type": "code",
   "execution_count": 1,
   "id": "fe3c32d9",
   "metadata": {},
   "outputs": [
    {
     "name": "stderr",
     "output_type": "stream",
     "text": [
      "Setting default log level to \"WARN\".\n",
      "To adjust logging level use sc.setLogLevel(newLevel). For SparkR, use setLogLevel(newLevel).\n",
      "23/09/22 08:40:41 WARN NativeCodeLoader: Unable to load native-hadoop library for your platform... using builtin-java classes where applicable\n",
      "23/09/22 08:40:42 WARN Utils: Service 'SparkUI' could not bind on port 4040. Attempting port 4041.\n"
     ]
    }
   ],
   "source": [
    "from pyspark.sql import SparkSession\n",
    "spark = SparkSession.builder.appName(\"TestApp\").getOrCreate()"
   ]
  },
  {
   "cell_type": "code",
   "execution_count": 2,
   "id": "d4b1712b",
   "metadata": {},
   "outputs": [],
   "source": [
    "SRC = \"/home/labuser/Downloads/Retail_Dataset/\""
   ]
  },
  {
   "cell_type": "code",
   "execution_count": 3,
   "id": "10a6831a",
   "metadata": {},
   "outputs": [],
   "source": [
    "import glob"
   ]
  },
  {
   "cell_type": "code",
   "execution_count": 8,
   "id": "31076bb2",
   "metadata": {},
   "outputs": [],
   "source": [
    "files = glob.glob(SRC+\"/*.csv\")"
   ]
  },
  {
   "cell_type": "code",
   "execution_count": 9,
   "id": "7b7186d8",
   "metadata": {},
   "outputs": [
    {
     "name": "stdout",
     "output_type": "stream",
     "text": [
      "['/home/labuser/Downloads/Retail_Dataset/customer.csv', '/home/labuser/Downloads/Retail_Dataset/region.csv', '/home/labuser/Downloads/Retail_Dataset/nation.csv', '/home/labuser/Downloads/Retail_Dataset/orders.csv', '/home/labuser/Downloads/Retail_Dataset/supplier.csv', '/home/labuser/Downloads/Retail_Dataset/partsupp.csv', '/home/labuser/Downloads/Retail_Dataset/part.csv', '/home/labuser/Downloads/Retail_Dataset/lineitem.csv']\n"
     ]
    }
   ],
   "source": [
    "print(files)"
   ]
  },
  {
   "cell_type": "code",
   "execution_count": 16,
   "id": "8fef55e3",
   "metadata": {},
   "outputs": [],
   "source": [
    "Df = {\"customer\":\"\",\"region\":\"\",\"nation\":\"\",\"orders\":\"\",\"supplier\":\"\",\"partsupp\":\"\",\"part\":\"\",\"lineitem\":\"\"}"
   ]
  },
  {
   "cell_type": "code",
   "execution_count": 26,
   "id": "278a453c",
   "metadata": {},
   "outputs": [
    {
     "name": "stderr",
     "output_type": "stream",
     "text": [
      "                                                                                \r"
     ]
    }
   ],
   "source": [
    "for item in zip(Df.keys(),files):\n",
    "    Df[f'{item[0]}'] = spark.read.option(\"inferSchema\",True).option(\"header\",True).option(\"sep\",\"\\t\").csv(item[1])"
   ]
  },
  {
   "cell_type": "code",
   "execution_count": 25,
   "id": "6c825b1d",
   "metadata": {},
   "outputs": [
    {
     "name": "stderr",
     "output_type": "stream",
     "text": [
      "                                                                                \r"
     ]
    }
   ],
   "source": [
    "customerDf = spark.read.option(\"inferSchema\",True).option(\"header\",True).option(\"sep\",\"\\t\").csv(files[0])"
   ]
  },
  {
   "cell_type": "code",
   "execution_count": 34,
   "id": "7a82ef62",
   "metadata": {},
   "outputs": [
    {
     "name": "stdout",
     "output_type": "stream",
     "text": [
      "+----------+---------+---------+------------+----------+---------------+----------+-----+------------+------------+----------+------------+-------------+-----------------+----------+--------------------+\n",
      "|L_ORDERKEY|L_PARTKEY|L_SUPPKEY|L_LINENUMBER|L_QUANTITY|L_EXTENDEDPRICE|L_DISCOUNT|L_TAX|L_RETURNFLAG|L_LINESTATUS|L_SHIPDATE|L_COMMITDATE|L_RECEIPTDATE|   L_SHIPINSTRUCT|L_SHIPMODE|           L_COMMENT|\n",
      "+----------+---------+---------+------------+----------+---------------+----------+-----+------------+------------+----------+------------+-------------+-----------------+----------+--------------------+\n",
      "|         1|     1552|       93|           1|      17.0|       24710.35|      0.04| 0.02|           N|           O|1996-03-13|  1996-02-12|   1996-03-22|DELIVER IN PERSON|     TRUCK|egular courts abo...|\n",
      "|         1|      674|       75|           2|      36.0|       56688.12|      0.09| 0.06|           N|           O|1996-04-12|  1996-02-28|   1996-04-20| TAKE BACK RETURN|      MAIL|ly final dependen...|\n",
      "|         1|      637|       38|           3|       8.0|       12301.04|       0.1| 0.02|           N|           O|1996-01-29|  1996-03-05|   1996-01-31| TAKE BACK RETURN|   REG AIR|riously. regular,...|\n",
      "|         1|       22|       48|           4|      28.0|       25816.56|      0.09| 0.06|           N|           O|1996-04-21|  1996-03-30|   1996-05-16|             NONE|       AIR|lites. fluffily e...|\n",
      "|         1|      241|       23|           5|      24.0|       27389.76|       0.1| 0.04|           N|           O|1996-03-30|  1996-03-14|   1996-04-01|             NONE|       FOB| pending foxes. s...|\n",
      "|         1|      157|       10|           6|      32.0|        33828.8|      0.07| 0.02|           N|           O|1996-01-30|  1996-02-07|   1996-02-03|DELIVER IN PERSON|      MAIL|   arefully slyly ex|\n",
      "|         2|     1062|       33|           1|      38.0|       36596.28|       0.0| 0.05|           N|           O|1997-01-28|  1997-01-14|   1997-02-02| TAKE BACK RETURN|      RAIL|ven requests. dep...|\n",
      "|         3|       43|       19|           1|      45.0|        42436.8|      0.06|  0.0|           R|           F|1994-02-02|  1994-01-04|   1994-02-23|             NONE|       AIR|ongside of the fu...|\n",
      "|         3|      191|       70|           2|      49.0|       53468.31|       0.1|  0.0|           R|           F|1993-11-09|  1993-12-20|   1993-11-24| TAKE BACK RETURN|      RAIL| unusual accounts...|\n",
      "|         3|     1285|       60|           3|      27.0|       32029.56|      0.06| 0.07|           A|           F|1994-01-16|  1993-11-22|   1994-01-23|DELIVER IN PERSON|      SHIP|    nal foxes wake. |\n",
      "|         3|      294|       22|           4|       2.0|        2388.58|      0.01| 0.06|           A|           F|1993-12-04|  1994-01-07|   1994-01-01|             NONE|     TRUCK|y. fluffily pendi...|\n",
      "|         3|     1831|       61|           5|      28.0|       48519.24|      0.04|  0.0|           R|           F|1993-12-14|  1994-01-10|   1994-01-01| TAKE BACK RETURN|       FOB|ages nag slyly pe...|\n",
      "|         3|      622|       16|           6|      26.0|       39588.12|       0.1| 0.02|           A|           F|1993-10-29|  1993-12-18|   1993-11-04| TAKE BACK RETURN|      RAIL|ges sleep after t...|\n",
      "|         4|      881|       81|           1|      30.0|        53456.4|      0.03| 0.08|           N|           O|1996-01-10|  1995-12-14|   1996-01-18|DELIVER IN PERSON|   REG AIR|- quickly regular...|\n",
      "|         5|     1086|       87|           1|      15.0|        14806.2|      0.02| 0.04|           R|           F|1994-10-31|  1994-08-31|   1994-11-20|             NONE|       AIR|  ts wake furiously |\n",
      "|         5|     1240|       41|           2|      26.0|       29672.24|      0.07| 0.08|           R|           F|1994-10-16|  1994-09-25|   1994-10-19|             NONE|       FOB|sts use slyly qui...|\n",
      "|         5|      376|        5|           3|      50.0|        63818.5|      0.08| 0.03|           A|           F|1994-08-08|  1994-10-13|   1994-08-26|DELIVER IN PERSON|       AIR|eodolites. fluffi...|\n",
      "|         6|     1397|       36|           1|      37.0|       48040.43|      0.08| 0.03|           A|           F|1992-04-27|  1992-05-15|   1992-05-02| TAKE BACK RETURN|     TRUCK|p furiously speci...|\n",
      "|         7|     1821|       51|           1|      12.0|       20673.84|      0.07| 0.03|           N|           O|1996-05-07|  1996-03-13|   1996-06-03| TAKE BACK RETURN|       FOB|ss pinto beans wa...|\n",
      "|         7|     1453|       93|           2|       9.0|       12190.05|      0.08| 0.08|           N|           O|1996-02-01|  1996-03-02|   1996-02-19| TAKE BACK RETURN|      SHIP|    es. instructions|\n",
      "+----------+---------+---------+------------+----------+---------------+----------+-----+------------+------------+----------+------------+-------------+-----------------+----------+--------------------+\n",
      "only showing top 20 rows\n",
      "\n"
     ]
    }
   ],
   "source": [
    "Df['lineitem'].show()"
   ]
  },
  {
   "cell_type": "markdown",
   "id": "6dcd6c87",
   "metadata": {},
   "source": [
    "## Joins "
   ]
  },
  {
   "cell_type": "code",
   "execution_count": 35,
   "id": "7af86501",
   "metadata": {},
   "outputs": [],
   "source": [
    "test = Df['customer'].join(Df['orders'],Df['customer'].C_CUSTKEY == Df['orders'].O_CUSTKEY,how=\"inner\")"
   ]
  },
  {
   "cell_type": "code",
   "execution_count": 37,
   "id": "4cb883fb",
   "metadata": {},
   "outputs": [
    {
     "name": "stdout",
     "output_type": "stream",
     "text": [
      "+---------+----------+\n",
      "|C_CUSTKEY|O_ORDERKEY|\n",
      "+---------+----------+\n",
      "|      370|         1|\n",
      "|      781|         2|\n",
      "|     1234|         3|\n",
      "|     1369|         4|\n",
      "|      445|         5|\n",
      "|      557|         6|\n",
      "|      392|         7|\n",
      "|     1301|        32|\n",
      "|      670|        33|\n",
      "|      611|        34|\n",
      "|     1276|        35|\n",
      "|     1153|        36|\n",
      "|      862|        37|\n",
      "|     1249|        38|\n",
      "|      818|        39|\n",
      "|      322|        64|\n",
      "|      163|        65|\n",
      "|     1292|        66|\n",
      "|      568|        67|\n",
      "|      286|        68|\n",
      "+---------+----------+\n",
      "only showing top 20 rows\n",
      "\n"
     ]
    }
   ],
   "source": [
    "test.select('C_CUSTKEY','O_ORDERKEY').show()"
   ]
  },
  {
   "cell_type": "code",
   "execution_count": 39,
   "id": "d48e227c",
   "metadata": {},
   "outputs": [
    {
     "data": {
      "text/plain": [
       "pyspark.sql.dataframe.DataFrame"
      ]
     },
     "execution_count": 39,
     "metadata": {},
     "output_type": "execute_result"
    }
   ],
   "source": [
    "type(Df['customer'])"
   ]
  },
  {
   "cell_type": "code",
   "execution_count": 40,
   "id": "86a60d0a",
   "metadata": {},
   "outputs": [
    {
     "data": {
      "text/plain": [
       "[('O_ORDERKEY', 'int'),\n",
       " ('O_CUSTKEY', 'int'),\n",
       " ('O_ORDERSTATUS', 'string'),\n",
       " ('O_TOTALPRICE', 'double'),\n",
       " ('O_ORDERDATE', 'date'),\n",
       " ('O_ORDERPRIORITY', 'string'),\n",
       " ('O_CLERK', 'string'),\n",
       " ('O_SHIPPRIORITY', 'int'),\n",
       " ('O_COMMENT', 'string')]"
      ]
     },
     "execution_count": 40,
     "metadata": {},
     "output_type": "execute_result"
    }
   ],
   "source": [
    "Df['orders'].dtypes"
   ]
  },
  {
   "cell_type": "code",
   "execution_count": 43,
   "id": "761918ee",
   "metadata": {},
   "outputs": [],
   "source": [
    "grpDf = Df['orders'].groupBy('O_CLERK').sum('O_TOTALPRICE')"
   ]
  },
  {
   "cell_type": "code",
   "execution_count": 44,
   "id": "d917a03c",
   "metadata": {},
   "outputs": [
    {
     "name": "stderr",
     "output_type": "stream",
     "text": [
      "\r",
      "[Stage 30:>                                                         (0 + 1) / 1]\r"
     ]
    },
    {
     "name": "stdout",
     "output_type": "stream",
     "text": [
      "+---------------+------------------+\n",
      "|        O_CLERK| sum(O_TOTALPRICE)|\n",
      "+---------------+------------------+\n",
      "|Clerk#000000024|        2078084.41|\n",
      "|Clerk#000000288|        1431028.03|\n",
      "|Clerk#000000236|        2571896.97|\n",
      "|Clerk#000000093|3388791.1500000004|\n",
      "|Clerk#000000124|        1683034.58|\n",
      "|Clerk#000000011|2032237.1699999995|\n",
      "|Clerk#000000114|1596777.3599999999|\n",
      "|Clerk#000000022|         1250757.7|\n",
      "|Clerk#000000474|1669808.3399999999|\n",
      "|Clerk#000000723| 923212.7899999999|\n",
      "|Clerk#000000903|2984974.0700000008|\n",
      "|Clerk#000000398|        1799587.31|\n",
      "|Clerk#000000744|         2078169.2|\n",
      "|Clerk#000000912|1728371.5500000005|\n",
      "|Clerk#000000644|         2357482.5|\n",
      "|Clerk#000000766|        1941942.28|\n",
      "|Clerk#000000674|         941649.11|\n",
      "|Clerk#000000821|2854880.0399999996|\n",
      "|Clerk#000000424|1509396.7800000003|\n",
      "|Clerk#000000087|        1396516.85|\n",
      "+---------------+------------------+\n",
      "only showing top 20 rows\n",
      "\n"
     ]
    },
    {
     "name": "stderr",
     "output_type": "stream",
     "text": [
      "\r",
      "                                                                                \r"
     ]
    }
   ],
   "source": [
    "grpDf.show()"
   ]
  },
  {
   "cell_type": "code",
   "execution_count": 48,
   "id": "e24ac164",
   "metadata": {},
   "outputs": [
    {
     "data": {
      "text/plain": [
       "['C_CUSTKEY',\n",
       " 'C_NAME',\n",
       " 'C_ADDRESS',\n",
       " 'C_NATIONKEY',\n",
       " 'C_PHONE',\n",
       " 'C_ACCTBAL',\n",
       " 'C_MKTSEGMENT',\n",
       " 'C_COMMENT']"
      ]
     },
     "execution_count": 48,
     "metadata": {},
     "output_type": "execute_result"
    }
   ],
   "source": [
    "Df['customer'].columns"
   ]
  },
  {
   "cell_type": "code",
   "execution_count": 49,
   "id": "53cc8e7b",
   "metadata": {},
   "outputs": [
    {
     "data": {
      "text/plain": [
       "['O_ORDERKEY',\n",
       " 'O_CUSTKEY',\n",
       " 'O_ORDERSTATUS',\n",
       " 'O_TOTALPRICE',\n",
       " 'O_ORDERDATE',\n",
       " 'O_ORDERPRIORITY',\n",
       " 'O_CLERK',\n",
       " 'O_SHIPPRIORITY',\n",
       " 'O_COMMENT']"
      ]
     },
     "execution_count": 49,
     "metadata": {},
     "output_type": "execute_result"
    }
   ],
   "source": [
    "Df['orders'].columns"
   ]
  },
  {
   "cell_type": "code",
   "execution_count": 50,
   "id": "8ca358c9",
   "metadata": {},
   "outputs": [
    {
     "data": {
      "text/plain": [
       "['L_ORDERKEY',\n",
       " 'L_PARTKEY',\n",
       " 'L_SUPPKEY',\n",
       " 'L_LINENUMBER',\n",
       " 'L_QUANTITY',\n",
       " 'L_EXTENDEDPRICE',\n",
       " 'L_DISCOUNT',\n",
       " 'L_TAX',\n",
       " 'L_RETURNFLAG',\n",
       " 'L_LINESTATUS',\n",
       " 'L_SHIPDATE',\n",
       " 'L_COMMITDATE',\n",
       " 'L_RECEIPTDATE',\n",
       " 'L_SHIPINSTRUCT',\n",
       " 'L_SHIPMODE',\n",
       " 'L_COMMENT']"
      ]
     },
     "execution_count": 50,
     "metadata": {},
     "output_type": "execute_result"
    }
   ],
   "source": [
    "Df['lineitem'].columns"
   ]
  },
  {
   "cell_type": "code",
   "execution_count": 72,
   "id": "31cc7dc6",
   "metadata": {},
   "outputs": [],
   "source": [
    "joinDf = Df['customer'].join(Df['orders'], on = Df['customer'][\"C_CUSTKEY\"]==Df['orders'][\"O_CUSTKEY\"],how=\"inner\")\\\n",
    "                .join(Df['lineitem'], on = Df['lineitem'][\"L_ORDERKEY\"]==Df['orders'][\"O_ORDERKEY\"],how=\"inner\")"
   ]
  },
  {
   "cell_type": "code",
   "execution_count": 73,
   "id": "e3e2fae4",
   "metadata": {},
   "outputs": [
    {
     "name": "stdout",
     "output_type": "stream",
     "text": [
      "+---------+------------------+----------+----------+------------+\n",
      "|C_CUSTKEY|            C_NAME|O_ORDERKEY|L_SHIPMODE|O_TOTALPRICE|\n",
      "+---------+------------------+----------+----------+------------+\n",
      "|      370|Customer#000000370|         1|      MAIL|   172799.49|\n",
      "|      370|Customer#000000370|         1|       FOB|   172799.49|\n",
      "|      370|Customer#000000370|         1|       AIR|   172799.49|\n",
      "|      370|Customer#000000370|         1|   REG AIR|   172799.49|\n",
      "|      370|Customer#000000370|         1|      MAIL|   172799.49|\n",
      "|      370|Customer#000000370|         1|     TRUCK|   172799.49|\n",
      "|      781|Customer#000000781|         2|      RAIL|    38426.09|\n",
      "|     1234|Customer#000001234|         3|      RAIL|    205654.3|\n",
      "|     1234|Customer#000001234|         3|       FOB|    205654.3|\n",
      "|     1234|Customer#000001234|         3|     TRUCK|    205654.3|\n",
      "|     1234|Customer#000001234|         3|      SHIP|    205654.3|\n",
      "|     1234|Customer#000001234|         3|      RAIL|    205654.3|\n",
      "|     1234|Customer#000001234|         3|       AIR|    205654.3|\n",
      "|     1369|Customer#000001369|         4|   REG AIR|    56000.91|\n",
      "|      445|Customer#000000445|         5|       AIR|   105367.67|\n",
      "|      445|Customer#000000445|         5|       FOB|   105367.67|\n",
      "|      445|Customer#000000445|         5|       AIR|   105367.67|\n",
      "|      557|Customer#000000557|         6|     TRUCK|     45523.1|\n",
      "|      392|Customer#000000392|         7|       FOB|   271885.66|\n",
      "|      392|Customer#000000392|         7|       FOB|   271885.66|\n",
      "+---------+------------------+----------+----------+------------+\n",
      "only showing top 20 rows\n",
      "\n"
     ]
    }
   ],
   "source": [
    "joinDf.select('C_CUSTKEY','C_NAME','O_ORDERKEY','L_SHIPMODE','O_TOTALPRICE').show()"
   ]
  },
  {
   "cell_type": "code",
   "execution_count": 59,
   "id": "3cccd1ec",
   "metadata": {},
   "outputs": [],
   "source": [
    "customerDf = Df['customer']\n",
    "ordersDf = Df['orders']\n",
    "lineitem = Df['lineitem']"
   ]
  },
  {
   "cell_type": "code",
   "execution_count": 67,
   "id": "5b552d70",
   "metadata": {},
   "outputs": [],
   "source": [
    "result = customerDf.join(ordersDf,customerDf['C_CUSTKEY']==ordersDf['O_CUSTKEY'],how=\"inner\")\\\n",
    "        .join(lineitem,ordersDf['O_ORDERKEY']==lineitem['L_ORDERKEY'],how=\"inner\")"
   ]
  },
  {
   "cell_type": "code",
   "execution_count": 68,
   "id": "bfdfb8a8",
   "metadata": {},
   "outputs": [
    {
     "name": "stderr",
     "output_type": "stream",
     "text": [
      "\r",
      "[Stage 41:=============================>                            (1 + 1) / 2]\r",
      "\r",
      "                                                                                \r"
     ]
    },
    {
     "name": "stdout",
     "output_type": "stream",
     "text": [
      "+---------+------------------+----------+----------+------------+\n",
      "|C_CUSTKEY|            C_NAME|O_ORDERKEY|L_SHIPMODE|O_TOTALPRICE|\n",
      "+---------+------------------+----------+----------+------------+\n",
      "|      370|Customer#000000370|         1|      MAIL|   172799.49|\n",
      "|      370|Customer#000000370|         1|       FOB|   172799.49|\n",
      "|      370|Customer#000000370|         1|       AIR|   172799.49|\n",
      "|      370|Customer#000000370|         1|   REG AIR|   172799.49|\n",
      "|      370|Customer#000000370|         1|      MAIL|   172799.49|\n",
      "|      370|Customer#000000370|         1|     TRUCK|   172799.49|\n",
      "|      781|Customer#000000781|         2|      RAIL|    38426.09|\n",
      "|     1234|Customer#000001234|         3|      RAIL|    205654.3|\n",
      "|     1234|Customer#000001234|         3|       FOB|    205654.3|\n",
      "|     1234|Customer#000001234|         3|     TRUCK|    205654.3|\n",
      "|     1234|Customer#000001234|         3|      SHIP|    205654.3|\n",
      "|     1234|Customer#000001234|         3|      RAIL|    205654.3|\n",
      "|     1234|Customer#000001234|         3|       AIR|    205654.3|\n",
      "|     1369|Customer#000001369|         4|   REG AIR|    56000.91|\n",
      "|      445|Customer#000000445|         5|       AIR|   105367.67|\n",
      "|      445|Customer#000000445|         5|       FOB|   105367.67|\n",
      "|      445|Customer#000000445|         5|       AIR|   105367.67|\n",
      "|      557|Customer#000000557|         6|     TRUCK|     45523.1|\n",
      "|      392|Customer#000000392|         7|       FOB|   271885.66|\n",
      "|      392|Customer#000000392|         7|       FOB|   271885.66|\n",
      "+---------+------------------+----------+----------+------------+\n",
      "only showing top 20 rows\n",
      "\n"
     ]
    }
   ],
   "source": [
    "result.select('C_CUSTKEY','C_NAME','O_ORDERKEY','L_SHIPMODE','O_TOTALPRICE').show()"
   ]
  },
  {
   "cell_type": "code",
   "execution_count": 74,
   "id": "2b371260",
   "metadata": {},
   "outputs": [],
   "source": [
    "def concat_shell(columns):\n",
    "    return columns.split(\"#\")[0] + '_shell'"
   ]
  },
  {
   "cell_type": "code",
   "execution_count": 75,
   "id": "67275b59",
   "metadata": {},
   "outputs": [
    {
     "name": "stdout",
     "output_type": "stream",
     "text": [
      "Customer_shell\n"
     ]
    }
   ],
   "source": [
    "print(concat_shell('Customer#000000370'))"
   ]
  },
  {
   "cell_type": "code",
   "execution_count": 76,
   "id": "3657a952",
   "metadata": {},
   "outputs": [],
   "source": [
    "from pyspark.sql.functions import *"
   ]
  },
  {
   "cell_type": "code",
   "execution_count": 77,
   "id": "7e72fe20",
   "metadata": {},
   "outputs": [],
   "source": [
    "function = udf(concat_shell,StringType())"
   ]
  },
  {
   "cell_type": "code",
   "execution_count": 79,
   "id": "e7c9bafc",
   "metadata": {},
   "outputs": [],
   "source": [
    "testDf = result.withColumn(\"new_col\",function(col(\"C_NAME\")))"
   ]
  },
  {
   "cell_type": "code",
   "execution_count": 80,
   "id": "641bc3c0",
   "metadata": {},
   "outputs": [
    {
     "name": "stderr",
     "output_type": "stream",
     "text": [
      "\r",
      "[Stage 48:>                                                         (0 + 1) / 1]\r"
     ]
    },
    {
     "name": "stdout",
     "output_type": "stream",
     "text": [
      "+---------+------------------+----------+----------+------------+--------------+\n",
      "|C_CUSTKEY|            C_NAME|O_ORDERKEY|L_SHIPMODE|O_TOTALPRICE|       new_col|\n",
      "+---------+------------------+----------+----------+------------+--------------+\n",
      "|      370|Customer#000000370|         1|      MAIL|   172799.49|Customer_shell|\n",
      "|      370|Customer#000000370|         1|       FOB|   172799.49|Customer_shell|\n",
      "|      370|Customer#000000370|         1|       AIR|   172799.49|Customer_shell|\n",
      "|      370|Customer#000000370|         1|   REG AIR|   172799.49|Customer_shell|\n",
      "|      370|Customer#000000370|         1|      MAIL|   172799.49|Customer_shell|\n",
      "|      370|Customer#000000370|         1|     TRUCK|   172799.49|Customer_shell|\n",
      "|      781|Customer#000000781|         2|      RAIL|    38426.09|Customer_shell|\n",
      "|     1234|Customer#000001234|         3|      RAIL|    205654.3|Customer_shell|\n",
      "|     1234|Customer#000001234|         3|       FOB|    205654.3|Customer_shell|\n",
      "|     1234|Customer#000001234|         3|     TRUCK|    205654.3|Customer_shell|\n",
      "|     1234|Customer#000001234|         3|      SHIP|    205654.3|Customer_shell|\n",
      "|     1234|Customer#000001234|         3|      RAIL|    205654.3|Customer_shell|\n",
      "|     1234|Customer#000001234|         3|       AIR|    205654.3|Customer_shell|\n",
      "|     1369|Customer#000001369|         4|   REG AIR|    56000.91|Customer_shell|\n",
      "|      445|Customer#000000445|         5|       AIR|   105367.67|Customer_shell|\n",
      "|      445|Customer#000000445|         5|       FOB|   105367.67|Customer_shell|\n",
      "|      445|Customer#000000445|         5|       AIR|   105367.67|Customer_shell|\n",
      "|      557|Customer#000000557|         6|     TRUCK|     45523.1|Customer_shell|\n",
      "|      392|Customer#000000392|         7|       FOB|   271885.66|Customer_shell|\n",
      "|      392|Customer#000000392|         7|       FOB|   271885.66|Customer_shell|\n",
      "+---------+------------------+----------+----------+------------+--------------+\n",
      "only showing top 20 rows\n",
      "\n"
     ]
    },
    {
     "name": "stderr",
     "output_type": "stream",
     "text": [
      "\r",
      "                                                                                \r"
     ]
    }
   ],
   "source": [
    "testDf.select('C_CUSTKEY','C_NAME','O_ORDERKEY','L_SHIPMODE','O_TOTALPRICE','new_col').show()"
   ]
  },
  {
   "cell_type": "markdown",
   "id": "e9a0bbd1",
   "metadata": {},
   "source": [
    "## How to Write the file in storage\n",
    "    - Df.write.mode(\"append\").csv(\"destination\")"
   ]
  },
  {
   "cell_type": "code",
   "execution_count": 81,
   "id": "2e2d57d0",
   "metadata": {},
   "outputs": [
    {
     "name": "stderr",
     "output_type": "stream",
     "text": [
      "23/09/22 10:32:02 WARN package: Truncated the string representation of a plan since it was too large. This behavior can be adjusted by setting 'spark.sql.debug.maxToStringFields'.\n",
      "                                                                                \r"
     ]
    }
   ],
   "source": [
    "joinDf.write.mode(\"append\").parquet(\"/home/labuser/Downloads/output/\")"
   ]
  },
  {
   "cell_type": "markdown",
   "id": "89614780",
   "metadata": {},
   "source": [
    "### Making partitions "
   ]
  },
  {
   "cell_type": "code",
   "execution_count": 82,
   "id": "3a7f38fd",
   "metadata": {},
   "outputs": [],
   "source": [
    "test = joinDf.repartition(8)"
   ]
  },
  {
   "cell_type": "markdown",
   "id": "ed59600d",
   "metadata": {},
   "source": [
    "### It will create 8 new files"
   ]
  },
  {
   "cell_type": "code",
   "execution_count": 83,
   "id": "75a5a0d8",
   "metadata": {},
   "outputs": [
    {
     "name": "stderr",
     "output_type": "stream",
     "text": [
      "                                                                                \r"
     ]
    }
   ],
   "source": [
    "test.write.mode(\"append\").parquet(\"/home/labuser/Downloads/output2/\")"
   ]
  },
  {
   "cell_type": "markdown",
   "id": "f1bf64fd",
   "metadata": {},
   "source": [
    "### Combining the partitioned file into one"
   ]
  },
  {
   "cell_type": "code",
   "execution_count": 84,
   "id": "1ddfe6e1",
   "metadata": {},
   "outputs": [
    {
     "name": "stderr",
     "output_type": "stream",
     "text": [
      "                                                                                \r"
     ]
    }
   ],
   "source": [
    "test.coalesce(1).write.mode(\"append\").parquet(\"/home/labuser/Downloads/output3/\")"
   ]
  }
 ],
 "metadata": {
  "kernelspec": {
   "display_name": "Python 3 (ipykernel)",
   "language": "python",
   "name": "python3"
  },
  "language_info": {
   "codemirror_mode": {
    "name": "ipython",
    "version": 3
   },
   "file_extension": ".py",
   "mimetype": "text/x-python",
   "name": "python",
   "nbconvert_exporter": "python",
   "pygments_lexer": "ipython3",
   "version": "3.11.4"
  }
 },
 "nbformat": 4,
 "nbformat_minor": 5
}
