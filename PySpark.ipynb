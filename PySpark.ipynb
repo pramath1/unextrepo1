{
 "cells": [
  {
   "cell_type": "markdown",
   "id": "b80e157a",
   "metadata": {},
   "source": [
    "## For resolving python version mismatch"
   ]
  },
  {
   "cell_type": "code",
   "execution_count": 1,
   "id": "dedfd35d",
   "metadata": {},
   "outputs": [],
   "source": [
    "import os\n",
    "import sys\n",
    "\n",
    "os.environ['PYSPARK_PYTHON'] = sys.executable\n",
    "os.environ['PYSPARK_DRIVER_PYTHON'] = sys.executable"
   ]
  },
  {
   "cell_type": "markdown",
   "id": "576245c9",
   "metadata": {},
   "source": [
    "### Importing and initiation the spark session"
   ]
  },
  {
   "cell_type": "code",
   "execution_count": 2,
   "id": "38159940",
   "metadata": {},
   "outputs": [
    {
     "name": "stderr",
     "output_type": "stream",
     "text": [
      "Setting default log level to \"WARN\".\n",
      "To adjust logging level use sc.setLogLevel(newLevel). For SparkR, use setLogLevel(newLevel).\n",
      "23/09/25 04:47:23 WARN NativeCodeLoader: Unable to load native-hadoop library for your platform... using builtin-java classes where applicable\n"
     ]
    }
   ],
   "source": [
    "from pyspark.sql import SparkSession\n",
    "from pyspark.sql.functions import *\n",
    "spark = SparkSession.builder.getOrCreate()"
   ]
  },
  {
   "cell_type": "markdown",
   "id": "5c8e4c8b",
   "metadata": {},
   "source": [
    "### Creating custom data frames"
   ]
  },
  {
   "cell_type": "code",
   "execution_count": 3,
   "id": "b9009ebf",
   "metadata": {},
   "outputs": [],
   "source": [
    "test_df = [(\"James\",\"Sales\",\"NY\",90000,34,10000),\n",
    "    (\"Michael\",\"Sales\",\"NY\",86000,56,20000),\n",
    "    (\"Robert\",\"Sales\",\"CA\",81000,30,23000),\n",
    "    (\"Maria\",\"Finance\",\"CA\",90000,24,23000),\n",
    "    (\"Raman\",\"Finance\",\"CA\",99000,40,24000),\n",
    "    (\"Scott\",\"Finance\",\"NY\",83000,36,19000),\n",
    "    (\"Jen\",\"Finance\",\"NY\",79000,53,15000),\n",
    "    (\"Jeff\",\"Marketing\",\"CA\",80000,25,18000),\n",
    "    (\"Kumar\",\"Marketing\",\"NY\",91000,50,21000)\n",
    "  ]"
   ]
  },
  {
   "cell_type": "markdown",
   "id": "7d1b8ff4",
   "metadata": {},
   "source": [
    "### Creating custom schema"
   ]
  },
  {
   "cell_type": "code",
   "execution_count": 4,
   "id": "404eb75b",
   "metadata": {},
   "outputs": [],
   "source": [
    "udf_scehma = [\"employee_name\",\"department\",\"state\",\"salary\",\"age\",\"bonus\"]"
   ]
  },
  {
   "cell_type": "code",
   "execution_count": 5,
   "id": "e02a7f8f",
   "metadata": {},
   "outputs": [],
   "source": [
    "df = spark.createDataFrame(data=test_df,schema = udf_scehma)"
   ]
  },
  {
   "cell_type": "code",
   "execution_count": 6,
   "id": "70813319",
   "metadata": {},
   "outputs": [
    {
     "name": "stderr",
     "output_type": "stream",
     "text": [
      "                                                                                \r"
     ]
    },
    {
     "name": "stdout",
     "output_type": "stream",
     "text": [
      "+-------------+----------+-----+------+---+-----+\n",
      "|employee_name|department|state|salary|age|bonus|\n",
      "+-------------+----------+-----+------+---+-----+\n",
      "|        James|     Sales|   NY| 90000| 34|10000|\n",
      "|      Michael|     Sales|   NY| 86000| 56|20000|\n",
      "|       Robert|     Sales|   CA| 81000| 30|23000|\n",
      "|        Maria|   Finance|   CA| 90000| 24|23000|\n",
      "|        Raman|   Finance|   CA| 99000| 40|24000|\n",
      "|        Scott|   Finance|   NY| 83000| 36|19000|\n",
      "|          Jen|   Finance|   NY| 79000| 53|15000|\n",
      "|         Jeff| Marketing|   CA| 80000| 25|18000|\n",
      "|        Kumar| Marketing|   NY| 91000| 50|21000|\n",
      "+-------------+----------+-----+------+---+-----+\n",
      "\n"
     ]
    }
   ],
   "source": [
    "df.show()"
   ]
  },
  {
   "cell_type": "markdown",
   "id": "20fec4c9",
   "metadata": {},
   "source": [
    "### Applying groupBy to tht data frames"
   ]
  },
  {
   "cell_type": "code",
   "execution_count": 14,
   "id": "087c5e40",
   "metadata": {},
   "outputs": [
    {
     "name": "stderr",
     "output_type": "stream",
     "text": [
      "\r",
      "[Stage 5:>                                                          (0 + 2) / 2]\r"
     ]
    },
    {
     "name": "stdout",
     "output_type": "stream",
     "text": [
      "+----------+-----------+------------------+\n",
      "|department|sum(salary)|        avg(bonus)|\n",
      "+----------+-----------+------------------+\n",
      "|     Sales|     257000|17666.666666666668|\n",
      "|   Finance|     351000|           20250.0|\n",
      "| Marketing|     171000|           19500.0|\n",
      "+----------+-----------+------------------+\n",
      "\n"
     ]
    },
    {
     "name": "stderr",
     "output_type": "stream",
     "text": [
      "\r",
      "                                                                                \r"
     ]
    }
   ],
   "source": [
    "df.groupBy('department').agg(sum(\"salary\"),avg(\"bonus\")).show()"
   ]
  },
  {
   "cell_type": "markdown",
   "id": "5fa3c1bd",
   "metadata": {},
   "source": [
    "### Creating a temp View to write native SQL commands"
   ]
  },
  {
   "cell_type": "code",
   "execution_count": 15,
   "id": "5648106c",
   "metadata": {},
   "outputs": [],
   "source": [
    "df.createOrReplaceTempView(\"ida\")"
   ]
  },
  {
   "cell_type": "code",
   "execution_count": 17,
   "id": "ac8e459a",
   "metadata": {},
   "outputs": [
    {
     "name": "stdout",
     "output_type": "stream",
     "text": [
      "+-------------+----------+-----+------+---+-----+\n",
      "|employee_name|department|state|salary|age|bonus|\n",
      "+-------------+----------+-----+------+---+-----+\n",
      "|        James|     Sales|   NY| 90000| 34|10000|\n",
      "|      Michael|     Sales|   NY| 86000| 56|20000|\n",
      "|       Robert|     Sales|   CA| 81000| 30|23000|\n",
      "|        Maria|   Finance|   CA| 90000| 24|23000|\n",
      "|        Raman|   Finance|   CA| 99000| 40|24000|\n",
      "|        Scott|   Finance|   NY| 83000| 36|19000|\n",
      "|          Jen|   Finance|   NY| 79000| 53|15000|\n",
      "|         Jeff| Marketing|   CA| 80000| 25|18000|\n",
      "|        Kumar| Marketing|   NY| 91000| 50|21000|\n",
      "+-------------+----------+-----+------+---+-----+\n",
      "\n"
     ]
    }
   ],
   "source": [
    "spark.sql(\"select * from ida\").show()"
   ]
  },
  {
   "cell_type": "markdown",
   "id": "c4704568",
   "metadata": {},
   "source": [
    "### Applying Group by with aggregation functions"
   ]
  },
  {
   "cell_type": "code",
   "execution_count": 18,
   "id": "8267359c",
   "metadata": {},
   "outputs": [],
   "source": [
    "temp = df.groupBy(\"department\",\"state\").agg(sum(\"salary\").alias(\"sum_salary\"),avg(\"salary\").alias(\"avg_salary\")).where(col(\"avg_salary\")>80000)"
   ]
  },
  {
   "cell_type": "code",
   "execution_count": 19,
   "id": "1c560207",
   "metadata": {},
   "outputs": [
    {
     "name": "stdout",
     "output_type": "stream",
     "text": [
      "+----------+-----+----------+----------+\n",
      "|department|state|sum_salary|avg_salary|\n",
      "+----------+-----+----------+----------+\n",
      "|     Sales|   CA|     81000|   81000.0|\n",
      "|   Finance|   CA|    189000|   94500.0|\n",
      "|     Sales|   NY|    176000|   88000.0|\n",
      "|   Finance|   NY|    162000|   81000.0|\n",
      "| Marketing|   NY|     91000|   91000.0|\n",
      "+----------+-----+----------+----------+\n",
      "\n"
     ]
    }
   ],
   "source": [
    "temp.show()"
   ]
  },
  {
   "cell_type": "markdown",
   "id": "be544776",
   "metadata": {},
   "source": [
    "### Creating a new  Managed database"
   ]
  },
  {
   "cell_type": "code",
   "execution_count": 20,
   "id": "4aa18832",
   "metadata": {},
   "outputs": [
    {
     "data": {
      "text/plain": [
       "DataFrame[]"
      ]
     },
     "execution_count": 20,
     "metadata": {},
     "output_type": "execute_result"
    }
   ],
   "source": [
    "spark.sql(\"CREATE DATABASE idashell\")"
   ]
  },
  {
   "cell_type": "code",
   "execution_count": 21,
   "id": "5c8fe893",
   "metadata": {},
   "outputs": [
    {
     "data": {
      "text/plain": [
       "DataFrame[]"
      ]
     },
     "execution_count": 21,
     "metadata": {},
     "output_type": "execute_result"
    }
   ],
   "source": [
    "spark.sql(\"USE idashell\")"
   ]
  },
  {
   "cell_type": "markdown",
   "id": "efd69bb3",
   "metadata": {},
   "source": [
    "### Saving the DataFrames into table"
   ]
  },
  {
   "cell_type": "code",
   "execution_count": 22,
   "id": "321acc2a",
   "metadata": {},
   "outputs": [
    {
     "name": "stderr",
     "output_type": "stream",
     "text": [
      "                                                                                \r"
     ]
    }
   ],
   "source": [
    "df.write.saveAsTable(\"test_tbl\")"
   ]
  },
  {
   "cell_type": "code",
   "execution_count": 23,
   "id": "1f825202",
   "metadata": {},
   "outputs": [
    {
     "name": "stdout",
     "output_type": "stream",
     "text": [
      "+--------------------+--------------------+-------+\n",
      "|            col_name|           data_type|comment|\n",
      "+--------------------+--------------------+-------+\n",
      "|       employee_name|              string|   null|\n",
      "|          department|              string|   null|\n",
      "|               state|              string|   null|\n",
      "|              salary|              bigint|   null|\n",
      "|                 age|              bigint|   null|\n",
      "|               bonus|              bigint|   null|\n",
      "|                    |                    |       |\n",
      "|# Detailed Table ...|                    |       |\n",
      "|             Catalog|       spark_catalog|       |\n",
      "|            Database|            idashell|       |\n",
      "|               Table|            test_tbl|       |\n",
      "|        Created Time|Mon Sep 25 05:23:...|       |\n",
      "|         Last Access|             UNKNOWN|       |\n",
      "|          Created By|         Spark 3.4.1|       |\n",
      "|                Type|             MANAGED|       |\n",
      "|            Provider|             parquet|       |\n",
      "|            Location|file:/home/labuse...|       |\n",
      "+--------------------+--------------------+-------+\n",
      "\n"
     ]
    }
   ],
   "source": [
    "test = spark.sql(\"DESCRIBE EXTENDED test_tbl\")\n",
    "test.show()"
   ]
  },
  {
   "cell_type": "code",
   "execution_count": 24,
   "id": "d9c1035c",
   "metadata": {
    "scrolled": true
   },
   "outputs": [
    {
     "name": "stdout",
     "output_type": "stream",
     "text": [
      "+-------------+----------+-----+------+---+-----+\n",
      "|employee_name|department|state|salary|age|bonus|\n",
      "+-------------+----------+-----+------+---+-----+\n",
      "|        James|     Sales|   NY| 90000| 34|10000|\n",
      "|      Michael|     Sales|   NY| 86000| 56|20000|\n",
      "|       Robert|     Sales|   CA| 81000| 30|23000|\n",
      "|        Maria|   Finance|   CA| 90000| 24|23000|\n",
      "|        Raman|   Finance|   CA| 99000| 40|24000|\n",
      "|        Scott|   Finance|   NY| 83000| 36|19000|\n",
      "|          Jen|   Finance|   NY| 79000| 53|15000|\n",
      "|         Jeff| Marketing|   CA| 80000| 25|18000|\n",
      "|        Kumar| Marketing|   NY| 91000| 50|21000|\n",
      "+-------------+----------+-----+------+---+-----+\n",
      "\n"
     ]
    }
   ],
   "source": [
    "spark.sql(\"select * from test_tbl\").show()"
   ]
  },
  {
   "cell_type": "code",
   "execution_count": 25,
   "id": "d194fb5c",
   "metadata": {},
   "outputs": [
    {
     "name": "stdout",
     "output_type": "stream",
     "text": [
      "+-------------+----------+-----+------+---+-----+\n",
      "|employee_name|department|state|salary|age|bonus|\n",
      "+-------------+----------+-----+------+---+-----+\n",
      "|       Robert|     Sales|   CA| 81000| 30|23000|\n",
      "|        Maria|   Finance|   CA| 90000| 24|23000|\n",
      "|        Raman|   Finance|   CA| 99000| 40|24000|\n",
      "|         Jeff| Marketing|   CA| 80000| 25|18000|\n",
      "+-------------+----------+-----+------+---+-----+\n",
      "\n"
     ]
    }
   ],
   "source": [
    "spark.sql(\"SELECT * FROM test_tbl WHERE state ='CA'\").show()"
   ]
  },
  {
   "cell_type": "code",
   "execution_count": 28,
   "id": "b7ac4421",
   "metadata": {},
   "outputs": [
    {
     "data": {
      "text/plain": [
       "DataFrame[]"
      ]
     },
     "execution_count": 28,
     "metadata": {},
     "output_type": "execute_result"
    }
   ],
   "source": [
    "spark.sql(\"drop table test_tbl\")"
   ]
  },
  {
   "cell_type": "code",
   "execution_count": 29,
   "id": "2aea2125",
   "metadata": {},
   "outputs": [
    {
     "data": {
      "text/plain": [
       "DataFrame[]"
      ]
     },
     "execution_count": 29,
     "metadata": {},
     "output_type": "execute_result"
    }
   ],
   "source": [
    "spark.sql(\"drop database idashell\")"
   ]
  },
  {
   "cell_type": "code",
   "execution_count": 30,
   "id": "c0893e42",
   "metadata": {},
   "outputs": [
    {
     "data": {
      "text/plain": [
       "DataFrame[]"
      ]
     },
     "execution_count": 30,
     "metadata": {},
     "output_type": "execute_result"
    }
   ],
   "source": [
    "spark.sql(\"CREATE DATABASE spark\")\n",
    "spark.sql(\"USE DATABASE spark\")"
   ]
  },
  {
   "cell_type": "code",
   "execution_count": 31,
   "id": "a189e33b",
   "metadata": {},
   "outputs": [
    {
     "name": "stderr",
     "output_type": "stream",
     "text": [
      "\r",
      "[Stage 18:=============================>                            (1 + 1) / 2]\r",
      "\r",
      "                                                                                \r"
     ]
    }
   ],
   "source": [
    "df.write.saveAsTable(\"employees\")"
   ]
  },
  {
   "cell_type": "code",
   "execution_count": 32,
   "id": "5903e4bd",
   "metadata": {},
   "outputs": [
    {
     "data": {
      "text/plain": [
       "DataFrame[employee_name: string, department: string, state: string, salary: bigint, age: bigint, bonus: bigint]"
      ]
     },
     "execution_count": 32,
     "metadata": {},
     "output_type": "execute_result"
    }
   ],
   "source": [
    "spark.sql(\"SELECT * FROM employees\")"
   ]
  },
  {
   "cell_type": "code",
   "execution_count": 33,
   "id": "a351e2e6",
   "metadata": {},
   "outputs": [
    {
     "data": {
      "text/plain": [
       "2"
      ]
     },
     "execution_count": 33,
     "metadata": {},
     "output_type": "execute_result"
    }
   ],
   "source": [
    "df.rdd.getNumPartitions()"
   ]
  },
  {
   "cell_type": "markdown",
   "id": "b1b4bcbe",
   "metadata": {},
   "source": [
    "## Saving the data frame in the local machine"
   ]
  },
  {
   "cell_type": "code",
   "execution_count": 34,
   "id": "129ab60a",
   "metadata": {},
   "outputs": [],
   "source": [
    "df.write.csv('/home/labuser/test/')"
   ]
  },
  {
   "cell_type": "markdown",
   "id": "3e9f5764",
   "metadata": {},
   "source": [
    "### Saving the data based on a single Column"
   ]
  },
  {
   "cell_type": "code",
   "execution_count": 36,
   "id": "2d46af47",
   "metadata": {},
   "outputs": [
    {
     "name": "stderr",
     "output_type": "stream",
     "text": [
      "                                                                                \r"
     ]
    }
   ],
   "source": [
    "df.write.partitionBy(\"department\").csv(\"/home/labuser/test_01/\")"
   ]
  },
  {
   "cell_type": "markdown",
   "id": "e5e3c579",
   "metadata": {},
   "source": [
    "### Saving the data based on multiple columns"
   ]
  },
  {
   "cell_type": "code",
   "execution_count": 37,
   "id": "814be35b",
   "metadata": {},
   "outputs": [
    {
     "name": "stderr",
     "output_type": "stream",
     "text": [
      "                                                                                \r"
     ]
    }
   ],
   "source": [
    "df.write.partitionBy(\"state\",\"department\").csv(\"/home/labuser/test_02/\")"
   ]
  },
  {
   "cell_type": "markdown",
   "id": "93c33b89",
   "metadata": {},
   "source": [
    "### For Each"
   ]
  },
  {
   "cell_type": "code",
   "execution_count": 38,
   "id": "03bdc4ef",
   "metadata": {},
   "outputs": [],
   "source": [
    "def f(df):\n",
    "    print(df.state)"
   ]
  },
  {
   "cell_type": "code",
   "execution_count": 39,
   "id": "4c35f033",
   "metadata": {},
   "outputs": [
    {
     "name": "stderr",
     "output_type": "stream",
     "text": [
      "CAtage 22:>                                                         (0 + 2) / 2]\n",
      "NY\n",
      "NY\n",
      "CA\n",
      "NY\n",
      "NY\n",
      "NY\n",
      "CA\n",
      "CA\n",
      "                                                                                \r"
     ]
    }
   ],
   "source": [
    "df.foreach(f)"
   ]
  },
  {
   "cell_type": "code",
   "execution_count": 40,
   "id": "08a08158",
   "metadata": {},
   "outputs": [],
   "source": [
    "json_data = [\n",
    "    '{\"name\": \"Alice\", \"age\": 25}',\n",
    "    '{\"name\": \"Bob\", \"age\": 30}',\n",
    "    '{\"name\": \"Charlie\", \"age\": 35}'\n",
    "]"
   ]
  },
  {
   "cell_type": "code",
   "execution_count": null,
   "id": "b0d32fee",
   "metadata": {},
   "outputs": [],
   "source": [
    "from pyspark.sql.functions import *\n",
    "from pyspark.sql.types import *\n",
    "schema = StructType([\n",
    "    StructField(\"name\", StringType(), True),\n",
    "    StructField(\"age\", IntegerType(), True)\n",
    "])\n"
   ]
  }
 ],
 "metadata": {
  "kernelspec": {
   "display_name": "Python 3 (ipykernel)",
   "language": "python",
   "name": "python3"
  },
  "language_info": {
   "codemirror_mode": {
    "name": "ipython",
    "version": 3
   },
   "file_extension": ".py",
   "mimetype": "text/x-python",
   "name": "python",
   "nbconvert_exporter": "python",
   "pygments_lexer": "ipython3",
   "version": "3.11.4"
  }
 },
 "nbformat": 4,
 "nbformat_minor": 5
}
